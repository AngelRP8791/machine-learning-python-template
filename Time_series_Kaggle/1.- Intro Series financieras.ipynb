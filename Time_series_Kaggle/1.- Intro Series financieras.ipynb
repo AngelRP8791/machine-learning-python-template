{
  "cells": [
    {
      "cell_type": "markdown",
      "metadata": {
        "id": "N1tu_SS-sl1q"
      },
      "source": [
        "# Introducción a la series de tiempo\n",
        "\n",
        "El siguiente cuaderno tiene como objetivo introducir al lector al manejo básico de las series de tiempo en python.\n",
        "\n",
        "Las librerías necesarias son:\n",
        "  * pandas\n",
        "  * matplotlib\n",
        "\n"
      ]
    },
    {
      "cell_type": "code",
      "execution_count": 1,
      "metadata": {},
      "outputs": [
        {
          "name": "stdout",
          "output_type": "stream",
          "text": [
            "Requirement already satisfied: pandas in c:\\users\\angel resendiz plata\\appdata\\local\\programs\\python\\python311\\lib\\site-packages (2.3.2)\n",
            "Requirement already satisfied: numpy>=1.23.2 in c:\\users\\angel resendiz plata\\appdata\\local\\programs\\python\\python311\\lib\\site-packages (from pandas) (1.25.2)\n",
            "Requirement already satisfied: python-dateutil>=2.8.2 in c:\\users\\angel resendiz plata\\appdata\\local\\programs\\python\\python311\\lib\\site-packages (from pandas) (2.9.0.post0)\n",
            "Requirement already satisfied: pytz>=2020.1 in c:\\users\\angel resendiz plata\\appdata\\local\\programs\\python\\python311\\lib\\site-packages (from pandas) (2025.2)\n",
            "Requirement already satisfied: tzdata>=2022.7 in c:\\users\\angel resendiz plata\\appdata\\local\\programs\\python\\python311\\lib\\site-packages (from pandas) (2025.2)\n",
            "Requirement already satisfied: six>=1.5 in c:\\users\\angel resendiz plata\\appdata\\local\\programs\\python\\python311\\lib\\site-packages (from python-dateutil>=2.8.2->pandas) (1.17.0)\n",
            "Note: you may need to restart the kernel to use updated packages.\n"
          ]
        }
      ],
      "source": [
        "pip install pandas"
      ]
    },
    {
      "cell_type": "code",
      "execution_count": 2,
      "metadata": {},
      "outputs": [
        {
          "name": "stdout",
          "output_type": "stream",
          "text": [
            "Requirement already satisfied: pip in c:\\users\\angel resendiz plata\\appdata\\local\\programs\\python\\python311\\lib\\site-packages (25.2)\n",
            "Note: you may need to restart the kernel to use updated packages.\n"
          ]
        }
      ],
      "source": [
        "pip install --upgrade pip"
      ]
    },
    {
      "cell_type": "code",
      "execution_count": 3,
      "metadata": {},
      "outputs": [
        {
          "name": "stdout",
          "output_type": "stream",
          "text": [
            "Requirement already satisfied: matplotlib in c:\\users\\angel resendiz plata\\appdata\\local\\programs\\python\\python311\\lib\\site-packages (3.10.5)\n",
            "Requirement already satisfied: contourpy>=1.0.1 in c:\\users\\angel resendiz plata\\appdata\\local\\programs\\python\\python311\\lib\\site-packages (from matplotlib) (1.3.3)\n",
            "Requirement already satisfied: cycler>=0.10 in c:\\users\\angel resendiz plata\\appdata\\local\\programs\\python\\python311\\lib\\site-packages (from matplotlib) (0.12.1)\n",
            "Requirement already satisfied: fonttools>=4.22.0 in c:\\users\\angel resendiz plata\\appdata\\local\\programs\\python\\python311\\lib\\site-packages (from matplotlib) (4.59.1)\n",
            "Requirement already satisfied: kiwisolver>=1.3.1 in c:\\users\\angel resendiz plata\\appdata\\local\\programs\\python\\python311\\lib\\site-packages (from matplotlib) (1.4.9)\n",
            "Requirement already satisfied: numpy>=1.23 in c:\\users\\angel resendiz plata\\appdata\\local\\programs\\python\\python311\\lib\\site-packages (from matplotlib) (1.25.2)\n",
            "Requirement already satisfied: packaging>=20.0 in c:\\users\\angel resendiz plata\\appdata\\local\\programs\\python\\python311\\lib\\site-packages (from matplotlib) (25.0)\n",
            "Requirement already satisfied: pillow>=8 in c:\\users\\angel resendiz plata\\appdata\\local\\programs\\python\\python311\\lib\\site-packages (from matplotlib) (11.3.0)\n",
            "Requirement already satisfied: pyparsing>=2.3.1 in c:\\users\\angel resendiz plata\\appdata\\local\\programs\\python\\python311\\lib\\site-packages (from matplotlib) (3.2.3)\n",
            "Requirement already satisfied: python-dateutil>=2.7 in c:\\users\\angel resendiz plata\\appdata\\local\\programs\\python\\python311\\lib\\site-packages (from matplotlib) (2.9.0.post0)\n",
            "Requirement already satisfied: six>=1.5 in c:\\users\\angel resendiz plata\\appdata\\local\\programs\\python\\python311\\lib\\site-packages (from python-dateutil>=2.7->matplotlib) (1.17.0)\n",
            "Note: you may need to restart the kernel to use updated packages.\n"
          ]
        }
      ],
      "source": [
        "pip install matplotlib"
      ]
    },
    {
      "cell_type": "code",
      "execution_count": 4,
      "metadata": {
        "id": "d1pVLc4Wsgd_"
      },
      "outputs": [],
      "source": [
        "# load libraries\n",
        "import pandas as pd\n",
        "import matplotlib.pyplot as plt"
      ]
    },
    {
      "cell_type": "code",
      "execution_count": 5,
      "metadata": {
        "id": "077oOVgjt5dz"
      },
      "outputs": [],
      "source": [
        "url = r\"C:\\Users\\Angel Resendiz Plata\\OneDrive\\Documentos\\Programación\\4Geeks\\Guía programa\\23.- Time Series Forecasting\\Ejercicios\\Datos\\acea-water-prediction\\Aquifer_Petrignano.csv\""
      ]
    },
    {
      "cell_type": "code",
      "execution_count": 6,
      "metadata": {
        "id": "S5mEydPBuL2m"
      },
      "outputs": [],
      "source": [
        "df = pd.read_csv(url)"
      ]
    },
    {
      "cell_type": "code",
      "execution_count": 7,
      "metadata": {
        "colab": {
          "base_uri": "https://localhost:8080/",
          "height": 206
        },
        "id": "KtgpJFLWbW1n",
        "outputId": "96f92c97-403c-4c6a-e511-946c379ae73f"
      },
      "outputs": [
        {
          "data": {
            "text/html": [
              "<div>\n",
              "<style scoped>\n",
              "    .dataframe tbody tr th:only-of-type {\n",
              "        vertical-align: middle;\n",
              "    }\n",
              "\n",
              "    .dataframe tbody tr th {\n",
              "        vertical-align: top;\n",
              "    }\n",
              "\n",
              "    .dataframe thead th {\n",
              "        text-align: right;\n",
              "    }\n",
              "</style>\n",
              "<table border=\"1\" class=\"dataframe\">\n",
              "  <thead>\n",
              "    <tr style=\"text-align: right;\">\n",
              "      <th></th>\n",
              "      <th>Date</th>\n",
              "      <th>Rainfall_Bastia_Umbra</th>\n",
              "      <th>Depth_to_Groundwater_P24</th>\n",
              "      <th>Depth_to_Groundwater_P25</th>\n",
              "      <th>Temperature_Bastia_Umbra</th>\n",
              "      <th>Temperature_Petrignano</th>\n",
              "      <th>Volume_C10_Petrignano</th>\n",
              "      <th>Hydrometry_Fiume_Chiascio_Petrignano</th>\n",
              "    </tr>\n",
              "  </thead>\n",
              "  <tbody>\n",
              "    <tr>\n",
              "      <th>0</th>\n",
              "      <td>14/03/2006</td>\n",
              "      <td>NaN</td>\n",
              "      <td>-22.48</td>\n",
              "      <td>-22.18</td>\n",
              "      <td>NaN</td>\n",
              "      <td>NaN</td>\n",
              "      <td>NaN</td>\n",
              "      <td>NaN</td>\n",
              "    </tr>\n",
              "    <tr>\n",
              "      <th>1</th>\n",
              "      <td>15/03/2006</td>\n",
              "      <td>NaN</td>\n",
              "      <td>-22.38</td>\n",
              "      <td>-22.14</td>\n",
              "      <td>NaN</td>\n",
              "      <td>NaN</td>\n",
              "      <td>NaN</td>\n",
              "      <td>NaN</td>\n",
              "    </tr>\n",
              "    <tr>\n",
              "      <th>2</th>\n",
              "      <td>16/03/2006</td>\n",
              "      <td>NaN</td>\n",
              "      <td>-22.25</td>\n",
              "      <td>-22.04</td>\n",
              "      <td>NaN</td>\n",
              "      <td>NaN</td>\n",
              "      <td>NaN</td>\n",
              "      <td>NaN</td>\n",
              "    </tr>\n",
              "    <tr>\n",
              "      <th>3</th>\n",
              "      <td>17/03/2006</td>\n",
              "      <td>NaN</td>\n",
              "      <td>-22.38</td>\n",
              "      <td>-22.04</td>\n",
              "      <td>NaN</td>\n",
              "      <td>NaN</td>\n",
              "      <td>NaN</td>\n",
              "      <td>NaN</td>\n",
              "    </tr>\n",
              "    <tr>\n",
              "      <th>4</th>\n",
              "      <td>18/03/2006</td>\n",
              "      <td>NaN</td>\n",
              "      <td>-22.60</td>\n",
              "      <td>-22.04</td>\n",
              "      <td>NaN</td>\n",
              "      <td>NaN</td>\n",
              "      <td>NaN</td>\n",
              "      <td>NaN</td>\n",
              "    </tr>\n",
              "    <tr>\n",
              "      <th>...</th>\n",
              "      <td>...</td>\n",
              "      <td>...</td>\n",
              "      <td>...</td>\n",
              "      <td>...</td>\n",
              "      <td>...</td>\n",
              "      <td>...</td>\n",
              "      <td>...</td>\n",
              "      <td>...</td>\n",
              "    </tr>\n",
              "    <tr>\n",
              "      <th>5218</th>\n",
              "      <td>26/06/2020</td>\n",
              "      <td>0.0</td>\n",
              "      <td>-25.68</td>\n",
              "      <td>-25.07</td>\n",
              "      <td>25.7</td>\n",
              "      <td>24.5</td>\n",
              "      <td>-29930.688</td>\n",
              "      <td>2.5</td>\n",
              "    </tr>\n",
              "    <tr>\n",
              "      <th>5219</th>\n",
              "      <td>27/06/2020</td>\n",
              "      <td>0.0</td>\n",
              "      <td>-25.80</td>\n",
              "      <td>-25.11</td>\n",
              "      <td>26.2</td>\n",
              "      <td>25.0</td>\n",
              "      <td>-31332.960</td>\n",
              "      <td>2.4</td>\n",
              "    </tr>\n",
              "    <tr>\n",
              "      <th>5220</th>\n",
              "      <td>28/06/2020</td>\n",
              "      <td>0.0</td>\n",
              "      <td>-25.80</td>\n",
              "      <td>-25.19</td>\n",
              "      <td>26.9</td>\n",
              "      <td>25.7</td>\n",
              "      <td>-32120.928</td>\n",
              "      <td>2.4</td>\n",
              "    </tr>\n",
              "    <tr>\n",
              "      <th>5221</th>\n",
              "      <td>29/06/2020</td>\n",
              "      <td>0.0</td>\n",
              "      <td>-25.78</td>\n",
              "      <td>-25.18</td>\n",
              "      <td>26.9</td>\n",
              "      <td>26.0</td>\n",
              "      <td>-30602.880</td>\n",
              "      <td>2.4</td>\n",
              "    </tr>\n",
              "    <tr>\n",
              "      <th>5222</th>\n",
              "      <td>30/06/2020</td>\n",
              "      <td>0.0</td>\n",
              "      <td>-25.91</td>\n",
              "      <td>-25.25</td>\n",
              "      <td>27.3</td>\n",
              "      <td>26.5</td>\n",
              "      <td>-31878.144</td>\n",
              "      <td>2.4</td>\n",
              "    </tr>\n",
              "  </tbody>\n",
              "</table>\n",
              "<p>5223 rows × 8 columns</p>\n",
              "</div>"
            ],
            "text/plain": [
              "            Date  Rainfall_Bastia_Umbra  Depth_to_Groundwater_P24  \\\n",
              "0     14/03/2006                    NaN                    -22.48   \n",
              "1     15/03/2006                    NaN                    -22.38   \n",
              "2     16/03/2006                    NaN                    -22.25   \n",
              "3     17/03/2006                    NaN                    -22.38   \n",
              "4     18/03/2006                    NaN                    -22.60   \n",
              "...          ...                    ...                       ...   \n",
              "5218  26/06/2020                    0.0                    -25.68   \n",
              "5219  27/06/2020                    0.0                    -25.80   \n",
              "5220  28/06/2020                    0.0                    -25.80   \n",
              "5221  29/06/2020                    0.0                    -25.78   \n",
              "5222  30/06/2020                    0.0                    -25.91   \n",
              "\n",
              "      Depth_to_Groundwater_P25  Temperature_Bastia_Umbra  \\\n",
              "0                       -22.18                       NaN   \n",
              "1                       -22.14                       NaN   \n",
              "2                       -22.04                       NaN   \n",
              "3                       -22.04                       NaN   \n",
              "4                       -22.04                       NaN   \n",
              "...                        ...                       ...   \n",
              "5218                    -25.07                      25.7   \n",
              "5219                    -25.11                      26.2   \n",
              "5220                    -25.19                      26.9   \n",
              "5221                    -25.18                      26.9   \n",
              "5222                    -25.25                      27.3   \n",
              "\n",
              "      Temperature_Petrignano  Volume_C10_Petrignano  \\\n",
              "0                        NaN                    NaN   \n",
              "1                        NaN                    NaN   \n",
              "2                        NaN                    NaN   \n",
              "3                        NaN                    NaN   \n",
              "4                        NaN                    NaN   \n",
              "...                      ...                    ...   \n",
              "5218                    24.5             -29930.688   \n",
              "5219                    25.0             -31332.960   \n",
              "5220                    25.7             -32120.928   \n",
              "5221                    26.0             -30602.880   \n",
              "5222                    26.5             -31878.144   \n",
              "\n",
              "      Hydrometry_Fiume_Chiascio_Petrignano  \n",
              "0                                      NaN  \n",
              "1                                      NaN  \n",
              "2                                      NaN  \n",
              "3                                      NaN  \n",
              "4                                      NaN  \n",
              "...                                    ...  \n",
              "5218                                   2.5  \n",
              "5219                                   2.4  \n",
              "5220                                   2.4  \n",
              "5221                                   2.4  \n",
              "5222                                   2.4  \n",
              "\n",
              "[5223 rows x 8 columns]"
            ]
          },
          "execution_count": 7,
          "metadata": {},
          "output_type": "execute_result"
        }
      ],
      "source": [
        "df2 = df.copy()\n",
        "df2"
      ]
    },
    {
      "cell_type": "code",
      "execution_count": 8,
      "metadata": {},
      "outputs": [
        {
          "name": "stdout",
          "output_type": "stream",
          "text": [
            "\n",
            "--- Conteo de NaN ---\n",
            "Date                                       0\n",
            "Rainfall_Bastia_Umbra                   1024\n",
            "Depth_to_Groundwater_P24                  55\n",
            "Depth_to_Groundwater_P25                  39\n",
            "Temperature_Bastia_Umbra                1024\n",
            "Temperature_Petrignano                  1024\n",
            "Volume_C10_Petrignano                    198\n",
            "Hydrometry_Fiume_Chiascio_Petrignano    1024\n",
            "dtype: int64\n",
            "\n",
            "--- Conteo de 0 ---\n",
            "Date                                       0\n",
            "Rainfall_Bastia_Umbra                   3147\n",
            "Depth_to_Groundwater_P24                   0\n",
            "Depth_to_Groundwater_P25                   0\n",
            "Temperature_Bastia_Umbra                   7\n",
            "Temperature_Petrignano                   153\n",
            "Volume_C10_Petrignano                     30\n",
            "Hydrometry_Fiume_Chiascio_Petrignano     150\n",
            "dtype: int64\n"
          ]
        }
      ],
      "source": [
        "# Contar NaN por columna\n",
        "print(\"\\n--- Conteo de NaN ---\")\n",
        "print(df2.isnull().sum())\n",
        "\n",
        "# Contar 0 por columna\n",
        "print(\"\\n--- Conteo de 0 ---\")\n",
        "print(df.eq(0).sum())"
      ]
    },
    {
      "cell_type": "code",
      "execution_count": 9,
      "metadata": {},
      "outputs": [],
      "source": [
        "columnas_a_eliminar = [\"Rainfall_Bastia_Umbra\", \n",
        "                       \"Temperature_Bastia_Umbra\", \n",
        "                       \"Temperature_Petrignano\",\n",
        "                       \"Volume_C10_Petrignano\",\n",
        "                       \"Hydrometry_Fiume_Chiascio_Petrignano\"]\n",
        "df2 = df.drop(columns=columnas_a_eliminar, axis=1)"
      ]
    },
    {
      "cell_type": "code",
      "execution_count": 10,
      "metadata": {},
      "outputs": [
        {
          "name": "stdout",
          "output_type": "stream",
          "text": [
            "\n",
            "--- Conteo de NaN ---\n",
            "Date                         0\n",
            "Depth_to_Groundwater_P24    55\n",
            "Depth_to_Groundwater_P25    39\n",
            "dtype: int64\n",
            "\n",
            "--- Conteo de 0 ---\n",
            "Date                        0\n",
            "Depth_to_Groundwater_P24    0\n",
            "Depth_to_Groundwater_P25    0\n",
            "dtype: int64\n"
          ]
        }
      ],
      "source": [
        "# Contar NaN por columna\n",
        "print(\"\\n--- Conteo de NaN ---\")\n",
        "print(df2.isnull().sum())\n",
        "\n",
        "# Contar 0 por columna\n",
        "print(\"\\n--- Conteo de 0 ---\")\n",
        "print(df2.eq(0).sum())"
      ]
    },
    {
      "cell_type": "code",
      "execution_count": 11,
      "metadata": {},
      "outputs": [],
      "source": [
        "df2 = df2.dropna(subset=['Depth_to_Groundwater_P24', 'Depth_to_Groundwater_P25'])"
      ]
    },
    {
      "cell_type": "code",
      "execution_count": 12,
      "metadata": {},
      "outputs": [
        {
          "name": "stdout",
          "output_type": "stream",
          "text": [
            "\n",
            "--- Conteo de NaN ---\n",
            "Date                        0\n",
            "Depth_to_Groundwater_P24    0\n",
            "Depth_to_Groundwater_P25    0\n",
            "dtype: int64\n",
            "\n",
            "--- Conteo de 0 ---\n",
            "Date                        0\n",
            "Depth_to_Groundwater_P24    0\n",
            "Depth_to_Groundwater_P25    0\n",
            "dtype: int64\n"
          ]
        }
      ],
      "source": [
        "# Contar NaN por columna\n",
        "print(\"\\n--- Conteo de NaN ---\")\n",
        "print(df2.isnull().sum())\n",
        "\n",
        "# Contar 0 por columna\n",
        "print(\"\\n--- Conteo de 0 ---\")\n",
        "print(df2.eq(0).sum())"
      ]
    },
    {
      "cell_type": "code",
      "execution_count": 13,
      "metadata": {},
      "outputs": [
        {
          "data": {
            "text/html": [
              "<div>\n",
              "<style scoped>\n",
              "    .dataframe tbody tr th:only-of-type {\n",
              "        vertical-align: middle;\n",
              "    }\n",
              "\n",
              "    .dataframe tbody tr th {\n",
              "        vertical-align: top;\n",
              "    }\n",
              "\n",
              "    .dataframe thead th {\n",
              "        text-align: right;\n",
              "    }\n",
              "</style>\n",
              "<table border=\"1\" class=\"dataframe\">\n",
              "  <thead>\n",
              "    <tr style=\"text-align: right;\">\n",
              "      <th></th>\n",
              "      <th>Date</th>\n",
              "      <th>Depth_to_Groundwater_P24</th>\n",
              "      <th>Depth_to_Groundwater_P25</th>\n",
              "    </tr>\n",
              "  </thead>\n",
              "  <tbody>\n",
              "    <tr>\n",
              "      <th>0</th>\n",
              "      <td>14/03/2006</td>\n",
              "      <td>-22.48</td>\n",
              "      <td>-22.18</td>\n",
              "    </tr>\n",
              "    <tr>\n",
              "      <th>1</th>\n",
              "      <td>15/03/2006</td>\n",
              "      <td>-22.38</td>\n",
              "      <td>-22.14</td>\n",
              "    </tr>\n",
              "    <tr>\n",
              "      <th>2</th>\n",
              "      <td>16/03/2006</td>\n",
              "      <td>-22.25</td>\n",
              "      <td>-22.04</td>\n",
              "    </tr>\n",
              "    <tr>\n",
              "      <th>3</th>\n",
              "      <td>17/03/2006</td>\n",
              "      <td>-22.38</td>\n",
              "      <td>-22.04</td>\n",
              "    </tr>\n",
              "    <tr>\n",
              "      <th>4</th>\n",
              "      <td>18/03/2006</td>\n",
              "      <td>-22.60</td>\n",
              "      <td>-22.04</td>\n",
              "    </tr>\n",
              "    <tr>\n",
              "      <th>...</th>\n",
              "      <td>...</td>\n",
              "      <td>...</td>\n",
              "      <td>...</td>\n",
              "    </tr>\n",
              "    <tr>\n",
              "      <th>5218</th>\n",
              "      <td>26/06/2020</td>\n",
              "      <td>-25.68</td>\n",
              "      <td>-25.07</td>\n",
              "    </tr>\n",
              "    <tr>\n",
              "      <th>5219</th>\n",
              "      <td>27/06/2020</td>\n",
              "      <td>-25.80</td>\n",
              "      <td>-25.11</td>\n",
              "    </tr>\n",
              "    <tr>\n",
              "      <th>5220</th>\n",
              "      <td>28/06/2020</td>\n",
              "      <td>-25.80</td>\n",
              "      <td>-25.19</td>\n",
              "    </tr>\n",
              "    <tr>\n",
              "      <th>5221</th>\n",
              "      <td>29/06/2020</td>\n",
              "      <td>-25.78</td>\n",
              "      <td>-25.18</td>\n",
              "    </tr>\n",
              "    <tr>\n",
              "      <th>5222</th>\n",
              "      <td>30/06/2020</td>\n",
              "      <td>-25.91</td>\n",
              "      <td>-25.25</td>\n",
              "    </tr>\n",
              "  </tbody>\n",
              "</table>\n",
              "<p>5157 rows × 3 columns</p>\n",
              "</div>"
            ],
            "text/plain": [
              "            Date  Depth_to_Groundwater_P24  Depth_to_Groundwater_P25\n",
              "0     14/03/2006                    -22.48                    -22.18\n",
              "1     15/03/2006                    -22.38                    -22.14\n",
              "2     16/03/2006                    -22.25                    -22.04\n",
              "3     17/03/2006                    -22.38                    -22.04\n",
              "4     18/03/2006                    -22.60                    -22.04\n",
              "...          ...                       ...                       ...\n",
              "5218  26/06/2020                    -25.68                    -25.07\n",
              "5219  27/06/2020                    -25.80                    -25.11\n",
              "5220  28/06/2020                    -25.80                    -25.19\n",
              "5221  29/06/2020                    -25.78                    -25.18\n",
              "5222  30/06/2020                    -25.91                    -25.25\n",
              "\n",
              "[5157 rows x 3 columns]"
            ]
          },
          "execution_count": 13,
          "metadata": {},
          "output_type": "execute_result"
        }
      ],
      "source": [
        "df2"
      ]
    },
    {
      "cell_type": "code",
      "execution_count": 14,
      "metadata": {
        "colab": {
          "base_uri": "https://localhost:8080/",
          "height": 303
        },
        "id": "X4obQsq3UYZv",
        "outputId": "4b2c7a42-e65a-45f2-f727-315d14c5c423"
      },
      "outputs": [
        {
          "data": {
            "text/plain": [
              "Date                         object\n",
              "Depth_to_Groundwater_P24    float64\n",
              "Depth_to_Groundwater_P25    float64\n",
              "dtype: object"
            ]
          },
          "execution_count": 14,
          "metadata": {},
          "output_type": "execute_result"
        }
      ],
      "source": [
        "df2.dtypes"
      ]
    },
    {
      "cell_type": "markdown",
      "metadata": {
        "id": "UuB5KKUzuViS"
      },
      "source": [
        "# visualizar"
      ]
    },
    {
      "cell_type": "code",
      "execution_count": 15,
      "metadata": {
        "colab": {
          "base_uri": "https://localhost:8080/",
          "height": 448
        },
        "id": "XVKZDIjYuQqG",
        "outputId": "955def2f-dbc9-4ae6-a85e-670400b5e316"
      },
      "outputs": [
        {
          "data": {
            "text/plain": [
              "[<matplotlib.lines.Line2D at 0x24f3a22d390>]"
            ]
          },
          "execution_count": 15,
          "metadata": {},
          "output_type": "execute_result"
        },
        {
          "data": {
            "image/png": "[encoded data removed]",
            "text/plain": [
              "<Figure size 640x480 with 1 Axes>"
            ]
          },
          "metadata": {},
          "output_type": "display_data"
        }
      ],
      "source": [
        "plt.plot(df2['Date'], df2['Depth_to_Groundwater_P24'])\n",
        "plt.plot(df2['Date'], df2['Depth_to_Groundwater_P25'])"
      ]
    },
    {
      "cell_type": "markdown",
      "metadata": {},
      "source": [
        "Graficar"
      ]
    },
    {
      "cell_type": "code",
      "execution_count": 16,
      "metadata": {
        "colab": {
          "base_uri": "https://localhost:8080/",
          "height": 490
        },
        "id": "D4xt7D0Lvv4H",
        "outputId": "7bd0315f-8658-4351-f8a0-7393929464fb"
      },
      "outputs": [
        {
          "data": {
            "text/plain": [
              "Text(0.5, 0, 'time')"
            ]
          },
          "execution_count": 16,
          "metadata": {},
          "output_type": "execute_result"
        },
        {
          "data": {
            "image/png": "[encoded data removed]",
            "text/plain": [
              "<Figure size 640x480 with 1 Axes>"
            ]
          },
          "metadata": {},
          "output_type": "display_data"
        }
      ],
      "source": [
        "plt.plot(df2['Date'], df2['Depth_to_Groundwater_P24'])\n",
        "plt.plot(df2['Date'], df2['Depth_to_Groundwater_P25'])\n",
        "plt.title(\"Aquifer\")\n",
        "plt.ylabel(\"Temp\")\n",
        "plt.xlabel(\"time\")"
      ]
    },
    {
      "cell_type": "code",
      "execution_count": 17,
      "metadata": {
        "id": "6AuHm2Z5wBUW"
      },
      "outputs": [
        {
          "name": "stderr",
          "output_type": "stream",
          "text": [
            "C:\\Users\\Angel Resendiz Plata\\AppData\\Local\\Temp\\ipykernel_4888\\3431971326.py:1: UserWarning: Parsing dates in %d/%m/%Y format when dayfirst=False (the default) was specified. Pass `dayfirst=True` or specify a format to silence this warning.\n",
            "  df2['time'] = pd.to_datetime(df2['Date'])\n"
          ]
        }
      ],
      "source": [
        "df2['time'] = pd.to_datetime(df2['Date'])\n"
      ]
    },
    {
      "cell_type": "code",
      "execution_count": 18,
      "metadata": {},
      "outputs": [
        {
          "data": {
            "text/html": [
              "<div>\n",
              "<style scoped>\n",
              "    .dataframe tbody tr th:only-of-type {\n",
              "        vertical-align: middle;\n",
              "    }\n",
              "\n",
              "    .dataframe tbody tr th {\n",
              "        vertical-align: top;\n",
              "    }\n",
              "\n",
              "    .dataframe thead th {\n",
              "        text-align: right;\n",
              "    }\n",
              "</style>\n",
              "<table border=\"1\" class=\"dataframe\">\n",
              "  <thead>\n",
              "    <tr style=\"text-align: right;\">\n",
              "      <th></th>\n",
              "      <th>Date</th>\n",
              "      <th>Depth_to_Groundwater_P24</th>\n",
              "      <th>Depth_to_Groundwater_P25</th>\n",
              "      <th>time</th>\n",
              "    </tr>\n",
              "  </thead>\n",
              "  <tbody>\n",
              "    <tr>\n",
              "      <th>0</th>\n",
              "      <td>14/03/2006</td>\n",
              "      <td>-22.48</td>\n",
              "      <td>-22.18</td>\n",
              "      <td>2006-03-14</td>\n",
              "    </tr>\n",
              "    <tr>\n",
              "      <th>1</th>\n",
              "      <td>15/03/2006</td>\n",
              "      <td>-22.38</td>\n",
              "      <td>-22.14</td>\n",
              "      <td>2006-03-15</td>\n",
              "    </tr>\n",
              "    <tr>\n",
              "      <th>2</th>\n",
              "      <td>16/03/2006</td>\n",
              "      <td>-22.25</td>\n",
              "      <td>-22.04</td>\n",
              "      <td>2006-03-16</td>\n",
              "    </tr>\n",
              "    <tr>\n",
              "      <th>3</th>\n",
              "      <td>17/03/2006</td>\n",
              "      <td>-22.38</td>\n",
              "      <td>-22.04</td>\n",
              "      <td>2006-03-17</td>\n",
              "    </tr>\n",
              "    <tr>\n",
              "      <th>4</th>\n",
              "      <td>18/03/2006</td>\n",
              "      <td>-22.60</td>\n",
              "      <td>-22.04</td>\n",
              "      <td>2006-03-18</td>\n",
              "    </tr>\n",
              "    <tr>\n",
              "      <th>...</th>\n",
              "      <td>...</td>\n",
              "      <td>...</td>\n",
              "      <td>...</td>\n",
              "      <td>...</td>\n",
              "    </tr>\n",
              "    <tr>\n",
              "      <th>5218</th>\n",
              "      <td>26/06/2020</td>\n",
              "      <td>-25.68</td>\n",
              "      <td>-25.07</td>\n",
              "      <td>2020-06-26</td>\n",
              "    </tr>\n",
              "    <tr>\n",
              "      <th>5219</th>\n",
              "      <td>27/06/2020</td>\n",
              "      <td>-25.80</td>\n",
              "      <td>-25.11</td>\n",
              "      <td>2020-06-27</td>\n",
              "    </tr>\n",
              "    <tr>\n",
              "      <th>5220</th>\n",
              "      <td>28/06/2020</td>\n",
              "      <td>-25.80</td>\n",
              "      <td>-25.19</td>\n",
              "      <td>2020-06-28</td>\n",
              "    </tr>\n",
              "    <tr>\n",
              "      <th>5221</th>\n",
              "      <td>29/06/2020</td>\n",
              "      <td>-25.78</td>\n",
              "      <td>-25.18</td>\n",
              "      <td>2020-06-29</td>\n",
              "    </tr>\n",
              "    <tr>\n",
              "      <th>5222</th>\n",
              "      <td>30/06/2020</td>\n",
              "      <td>-25.91</td>\n",
              "      <td>-25.25</td>\n",
              "      <td>2020-06-30</td>\n",
              "    </tr>\n",
              "  </tbody>\n",
              "</table>\n",
              "<p>5157 rows × 4 columns</p>\n",
              "</div>"
            ],
            "text/plain": [
              "            Date  Depth_to_Groundwater_P24  Depth_to_Groundwater_P25  \\\n",
              "0     14/03/2006                    -22.48                    -22.18   \n",
              "1     15/03/2006                    -22.38                    -22.14   \n",
              "2     16/03/2006                    -22.25                    -22.04   \n",
              "3     17/03/2006                    -22.38                    -22.04   \n",
              "4     18/03/2006                    -22.60                    -22.04   \n",
              "...          ...                       ...                       ...   \n",
              "5218  26/06/2020                    -25.68                    -25.07   \n",
              "5219  27/06/2020                    -25.80                    -25.11   \n",
              "5220  28/06/2020                    -25.80                    -25.19   \n",
              "5221  29/06/2020                    -25.78                    -25.18   \n",
              "5222  30/06/2020                    -25.91                    -25.25   \n",
              "\n",
              "           time  \n",
              "0    2006-03-14  \n",
              "1    2006-03-15  \n",
              "2    2006-03-16  \n",
              "3    2006-03-17  \n",
              "4    2006-03-18  \n",
              "...         ...  \n",
              "5218 2020-06-26  \n",
              "5219 2020-06-27  \n",
              "5220 2020-06-28  \n",
              "5221 2020-06-29  \n",
              "5222 2020-06-30  \n",
              "\n",
              "[5157 rows x 4 columns]"
            ]
          },
          "execution_count": 18,
          "metadata": {},
          "output_type": "execute_result"
        }
      ],
      "source": [
        "df2"
      ]
    },
    {
      "cell_type": "code",
      "execution_count": 19,
      "metadata": {
        "colab": {
          "base_uri": "https://localhost:8080/",
          "height": 335
        },
        "id": "_x-2kGrjUhqE",
        "outputId": "ec726e44-34c6-4a99-bc3b-1259afdbe76b"
      },
      "outputs": [
        {
          "data": {
            "text/plain": [
              "Date                                object\n",
              "Depth_to_Groundwater_P24           float64\n",
              "Depth_to_Groundwater_P25           float64\n",
              "time                        datetime64[ns]\n",
              "dtype: object"
            ]
          },
          "execution_count": 19,
          "metadata": {},
          "output_type": "execute_result"
        }
      ],
      "source": [
        "df2.dtypes"
      ]
    },
    {
      "cell_type": "markdown",
      "metadata": {
        "id": "3qSY3SR-NFoF"
      },
      "source": [
        "Pasar de string to datetime nos permite realizar operaciones sobre las fechas, como extarér el día, sumar etc..\n"
      ]
    },
    {
      "cell_type": "code",
      "execution_count": 20,
      "metadata": {
        "colab": {
          "base_uri": "https://localhost:8080/"
        },
        "id": "6viAWyU4IDct",
        "outputId": "3d6344a5-3a1f-45d4-d1c4-cac06656cc3c"
      },
      "outputs": [
        {
          "name": "stdout",
          "output_type": "stream",
          "text": [
            "2006-03-14 00:00:00\n",
            "2020-06-30 00:00:00\n"
          ]
        }
      ],
      "source": [
        "print(df2['time'].min())\n",
        "print(df2['time'].max()) # fecha más reciente en la base"
      ]
    },
    {
      "cell_type": "code",
      "execution_count": 21,
      "metadata": {
        "colab": {
          "base_uri": "https://localhost:8080/"
        },
        "id": "Jr_OCTHKSpXw",
        "outputId": "531fc245-0214-4616-8a71-4a1a22d0e72a"
      },
      "outputs": [
        {
          "data": {
            "text/plain": [
              "Timedelta('5222 days 00:00:00')"
            ]
          },
          "execution_count": 21,
          "metadata": {},
          "output_type": "execute_result"
        }
      ],
      "source": [
        "df2['time'].max() - df2['time'].min() #timestamp, #timedelta"
      ]
    },
    {
      "cell_type": "code",
      "execution_count": 22,
      "metadata": {
        "id": "vj7rKYozStgx"
      },
      "outputs": [],
      "source": [
        "# Extaer información relevante para analizar, por ejempo los días, los meses, etc..\n",
        "df2['day'] = df2['time'].dt.day"
      ]
    },
    {
      "cell_type": "code",
      "execution_count": 23,
      "metadata": {
        "colab": {
          "base_uri": "https://localhost:8080/",
          "height": 206
        },
        "id": "xT-JvZMoc-up",
        "outputId": "491e4ea4-a84b-4c00-90f9-9501e283e2b4"
      },
      "outputs": [
        {
          "data": {
            "text/html": [
              "<div>\n",
              "<style scoped>\n",
              "    .dataframe tbody tr th:only-of-type {\n",
              "        vertical-align: middle;\n",
              "    }\n",
              "\n",
              "    .dataframe tbody tr th {\n",
              "        vertical-align: top;\n",
              "    }\n",
              "\n",
              "    .dataframe thead th {\n",
              "        text-align: right;\n",
              "    }\n",
              "</style>\n",
              "<table border=\"1\" class=\"dataframe\">\n",
              "  <thead>\n",
              "    <tr style=\"text-align: right;\">\n",
              "      <th></th>\n",
              "      <th>Date</th>\n",
              "      <th>Depth_to_Groundwater_P24</th>\n",
              "      <th>Depth_to_Groundwater_P25</th>\n",
              "      <th>time</th>\n",
              "      <th>day</th>\n",
              "    </tr>\n",
              "  </thead>\n",
              "  <tbody>\n",
              "    <tr>\n",
              "      <th>5218</th>\n",
              "      <td>26/06/2020</td>\n",
              "      <td>-25.68</td>\n",
              "      <td>-25.07</td>\n",
              "      <td>2020-06-26</td>\n",
              "      <td>26</td>\n",
              "    </tr>\n",
              "    <tr>\n",
              "      <th>5219</th>\n",
              "      <td>27/06/2020</td>\n",
              "      <td>-25.80</td>\n",
              "      <td>-25.11</td>\n",
              "      <td>2020-06-27</td>\n",
              "      <td>27</td>\n",
              "    </tr>\n",
              "    <tr>\n",
              "      <th>5220</th>\n",
              "      <td>28/06/2020</td>\n",
              "      <td>-25.80</td>\n",
              "      <td>-25.19</td>\n",
              "      <td>2020-06-28</td>\n",
              "      <td>28</td>\n",
              "    </tr>\n",
              "    <tr>\n",
              "      <th>5221</th>\n",
              "      <td>29/06/2020</td>\n",
              "      <td>-25.78</td>\n",
              "      <td>-25.18</td>\n",
              "      <td>2020-06-29</td>\n",
              "      <td>29</td>\n",
              "    </tr>\n",
              "    <tr>\n",
              "      <th>5222</th>\n",
              "      <td>30/06/2020</td>\n",
              "      <td>-25.91</td>\n",
              "      <td>-25.25</td>\n",
              "      <td>2020-06-30</td>\n",
              "      <td>30</td>\n",
              "    </tr>\n",
              "  </tbody>\n",
              "</table>\n",
              "</div>"
            ],
            "text/plain": [
              "            Date  Depth_to_Groundwater_P24  Depth_to_Groundwater_P25  \\\n",
              "5218  26/06/2020                    -25.68                    -25.07   \n",
              "5219  27/06/2020                    -25.80                    -25.11   \n",
              "5220  28/06/2020                    -25.80                    -25.19   \n",
              "5221  29/06/2020                    -25.78                    -25.18   \n",
              "5222  30/06/2020                    -25.91                    -25.25   \n",
              "\n",
              "           time  day  \n",
              "5218 2020-06-26   26  \n",
              "5219 2020-06-27   27  \n",
              "5220 2020-06-28   28  \n",
              "5221 2020-06-29   29  \n",
              "5222 2020-06-30   30  "
            ]
          },
          "execution_count": 23,
          "metadata": {},
          "output_type": "execute_result"
        }
      ],
      "source": [
        "df2.tail()"
      ]
    },
    {
      "cell_type": "code",
      "execution_count": 24,
      "metadata": {
        "id": "y-X5f7KTTko2"
      },
      "outputs": [],
      "source": [
        "df2['day_name'] = df2['time'].dt.day_name()\n",
        "# prueba con month, year"
      ]
    },
    {
      "cell_type": "code",
      "execution_count": 25,
      "metadata": {
        "colab": {
          "base_uri": "https://localhost:8080/",
          "height": 489
        },
        "id": "NIFwEmRYVX5w",
        "outputId": "978985f0-031b-4309-f6b2-774ce33c359f"
      },
      "outputs": [
        {
          "data": {
            "text/plain": [
              "0         Tuesday\n",
              "1       Wednesday\n",
              "2        Thursday\n",
              "3          Friday\n",
              "4        Saturday\n",
              "          ...    \n",
              "5218       Friday\n",
              "5219     Saturday\n",
              "5220       Sunday\n",
              "5221       Monday\n",
              "5222      Tuesday\n",
              "Name: day_name, Length: 5157, dtype: object"
            ]
          },
          "execution_count": 25,
          "metadata": {},
          "output_type": "execute_result"
        }
      ],
      "source": [
        "df2['day_name']"
      ]
    },
    {
      "cell_type": "code",
      "execution_count": 26,
      "metadata": {
        "colab": {
          "base_uri": "https://localhost:8080/",
          "height": 423
        },
        "id": "SLHY0QSAURpf",
        "outputId": "e044659b-02d3-4431-dc12-91b5bdbb13ca"
      },
      "outputs": [
        {
          "data": {
            "text/html": [
              "<div>\n",
              "<style scoped>\n",
              "    .dataframe tbody tr th:only-of-type {\n",
              "        vertical-align: middle;\n",
              "    }\n",
              "\n",
              "    .dataframe tbody tr th {\n",
              "        vertical-align: top;\n",
              "    }\n",
              "\n",
              "    .dataframe thead th {\n",
              "        text-align: right;\n",
              "    }\n",
              "</style>\n",
              "<table border=\"1\" class=\"dataframe\">\n",
              "  <thead>\n",
              "    <tr style=\"text-align: right;\">\n",
              "      <th></th>\n",
              "      <th>Date</th>\n",
              "      <th>Depth_to_Groundwater_P24</th>\n",
              "      <th>Depth_to_Groundwater_P25</th>\n",
              "      <th>time</th>\n",
              "      <th>day</th>\n",
              "      <th>day_name</th>\n",
              "    </tr>\n",
              "  </thead>\n",
              "  <tbody>\n",
              "    <tr>\n",
              "      <th>0</th>\n",
              "      <td>14/03/2006</td>\n",
              "      <td>-22.48</td>\n",
              "      <td>-22.18</td>\n",
              "      <td>2006-03-14</td>\n",
              "      <td>14</td>\n",
              "      <td>Tuesday</td>\n",
              "    </tr>\n",
              "    <tr>\n",
              "      <th>1</th>\n",
              "      <td>15/03/2006</td>\n",
              "      <td>-22.38</td>\n",
              "      <td>-22.14</td>\n",
              "      <td>2006-03-15</td>\n",
              "      <td>15</td>\n",
              "      <td>Wednesday</td>\n",
              "    </tr>\n",
              "    <tr>\n",
              "      <th>2</th>\n",
              "      <td>16/03/2006</td>\n",
              "      <td>-22.25</td>\n",
              "      <td>-22.04</td>\n",
              "      <td>2006-03-16</td>\n",
              "      <td>16</td>\n",
              "      <td>Thursday</td>\n",
              "    </tr>\n",
              "    <tr>\n",
              "      <th>3</th>\n",
              "      <td>17/03/2006</td>\n",
              "      <td>-22.38</td>\n",
              "      <td>-22.04</td>\n",
              "      <td>2006-03-17</td>\n",
              "      <td>17</td>\n",
              "      <td>Friday</td>\n",
              "    </tr>\n",
              "    <tr>\n",
              "      <th>4</th>\n",
              "      <td>18/03/2006</td>\n",
              "      <td>-22.60</td>\n",
              "      <td>-22.04</td>\n",
              "      <td>2006-03-18</td>\n",
              "      <td>18</td>\n",
              "      <td>Saturday</td>\n",
              "    </tr>\n",
              "  </tbody>\n",
              "</table>\n",
              "</div>"
            ],
            "text/plain": [
              "         Date  Depth_to_Groundwater_P24  Depth_to_Groundwater_P25       time  \\\n",
              "0  14/03/2006                    -22.48                    -22.18 2006-03-14   \n",
              "1  15/03/2006                    -22.38                    -22.14 2006-03-15   \n",
              "2  16/03/2006                    -22.25                    -22.04 2006-03-16   \n",
              "3  17/03/2006                    -22.38                    -22.04 2006-03-17   \n",
              "4  18/03/2006                    -22.60                    -22.04 2006-03-18   \n",
              "\n",
              "   day   day_name  \n",
              "0   14    Tuesday  \n",
              "1   15  Wednesday  \n",
              "2   16   Thursday  \n",
              "3   17     Friday  \n",
              "4   18   Saturday  "
            ]
          },
          "execution_count": 26,
          "metadata": {},
          "output_type": "execute_result"
        }
      ],
      "source": [
        "# analizar las transacciones en un día particiular puede ser importante...\n",
        "# podriamos realziar un ejercicio de comparación usando ANOVA?\n",
        "df2.head()"
      ]
    },
    {
      "cell_type": "code",
      "execution_count": 27,
      "metadata": {
        "colab": {
          "base_uri": "https://localhost:8080/",
          "height": 272
        },
        "id": "lMhP1FsQUcBr",
        "outputId": "52f7b9a8-29f8-43c5-e114-ee29f58d9f84"
      },
      "outputs": [
        {
          "data": {
            "text/plain": [
              "time\n",
              "Friday      -25.706653\n",
              "Monday      -25.667106\n",
              "Saturday    -25.705894\n",
              "Sunday      -25.678449\n",
              "Thursday    -25.691316\n",
              "Tuesday     -25.683324\n",
              "Wednesday   -25.692704\n",
              "Name: Depth_to_Groundwater_P25, dtype: float64"
            ]
          },
          "execution_count": 27,
          "metadata": {},
          "output_type": "execute_result"
        }
      ],
      "source": [
        "# promedio de cierre por día\n",
        "df2.groupby([df2[\"time\"].dt.day_name()])['Depth_to_Groundwater_P25'].mean()"
      ]
    },
    {
      "cell_type": "code",
      "execution_count": 28,
      "metadata": {
        "colab": {
          "base_uri": "https://localhost:8080/",
          "height": 1000
        },
        "id": "10gWcDuzV3nt",
        "outputId": "6225e24c-4d78-4d55-9467-f0fb3cc98c51"
      },
      "outputs": [
        {
          "data": {
            "text/plain": [
              "time  time     \n",
              "1     Friday      -26.128710\n",
              "      Monday      -26.185410\n",
              "      Saturday    -26.204590\n",
              "      Sunday      -26.182787\n",
              "      Thursday    -26.258889\n",
              "                     ...    \n",
              "12    Saturday    -26.660476\n",
              "      Sunday      -26.612540\n",
              "      Thursday    -26.446271\n",
              "      Tuesday     -26.476129\n",
              "      Wednesday   -26.488333\n",
              "Name: Depth_to_Groundwater_P25, Length: 84, dtype: float64"
            ]
          },
          "execution_count": 28,
          "metadata": {},
          "output_type": "execute_result"
        }
      ],
      "source": [
        "# precio de cierre por mes y día de la semana\n",
        "df2.groupby([df2[\"time\"].dt.month, df2[\"time\"].dt.day_name()])['Depth_to_Groundwater_P25'].mean()\n",
        "# interesante observe el septimo mes en cada día"
      ]
    },
    {
      "cell_type": "code",
      "execution_count": 29,
      "metadata": {
        "colab": {
          "base_uri": "https://localhost:8080/",
          "height": 423
        },
        "id": "VNToe2PNcSNL",
        "outputId": "ebcdfce8-c881-4cb9-a3e4-a8303af933f6"
      },
      "outputs": [
        {
          "data": {
            "text/html": [
              "<div>\n",
              "<style scoped>\n",
              "    .dataframe tbody tr th:only-of-type {\n",
              "        vertical-align: middle;\n",
              "    }\n",
              "\n",
              "    .dataframe tbody tr th {\n",
              "        vertical-align: top;\n",
              "    }\n",
              "\n",
              "    .dataframe thead th {\n",
              "        text-align: right;\n",
              "    }\n",
              "</style>\n",
              "<table border=\"1\" class=\"dataframe\">\n",
              "  <thead>\n",
              "    <tr style=\"text-align: right;\">\n",
              "      <th></th>\n",
              "      <th>Date</th>\n",
              "      <th>Depth_to_Groundwater_P24</th>\n",
              "      <th>Depth_to_Groundwater_P25</th>\n",
              "      <th>time</th>\n",
              "      <th>day</th>\n",
              "      <th>day_name</th>\n",
              "    </tr>\n",
              "  </thead>\n",
              "  <tbody>\n",
              "    <tr>\n",
              "      <th>0</th>\n",
              "      <td>14/03/2006</td>\n",
              "      <td>-22.48</td>\n",
              "      <td>-22.18</td>\n",
              "      <td>2006-03-14</td>\n",
              "      <td>14</td>\n",
              "      <td>Tuesday</td>\n",
              "    </tr>\n",
              "    <tr>\n",
              "      <th>1</th>\n",
              "      <td>15/03/2006</td>\n",
              "      <td>-22.38</td>\n",
              "      <td>-22.14</td>\n",
              "      <td>2006-03-15</td>\n",
              "      <td>15</td>\n",
              "      <td>Wednesday</td>\n",
              "    </tr>\n",
              "    <tr>\n",
              "      <th>2</th>\n",
              "      <td>16/03/2006</td>\n",
              "      <td>-22.25</td>\n",
              "      <td>-22.04</td>\n",
              "      <td>2006-03-16</td>\n",
              "      <td>16</td>\n",
              "      <td>Thursday</td>\n",
              "    </tr>\n",
              "    <tr>\n",
              "      <th>3</th>\n",
              "      <td>17/03/2006</td>\n",
              "      <td>-22.38</td>\n",
              "      <td>-22.04</td>\n",
              "      <td>2006-03-17</td>\n",
              "      <td>17</td>\n",
              "      <td>Friday</td>\n",
              "    </tr>\n",
              "    <tr>\n",
              "      <th>4</th>\n",
              "      <td>18/03/2006</td>\n",
              "      <td>-22.60</td>\n",
              "      <td>-22.04</td>\n",
              "      <td>2006-03-18</td>\n",
              "      <td>18</td>\n",
              "      <td>Saturday</td>\n",
              "    </tr>\n",
              "  </tbody>\n",
              "</table>\n",
              "</div>"
            ],
            "text/plain": [
              "         Date  Depth_to_Groundwater_P24  Depth_to_Groundwater_P25       time  \\\n",
              "0  14/03/2006                    -22.48                    -22.18 2006-03-14   \n",
              "1  15/03/2006                    -22.38                    -22.14 2006-03-15   \n",
              "2  16/03/2006                    -22.25                    -22.04 2006-03-16   \n",
              "3  17/03/2006                    -22.38                    -22.04 2006-03-17   \n",
              "4  18/03/2006                    -22.60                    -22.04 2006-03-18   \n",
              "\n",
              "   day   day_name  \n",
              "0   14    Tuesday  \n",
              "1   15  Wednesday  \n",
              "2   16   Thursday  \n",
              "3   17     Friday  \n",
              "4   18   Saturday  "
            ]
          },
          "execution_count": 29,
          "metadata": {},
          "output_type": "execute_result"
        }
      ],
      "source": [
        "df2.head()"
      ]
    },
    {
      "cell_type": "code",
      "execution_count": 30,
      "metadata": {
        "colab": {
          "base_uri": "https://localhost:8080/",
          "height": 428
        },
        "id": "cASKI4ZqWxQc",
        "outputId": "42e5ae02-dd13-4880-85ba-5e607fbe695e"
      },
      "outputs": [
        {
          "data": {
            "text/plain": [
              "Text(0, 0.5, 'mean price')"
            ]
          },
          "execution_count": 30,
          "metadata": {},
          "output_type": "execute_result"
        },
        {
          "data": {
            "image/png": "[encoded data removed]",
            "text/plain": [
              "<Figure size 500x400 with 1 Axes>"
            ]
          },
          "metadata": {},
          "output_type": "display_data"
        }
      ],
      "source": [
        "# gráficando el día\n",
        "fig, axs = plt.subplots(figsize=(5,4))\n",
        "df2.groupby(df2[\"time\"].dt.day_name())[\"Depth_to_Groundwater_P25\"].mean().plot(\n",
        "    kind='bar', rot=0, ax=axs)\n",
        "plt.title(\"Mean close price by day\")\n",
        "plt.xlabel(\"days\")\n",
        "plt.ylabel(\"mean price\")"
      ]
    },
    {
      "cell_type": "code",
      "execution_count": 31,
      "metadata": {
        "id": "Lct6MD8QeZ69"
      },
      "outputs": [],
      "source": [
        "# datetime como index\n",
        "df2.set_index(df2['time'], inplace=True) #Una ventaja  el ajuste de las fechas"
      ]
    },
    {
      "cell_type": "code",
      "execution_count": 32,
      "metadata": {
        "colab": {
          "base_uri": "https://localhost:8080/",
          "height": 628
        },
        "id": "YwHvBlDiWJkD",
        "outputId": "a4636bd5-90ff-428b-e9a2-89100751c605"
      },
      "outputs": [
        {
          "data": {
            "text/html": [
              "<div>\n",
              "<style scoped>\n",
              "    .dataframe tbody tr th:only-of-type {\n",
              "        vertical-align: middle;\n",
              "    }\n",
              "\n",
              "    .dataframe tbody tr th {\n",
              "        vertical-align: top;\n",
              "    }\n",
              "\n",
              "    .dataframe thead th {\n",
              "        text-align: right;\n",
              "    }\n",
              "</style>\n",
              "<table border=\"1\" class=\"dataframe\">\n",
              "  <thead>\n",
              "    <tr style=\"text-align: right;\">\n",
              "      <th></th>\n",
              "      <th>Date</th>\n",
              "      <th>Depth_to_Groundwater_P24</th>\n",
              "      <th>Depth_to_Groundwater_P25</th>\n",
              "      <th>time</th>\n",
              "      <th>day</th>\n",
              "      <th>day_name</th>\n",
              "    </tr>\n",
              "    <tr>\n",
              "      <th>time</th>\n",
              "      <th></th>\n",
              "      <th></th>\n",
              "      <th></th>\n",
              "      <th></th>\n",
              "      <th></th>\n",
              "      <th></th>\n",
              "    </tr>\n",
              "  </thead>\n",
              "  <tbody>\n",
              "    <tr>\n",
              "      <th>2006-03-14</th>\n",
              "      <td>14/03/2006</td>\n",
              "      <td>-22.48</td>\n",
              "      <td>-22.18</td>\n",
              "      <td>2006-03-14</td>\n",
              "      <td>14</td>\n",
              "      <td>Tuesday</td>\n",
              "    </tr>\n",
              "    <tr>\n",
              "      <th>2006-03-15</th>\n",
              "      <td>15/03/2006</td>\n",
              "      <td>-22.38</td>\n",
              "      <td>-22.14</td>\n",
              "      <td>2006-03-15</td>\n",
              "      <td>15</td>\n",
              "      <td>Wednesday</td>\n",
              "    </tr>\n",
              "    <tr>\n",
              "      <th>2006-03-16</th>\n",
              "      <td>16/03/2006</td>\n",
              "      <td>-22.25</td>\n",
              "      <td>-22.04</td>\n",
              "      <td>2006-03-16</td>\n",
              "      <td>16</td>\n",
              "      <td>Thursday</td>\n",
              "    </tr>\n",
              "    <tr>\n",
              "      <th>2006-03-17</th>\n",
              "      <td>17/03/2006</td>\n",
              "      <td>-22.38</td>\n",
              "      <td>-22.04</td>\n",
              "      <td>2006-03-17</td>\n",
              "      <td>17</td>\n",
              "      <td>Friday</td>\n",
              "    </tr>\n",
              "    <tr>\n",
              "      <th>2006-03-18</th>\n",
              "      <td>18/03/2006</td>\n",
              "      <td>-22.60</td>\n",
              "      <td>-22.04</td>\n",
              "      <td>2006-03-18</td>\n",
              "      <td>18</td>\n",
              "      <td>Saturday</td>\n",
              "    </tr>\n",
              "  </tbody>\n",
              "</table>\n",
              "</div>"
            ],
            "text/plain": [
              "                  Date  Depth_to_Groundwater_P24  Depth_to_Groundwater_P25  \\\n",
              "time                                                                         \n",
              "2006-03-14  14/03/2006                    -22.48                    -22.18   \n",
              "2006-03-15  15/03/2006                    -22.38                    -22.14   \n",
              "2006-03-16  16/03/2006                    -22.25                    -22.04   \n",
              "2006-03-17  17/03/2006                    -22.38                    -22.04   \n",
              "2006-03-18  18/03/2006                    -22.60                    -22.04   \n",
              "\n",
              "                 time  day   day_name  \n",
              "time                                   \n",
              "2006-03-14 2006-03-14   14    Tuesday  \n",
              "2006-03-15 2006-03-15   15  Wednesday  \n",
              "2006-03-16 2006-03-16   16   Thursday  \n",
              "2006-03-17 2006-03-17   17     Friday  \n",
              "2006-03-18 2006-03-18   18   Saturday  "
            ]
          },
          "execution_count": 32,
          "metadata": {},
          "output_type": "execute_result"
        }
      ],
      "source": [
        "df2.head()"
      ]
    },
    {
      "cell_type": "code",
      "execution_count": 33,
      "metadata": {
        "colab": {
          "base_uri": "https://localhost:8080/",
          "height": 464
        },
        "id": "mTjR7WT3eNrn",
        "outputId": "bbf9a0ea-048e-4fac-dd86-2dd37d2aa026"
      },
      "outputs": [
        {
          "data": {
            "image/png": "[encoded data removed]",
            "text/plain": [
              "<Figure size 640x480 with 1 Axes>"
            ]
          },
          "metadata": {},
          "output_type": "display_data"
        }
      ],
      "source": [
        "plt.plot(df2['Depth_to_Groundwater_P24'])\n",
        "plt.plot(df2['Depth_to_Groundwater_P25'])\n",
        "plt.xticks(rotation=40, ha='right'); #not show text"
      ]
    },
    {
      "cell_type": "code",
      "execution_count": 34,
      "metadata": {
        "colab": {
          "base_uri": "https://localhost:8080/",
          "height": 957
        },
        "id": "C-wEvfVQhy7c",
        "outputId": "a51de867-f659-49ec-bdf8-042830883dfe"
      },
      "outputs": [
        {
          "data": {
            "text/html": [
              "<div>\n",
              "<style scoped>\n",
              "    .dataframe tbody tr th:only-of-type {\n",
              "        vertical-align: middle;\n",
              "    }\n",
              "\n",
              "    .dataframe tbody tr th {\n",
              "        vertical-align: top;\n",
              "    }\n",
              "\n",
              "    .dataframe thead th {\n",
              "        text-align: right;\n",
              "    }\n",
              "</style>\n",
              "<table border=\"1\" class=\"dataframe\">\n",
              "  <thead>\n",
              "    <tr style=\"text-align: right;\">\n",
              "      <th></th>\n",
              "      <th>Date</th>\n",
              "      <th>Depth_to_Groundwater_P24</th>\n",
              "      <th>Depth_to_Groundwater_P25</th>\n",
              "      <th>time</th>\n",
              "      <th>day</th>\n",
              "      <th>day_name</th>\n",
              "    </tr>\n",
              "    <tr>\n",
              "      <th>time</th>\n",
              "      <th></th>\n",
              "      <th></th>\n",
              "      <th></th>\n",
              "      <th></th>\n",
              "      <th></th>\n",
              "      <th></th>\n",
              "    </tr>\n",
              "  </thead>\n",
              "  <tbody>\n",
              "    <tr>\n",
              "      <th>2020-06-26</th>\n",
              "      <td>26/06/2020</td>\n",
              "      <td>-25.68</td>\n",
              "      <td>-25.07</td>\n",
              "      <td>2020-06-26</td>\n",
              "      <td>26</td>\n",
              "      <td>Friday</td>\n",
              "    </tr>\n",
              "    <tr>\n",
              "      <th>2020-06-27</th>\n",
              "      <td>27/06/2020</td>\n",
              "      <td>-25.80</td>\n",
              "      <td>-25.11</td>\n",
              "      <td>2020-06-27</td>\n",
              "      <td>27</td>\n",
              "      <td>Saturday</td>\n",
              "    </tr>\n",
              "    <tr>\n",
              "      <th>2020-06-28</th>\n",
              "      <td>28/06/2020</td>\n",
              "      <td>-25.80</td>\n",
              "      <td>-25.19</td>\n",
              "      <td>2020-06-28</td>\n",
              "      <td>28</td>\n",
              "      <td>Sunday</td>\n",
              "    </tr>\n",
              "    <tr>\n",
              "      <th>2020-06-29</th>\n",
              "      <td>29/06/2020</td>\n",
              "      <td>-25.78</td>\n",
              "      <td>-25.18</td>\n",
              "      <td>2020-06-29</td>\n",
              "      <td>29</td>\n",
              "      <td>Monday</td>\n",
              "    </tr>\n",
              "    <tr>\n",
              "      <th>2020-06-30</th>\n",
              "      <td>30/06/2020</td>\n",
              "      <td>-25.91</td>\n",
              "      <td>-25.25</td>\n",
              "      <td>2020-06-30</td>\n",
              "      <td>30</td>\n",
              "      <td>Tuesday</td>\n",
              "    </tr>\n",
              "  </tbody>\n",
              "</table>\n",
              "</div>"
            ],
            "text/plain": [
              "                  Date  Depth_to_Groundwater_P24  Depth_to_Groundwater_P25  \\\n",
              "time                                                                         \n",
              "2020-06-26  26/06/2020                    -25.68                    -25.07   \n",
              "2020-06-27  27/06/2020                    -25.80                    -25.11   \n",
              "2020-06-28  28/06/2020                    -25.80                    -25.19   \n",
              "2020-06-29  29/06/2020                    -25.78                    -25.18   \n",
              "2020-06-30  30/06/2020                    -25.91                    -25.25   \n",
              "\n",
              "                 time  day  day_name  \n",
              "time                                  \n",
              "2020-06-26 2020-06-26   26    Friday  \n",
              "2020-06-27 2020-06-27   27  Saturday  \n",
              "2020-06-28 2020-06-28   28    Sunday  \n",
              "2020-06-29 2020-06-29   29    Monday  \n",
              "2020-06-30 2020-06-30   30   Tuesday  "
            ]
          },
          "execution_count": 34,
          "metadata": {},
          "output_type": "execute_result"
        }
      ],
      "source": [
        "# determinando el índice podemos usar el slicing...\n",
        "df2['2006-05-18':'2006-06-18']\n",
        "df2.tail()"
      ]
    },
    {
      "cell_type": "code",
      "execution_count": 35,
      "metadata": {
        "colab": {
          "base_uri": "https://localhost:8080/",
          "height": 500
        },
        "id": "wINrrnLZjLSO",
        "outputId": "765dc377-33b0-4d34-f4ab-734bd9aeecb6"
      },
      "outputs": [
        {
          "data": {
            "text/plain": [
              "<Axes: xlabel='time'>"
            ]
          },
          "execution_count": 35,
          "metadata": {},
          "output_type": "execute_result"
        },
        {
          "data": {
            "image/png": "[encoded data removed]",
            "text/plain": [
              "<Figure size 640x480 with 1 Axes>"
            ]
          },
          "metadata": {},
          "output_type": "display_data"
        }
      ],
      "source": [
        "df2['2006-05-18':'2006-06-18'][['Depth_to_Groundwater_P24', 'Depth_to_Groundwater_P25']].plot()"
      ]
    },
    {
      "cell_type": "code",
      "execution_count": 36,
      "metadata": {},
      "outputs": [
        {
          "name": "stdout",
          "output_type": "stream",
          "text": [
            "Requirement already satisfied: statsmodels in c:\\users\\angel resendiz plata\\appdata\\local\\programs\\python\\python311\\lib\\site-packages (0.14.5)\n",
            "Requirement already satisfied: numpy<3,>=1.22.3 in c:\\users\\angel resendiz plata\\appdata\\local\\programs\\python\\python311\\lib\\site-packages (from statsmodels) (1.25.2)\n",
            "Requirement already satisfied: scipy!=1.9.2,>=1.8 in c:\\users\\angel resendiz plata\\appdata\\local\\programs\\python\\python311\\lib\\site-packages (from statsmodels) (1.16.1)\n",
            "Requirement already satisfied: pandas!=2.1.0,>=1.4 in c:\\users\\angel resendiz plata\\appdata\\local\\programs\\python\\python311\\lib\\site-packages (from statsmodels) (2.3.2)\n",
            "Requirement already satisfied: patsy>=0.5.6 in c:\\users\\angel resendiz plata\\appdata\\local\\programs\\python\\python311\\lib\\site-packages (from statsmodels) (1.0.1)\n",
            "Requirement already satisfied: packaging>=21.3 in c:\\users\\angel resendiz plata\\appdata\\local\\programs\\python\\python311\\lib\\site-packages (from statsmodels) (25.0)\n",
            "Requirement already satisfied: python-dateutil>=2.8.2 in c:\\users\\angel resendiz plata\\appdata\\local\\programs\\python\\python311\\lib\\site-packages (from pandas!=2.1.0,>=1.4->statsmodels) (2.9.0.post0)\n",
            "Requirement already satisfied: pytz>=2020.1 in c:\\users\\angel resendiz plata\\appdata\\local\\programs\\python\\python311\\lib\\site-packages (from pandas!=2.1.0,>=1.4->statsmodels) (2025.2)\n",
            "Requirement already satisfied: tzdata>=2022.7 in c:\\users\\angel resendiz plata\\appdata\\local\\programs\\python\\python311\\lib\\site-packages (from pandas!=2.1.0,>=1.4->statsmodels) (2025.2)\n",
            "Requirement already satisfied: six>=1.5 in c:\\users\\angel resendiz plata\\appdata\\local\\programs\\python\\python311\\lib\\site-packages (from python-dateutil>=2.8.2->pandas!=2.1.0,>=1.4->statsmodels) (1.17.0)\n",
            "Note: you may need to restart the kernel to use updated packages.\n"
          ]
        }
      ],
      "source": [
        "pip install statsmodels"
      ]
    },
    {
      "cell_type": "code",
      "execution_count": 37,
      "metadata": {},
      "outputs": [
        {
          "data": {
            "image/png": "[encoded data removed]",
            "text/plain": [
              "<Figure size 640x480 with 4 Axes>"
            ]
          },
          "metadata": {},
          "output_type": "display_data"
        }
      ],
      "source": [
        "from statsmodels.tsa.seasonal import seasonal_decompose\n",
        "\n",
        "decomposition = seasonal_decompose(df2['Depth_to_Groundwater_P24'].dropna(), model='additive', period=365)\n",
        "decomposition.plot()\n",
        "plt.show()"
      ]
    },
    {
      "cell_type": "code",
      "execution_count": 38,
      "metadata": {},
      "outputs": [],
      "source": [
        "import numpy as np\n",
        "import pandas as pd\n",
        "import matplotlib.pyplot as plt"
      ]
    },
    {
      "cell_type": "code",
      "execution_count": 39,
      "metadata": {},
      "outputs": [
        {
          "data": {
            "image/png": "[encoded data removed]",
            "text/plain": [
              "<Figure size 1200x600 with 1 Axes>"
            ]
          },
          "metadata": {},
          "output_type": "display_data"
        }
      ],
      "source": [
        "# Graficar Column1 y Column2 en función de Date\n",
        "plt.figure(figsize=(12,6))\n",
        "plt.plot(df2['time'], df2['Depth_to_Groundwater_P24'], label='Depth_to_Groundwater_P24')\n",
        "plt.plot(df2['time'], df2['Depth_to_Groundwater_P25'], label='Depth_to_Groundwater_P25')\n",
        "plt.title(\"Series Temporales de Depth_to_Groundwater_P24 y Depth_to_Groundwater_P25\")\n",
        "plt.xlabel(\"Fecha\")\n",
        "plt.ylabel(\"Valor\")\n",
        "plt.legend()\n",
        "plt.grid(True)\n",
        "plt.show()"
      ]
    },
    {
      "cell_type": "code",
      "execution_count": 40,
      "metadata": {},
      "outputs": [],
      "source": [
        "# Crear la serie lagged\n",
        "lagged = np.zeros(len(df2))  # inicializamos con ceros\n",
        "init = 9.4"
      ]
    },
    {
      "cell_type": "code",
      "execution_count": 41,
      "metadata": {},
      "outputs": [
        {
          "name": "stdout",
          "output_type": "stream",
          "text": [
            "        0\n",
            "0     0.0\n",
            "1     0.0\n",
            "2     0.0\n",
            "3     0.0\n",
            "4     0.0\n",
            "...   ...\n",
            "5152  0.0\n",
            "5153  0.0\n",
            "5154  0.0\n",
            "5155  0.0\n",
            "5156  0.0\n",
            "\n",
            "[5157 rows x 1 columns]\n"
          ]
        }
      ],
      "source": [
        "print(pd.DataFrame(lagged))"
      ]
    },
    {
      "cell_type": "code",
      "execution_count": 42,
      "metadata": {},
      "outputs": [],
      "source": [
        "for i in range(len(df2)):\n",
        "    lagged[i] = init + np.random.normal(0, 3)\n",
        "    init = lagged[i]\n",
        "\n",
        "# Agregamos la serie al DataFrame\n",
        "df2['Lagged'] = lagged"
      ]
    },
    {
      "cell_type": "code",
      "execution_count": 43,
      "metadata": {},
      "outputs": [
        {
          "name": "stdout",
          "output_type": "stream",
          "text": [
            "                  Date  Depth_to_Groundwater_P24  Depth_to_Groundwater_P25  \\\n",
            "time                                                                         \n",
            "2006-03-14  14/03/2006                    -22.48                    -22.18   \n",
            "2006-03-15  15/03/2006                    -22.38                    -22.14   \n",
            "2006-03-16  16/03/2006                    -22.25                    -22.04   \n",
            "2006-03-17  17/03/2006                    -22.38                    -22.04   \n",
            "2006-03-18  18/03/2006                    -22.60                    -22.04   \n",
            "...                ...                       ...                       ...   \n",
            "2020-06-26  26/06/2020                    -25.68                    -25.07   \n",
            "2020-06-27  27/06/2020                    -25.80                    -25.11   \n",
            "2020-06-28  28/06/2020                    -25.80                    -25.19   \n",
            "2020-06-29  29/06/2020                    -25.78                    -25.18   \n",
            "2020-06-30  30/06/2020                    -25.91                    -25.25   \n",
            "\n",
            "                 time  day   day_name      Lagged  \n",
            "time                                               \n",
            "2006-03-14 2006-03-14   14    Tuesday    4.855450  \n",
            "2006-03-15 2006-03-15   15  Wednesday    3.183770  \n",
            "2006-03-16 2006-03-16   16   Thursday    4.133235  \n",
            "2006-03-17 2006-03-17   17     Friday    4.998236  \n",
            "2006-03-18 2006-03-18   18   Saturday    5.982635  \n",
            "...               ...  ...        ...         ...  \n",
            "2020-06-26 2020-06-26   26     Friday  278.064045  \n",
            "2020-06-27 2020-06-27   27   Saturday  277.915999  \n",
            "2020-06-28 2020-06-28   28     Sunday  282.043941  \n",
            "2020-06-29 2020-06-29   29     Monday  286.368356  \n",
            "2020-06-30 2020-06-30   30    Tuesday  288.502117  \n",
            "\n",
            "[5157 rows x 7 columns]\n",
            "               0\n",
            "0       4.855450\n",
            "1       3.183770\n",
            "2       4.133235\n",
            "3       4.998236\n",
            "4       5.982635\n",
            "...          ...\n",
            "5152  278.064045\n",
            "5153  277.915999\n",
            "5154  282.043941\n",
            "5155  286.368356\n",
            "5156  288.502117\n",
            "\n",
            "[5157 rows x 1 columns]\n"
          ]
        }
      ],
      "source": [
        "print(pd.DataFrame(df2))\n",
        "print(pd.DataFrame(lagged))"
      ]
    },
    {
      "cell_type": "code",
      "execution_count": 44,
      "metadata": {},
      "outputs": [],
      "source": [
        "# ---- Nueva parte: añadir tendencia ----\n",
        "t_index = np.arange(len(df2))  # índice numérico de 0 a 99\n",
        "df2['Depth_to_Groundwater_P24_trend'] = df2['Depth_to_Groundwater_P24'] + (0.3 * t_index)"
      ]
    },
    {
      "cell_type": "code",
      "execution_count": 45,
      "metadata": {},
      "outputs": [
        {
          "name": "stdout",
          "output_type": "stream",
          "text": [
            "         0\n",
            "0        0\n",
            "1        1\n",
            "2        2\n",
            "3        3\n",
            "4        4\n",
            "...    ...\n",
            "5152  5152\n",
            "5153  5153\n",
            "5154  5154\n",
            "5155  5155\n",
            "5156  5156\n",
            "\n",
            "[5157 rows x 1 columns]\n",
            "                  Date  Depth_to_Groundwater_P24  Depth_to_Groundwater_P25  \\\n",
            "time                                                                         \n",
            "2006-03-14  14/03/2006                    -22.48                    -22.18   \n",
            "2006-03-15  15/03/2006                    -22.38                    -22.14   \n",
            "2006-03-16  16/03/2006                    -22.25                    -22.04   \n",
            "2006-03-17  17/03/2006                    -22.38                    -22.04   \n",
            "2006-03-18  18/03/2006                    -22.60                    -22.04   \n",
            "...                ...                       ...                       ...   \n",
            "2020-06-26  26/06/2020                    -25.68                    -25.07   \n",
            "2020-06-27  27/06/2020                    -25.80                    -25.11   \n",
            "2020-06-28  28/06/2020                    -25.80                    -25.19   \n",
            "2020-06-29  29/06/2020                    -25.78                    -25.18   \n",
            "2020-06-30  30/06/2020                    -25.91                    -25.25   \n",
            "\n",
            "                 time  day   day_name      Lagged  \\\n",
            "time                                                \n",
            "2006-03-14 2006-03-14   14    Tuesday    4.855450   \n",
            "2006-03-15 2006-03-15   15  Wednesday    3.183770   \n",
            "2006-03-16 2006-03-16   16   Thursday    4.133235   \n",
            "2006-03-17 2006-03-17   17     Friday    4.998236   \n",
            "2006-03-18 2006-03-18   18   Saturday    5.982635   \n",
            "...               ...  ...        ...         ...   \n",
            "2020-06-26 2020-06-26   26     Friday  278.064045   \n",
            "2020-06-27 2020-06-27   27   Saturday  277.915999   \n",
            "2020-06-28 2020-06-28   28     Sunday  282.043941   \n",
            "2020-06-29 2020-06-29   29     Monday  286.368356   \n",
            "2020-06-30 2020-06-30   30    Tuesday  288.502117   \n",
            "\n",
            "            Depth_to_Groundwater_P24_trend  \n",
            "time                                        \n",
            "2006-03-14                          -22.48  \n",
            "2006-03-15                          -22.08  \n",
            "2006-03-16                          -21.65  \n",
            "2006-03-17                          -21.48  \n",
            "2006-03-18                          -21.40  \n",
            "...                                    ...  \n",
            "2020-06-26                         1519.92  \n",
            "2020-06-27                         1520.10  \n",
            "2020-06-28                         1520.40  \n",
            "2020-06-29                         1520.72  \n",
            "2020-06-30                         1520.89  \n",
            "\n",
            "[5157 rows x 8 columns]\n"
          ]
        }
      ],
      "source": [
        "print(pd.DataFrame(t_index))\n",
        "print(pd.DataFrame(df2))"
      ]
    },
    {
      "cell_type": "code",
      "execution_count": 46,
      "metadata": {},
      "outputs": [],
      "source": [
        "n = len(df2)\n",
        "y1 = np.random.normal(0, 5, n//2)\n",
        "y2 = np.random.normal(0, 30, n - n//2)  # el resto para empatar la longitud\n",
        "yhet = np.append(y1, y2)\n",
        "\n",
        "df2['Hetero'] = yhet"
      ]
    },
    {
      "cell_type": "code",
      "execution_count": 47,
      "metadata": {},
      "outputs": [
        {
          "name": "stdout",
          "output_type": "stream",
          "text": [
            "              0\n",
            "0     -1.185566\n",
            "1     -0.962364\n",
            "2     -4.095421\n",
            "3     -0.831559\n",
            "4     -2.403700\n",
            "...         ...\n",
            "5152  76.226861\n",
            "5153 -21.346598\n",
            "5154   3.293737\n",
            "5155 -13.984073\n",
            "5156 -13.984487\n",
            "\n",
            "[5157 rows x 1 columns]\n"
          ]
        }
      ],
      "source": [
        "print(pd.DataFrame(yhet))"
      ]
    },
    {
      "cell_type": "code",
      "execution_count": 48,
      "metadata": {},
      "outputs": [
        {
          "data": {
            "text/html": [
              "<div>\n",
              "<style scoped>\n",
              "    .dataframe tbody tr th:only-of-type {\n",
              "        vertical-align: middle;\n",
              "    }\n",
              "\n",
              "    .dataframe tbody tr th {\n",
              "        vertical-align: top;\n",
              "    }\n",
              "\n",
              "    .dataframe thead th {\n",
              "        text-align: right;\n",
              "    }\n",
              "</style>\n",
              "<table border=\"1\" class=\"dataframe\">\n",
              "  <thead>\n",
              "    <tr style=\"text-align: right;\">\n",
              "      <th></th>\n",
              "      <th>Date</th>\n",
              "      <th>Depth_to_Groundwater_P24</th>\n",
              "      <th>Depth_to_Groundwater_P25</th>\n",
              "      <th>time</th>\n",
              "      <th>day</th>\n",
              "      <th>day_name</th>\n",
              "      <th>Lagged</th>\n",
              "      <th>Depth_to_Groundwater_P24_trend</th>\n",
              "      <th>Hetero</th>\n",
              "    </tr>\n",
              "    <tr>\n",
              "      <th>time</th>\n",
              "      <th></th>\n",
              "      <th></th>\n",
              "      <th></th>\n",
              "      <th></th>\n",
              "      <th></th>\n",
              "      <th></th>\n",
              "      <th></th>\n",
              "      <th></th>\n",
              "      <th></th>\n",
              "    </tr>\n",
              "  </thead>\n",
              "  <tbody>\n",
              "    <tr>\n",
              "      <th>2006-03-14</th>\n",
              "      <td>14/03/2006</td>\n",
              "      <td>-22.48</td>\n",
              "      <td>-22.18</td>\n",
              "      <td>2006-03-14</td>\n",
              "      <td>14</td>\n",
              "      <td>Tuesday</td>\n",
              "      <td>4.855450</td>\n",
              "      <td>-22.48</td>\n",
              "      <td>-1.185566</td>\n",
              "    </tr>\n",
              "    <tr>\n",
              "      <th>2006-03-15</th>\n",
              "      <td>15/03/2006</td>\n",
              "      <td>-22.38</td>\n",
              "      <td>-22.14</td>\n",
              "      <td>2006-03-15</td>\n",
              "      <td>15</td>\n",
              "      <td>Wednesday</td>\n",
              "      <td>3.183770</td>\n",
              "      <td>-22.08</td>\n",
              "      <td>-0.962364</td>\n",
              "    </tr>\n",
              "    <tr>\n",
              "      <th>2006-03-16</th>\n",
              "      <td>16/03/2006</td>\n",
              "      <td>-22.25</td>\n",
              "      <td>-22.04</td>\n",
              "      <td>2006-03-16</td>\n",
              "      <td>16</td>\n",
              "      <td>Thursday</td>\n",
              "      <td>4.133235</td>\n",
              "      <td>-21.65</td>\n",
              "      <td>-4.095421</td>\n",
              "    </tr>\n",
              "    <tr>\n",
              "      <th>2006-03-17</th>\n",
              "      <td>17/03/2006</td>\n",
              "      <td>-22.38</td>\n",
              "      <td>-22.04</td>\n",
              "      <td>2006-03-17</td>\n",
              "      <td>17</td>\n",
              "      <td>Friday</td>\n",
              "      <td>4.998236</td>\n",
              "      <td>-21.48</td>\n",
              "      <td>-0.831559</td>\n",
              "    </tr>\n",
              "    <tr>\n",
              "      <th>2006-03-18</th>\n",
              "      <td>18/03/2006</td>\n",
              "      <td>-22.60</td>\n",
              "      <td>-22.04</td>\n",
              "      <td>2006-03-18</td>\n",
              "      <td>18</td>\n",
              "      <td>Saturday</td>\n",
              "      <td>5.982635</td>\n",
              "      <td>-21.40</td>\n",
              "      <td>-2.403700</td>\n",
              "    </tr>\n",
              "    <tr>\n",
              "      <th>...</th>\n",
              "      <td>...</td>\n",
              "      <td>...</td>\n",
              "      <td>...</td>\n",
              "      <td>...</td>\n",
              "      <td>...</td>\n",
              "      <td>...</td>\n",
              "      <td>...</td>\n",
              "      <td>...</td>\n",
              "      <td>...</td>\n",
              "    </tr>\n",
              "    <tr>\n",
              "      <th>2020-06-26</th>\n",
              "      <td>26/06/2020</td>\n",
              "      <td>-25.68</td>\n",
              "      <td>-25.07</td>\n",
              "      <td>2020-06-26</td>\n",
              "      <td>26</td>\n",
              "      <td>Friday</td>\n",
              "      <td>278.064045</td>\n",
              "      <td>1519.92</td>\n",
              "      <td>76.226861</td>\n",
              "    </tr>\n",
              "    <tr>\n",
              "      <th>2020-06-27</th>\n",
              "      <td>27/06/2020</td>\n",
              "      <td>-25.80</td>\n",
              "      <td>-25.11</td>\n",
              "      <td>2020-06-27</td>\n",
              "      <td>27</td>\n",
              "      <td>Saturday</td>\n",
              "      <td>277.915999</td>\n",
              "      <td>1520.10</td>\n",
              "      <td>-21.346598</td>\n",
              "    </tr>\n",
              "    <tr>\n",
              "      <th>2020-06-28</th>\n",
              "      <td>28/06/2020</td>\n",
              "      <td>-25.80</td>\n",
              "      <td>-25.19</td>\n",
              "      <td>2020-06-28</td>\n",
              "      <td>28</td>\n",
              "      <td>Sunday</td>\n",
              "      <td>282.043941</td>\n",
              "      <td>1520.40</td>\n",
              "      <td>3.293737</td>\n",
              "    </tr>\n",
              "    <tr>\n",
              "      <th>2020-06-29</th>\n",
              "      <td>29/06/2020</td>\n",
              "      <td>-25.78</td>\n",
              "      <td>-25.18</td>\n",
              "      <td>2020-06-29</td>\n",
              "      <td>29</td>\n",
              "      <td>Monday</td>\n",
              "      <td>286.368356</td>\n",
              "      <td>1520.72</td>\n",
              "      <td>-13.984073</td>\n",
              "    </tr>\n",
              "    <tr>\n",
              "      <th>2020-06-30</th>\n",
              "      <td>30/06/2020</td>\n",
              "      <td>-25.91</td>\n",
              "      <td>-25.25</td>\n",
              "      <td>2020-06-30</td>\n",
              "      <td>30</td>\n",
              "      <td>Tuesday</td>\n",
              "      <td>288.502117</td>\n",
              "      <td>1520.89</td>\n",
              "      <td>-13.984487</td>\n",
              "    </tr>\n",
              "  </tbody>\n",
              "</table>\n",
              "<p>5157 rows × 9 columns</p>\n",
              "</div>"
            ],
            "text/plain": [
              "                  Date  Depth_to_Groundwater_P24  Depth_to_Groundwater_P25  \\\n",
              "time                                                                         \n",
              "2006-03-14  14/03/2006                    -22.48                    -22.18   \n",
              "2006-03-15  15/03/2006                    -22.38                    -22.14   \n",
              "2006-03-16  16/03/2006                    -22.25                    -22.04   \n",
              "2006-03-17  17/03/2006                    -22.38                    -22.04   \n",
              "2006-03-18  18/03/2006                    -22.60                    -22.04   \n",
              "...                ...                       ...                       ...   \n",
              "2020-06-26  26/06/2020                    -25.68                    -25.07   \n",
              "2020-06-27  27/06/2020                    -25.80                    -25.11   \n",
              "2020-06-28  28/06/2020                    -25.80                    -25.19   \n",
              "2020-06-29  29/06/2020                    -25.78                    -25.18   \n",
              "2020-06-30  30/06/2020                    -25.91                    -25.25   \n",
              "\n",
              "                 time  day   day_name      Lagged  \\\n",
              "time                                                \n",
              "2006-03-14 2006-03-14   14    Tuesday    4.855450   \n",
              "2006-03-15 2006-03-15   15  Wednesday    3.183770   \n",
              "2006-03-16 2006-03-16   16   Thursday    4.133235   \n",
              "2006-03-17 2006-03-17   17     Friday    4.998236   \n",
              "2006-03-18 2006-03-18   18   Saturday    5.982635   \n",
              "...               ...  ...        ...         ...   \n",
              "2020-06-26 2020-06-26   26     Friday  278.064045   \n",
              "2020-06-27 2020-06-27   27   Saturday  277.915999   \n",
              "2020-06-28 2020-06-28   28     Sunday  282.043941   \n",
              "2020-06-29 2020-06-29   29     Monday  286.368356   \n",
              "2020-06-30 2020-06-30   30    Tuesday  288.502117   \n",
              "\n",
              "            Depth_to_Groundwater_P24_trend     Hetero  \n",
              "time                                                   \n",
              "2006-03-14                          -22.48  -1.185566  \n",
              "2006-03-15                          -22.08  -0.962364  \n",
              "2006-03-16                          -21.65  -4.095421  \n",
              "2006-03-17                          -21.48  -0.831559  \n",
              "2006-03-18                          -21.40  -2.403700  \n",
              "...                                    ...        ...  \n",
              "2020-06-26                         1519.92  76.226861  \n",
              "2020-06-27                         1520.10 -21.346598  \n",
              "2020-06-28                         1520.40   3.293737  \n",
              "2020-06-29                         1520.72 -13.984073  \n",
              "2020-06-30                         1520.89 -13.984487  \n",
              "\n",
              "[5157 rows x 9 columns]"
            ]
          },
          "execution_count": 48,
          "metadata": {},
          "output_type": "execute_result"
        }
      ],
      "source": [
        "df2"
      ]
    },
    {
      "cell_type": "code",
      "execution_count": 49,
      "metadata": {},
      "outputs": [
        {
          "data": {
            "text/html": [
              "<div>\n",
              "<style scoped>\n",
              "    .dataframe tbody tr th:only-of-type {\n",
              "        vertical-align: middle;\n",
              "    }\n",
              "\n",
              "    .dataframe tbody tr th {\n",
              "        vertical-align: top;\n",
              "    }\n",
              "\n",
              "    .dataframe thead th {\n",
              "        text-align: right;\n",
              "    }\n",
              "</style>\n",
              "<table border=\"1\" class=\"dataframe\">\n",
              "  <thead>\n",
              "    <tr style=\"text-align: right;\">\n",
              "      <th></th>\n",
              "      <th>Date</th>\n",
              "      <th>Depth_to_Groundwater_P24</th>\n",
              "      <th>Depth_to_Groundwater_P25</th>\n",
              "      <th>time</th>\n",
              "      <th>day</th>\n",
              "      <th>day_name</th>\n",
              "      <th>Lagged</th>\n",
              "      <th>Depth_to_Groundwater_P24_trend</th>\n",
              "      <th>Hetero</th>\n",
              "      <th>Seasonal</th>\n",
              "    </tr>\n",
              "    <tr>\n",
              "      <th>time</th>\n",
              "      <th></th>\n",
              "      <th></th>\n",
              "      <th></th>\n",
              "      <th></th>\n",
              "      <th></th>\n",
              "      <th></th>\n",
              "      <th></th>\n",
              "      <th></th>\n",
              "      <th></th>\n",
              "      <th></th>\n",
              "    </tr>\n",
              "  </thead>\n",
              "  <tbody>\n",
              "    <tr>\n",
              "      <th>2006-03-14</th>\n",
              "      <td>14/03/2006</td>\n",
              "      <td>-22.48</td>\n",
              "      <td>-22.18</td>\n",
              "      <td>2006-03-14</td>\n",
              "      <td>14</td>\n",
              "      <td>Tuesday</td>\n",
              "      <td>4.855450</td>\n",
              "      <td>-22.48</td>\n",
              "      <td>-1.185566</td>\n",
              "      <td>8.300000</td>\n",
              "    </tr>\n",
              "    <tr>\n",
              "      <th>2006-03-15</th>\n",
              "      <td>15/03/2006</td>\n",
              "      <td>-22.38</td>\n",
              "      <td>-22.14</td>\n",
              "      <td>2006-03-15</td>\n",
              "      <td>15</td>\n",
              "      <td>Wednesday</td>\n",
              "      <td>3.183770</td>\n",
              "      <td>-22.08</td>\n",
              "      <td>-0.962364</td>\n",
              "      <td>8.281260</td>\n",
              "    </tr>\n",
              "    <tr>\n",
              "      <th>2006-03-16</th>\n",
              "      <td>16/03/2006</td>\n",
              "      <td>-22.25</td>\n",
              "      <td>-22.04</td>\n",
              "      <td>2006-03-16</td>\n",
              "      <td>16</td>\n",
              "      <td>Thursday</td>\n",
              "      <td>4.133235</td>\n",
              "      <td>-21.65</td>\n",
              "      <td>-4.095421</td>\n",
              "      <td>8.225581</td>\n",
              "    </tr>\n",
              "    <tr>\n",
              "      <th>2006-03-17</th>\n",
              "      <td>17/03/2006</td>\n",
              "      <td>-22.38</td>\n",
              "      <td>-22.04</td>\n",
              "      <td>2006-03-17</td>\n",
              "      <td>17</td>\n",
              "      <td>Friday</td>\n",
              "      <td>4.998236</td>\n",
              "      <td>-21.48</td>\n",
              "      <td>-0.831559</td>\n",
              "      <td>8.134568</td>\n",
              "    </tr>\n",
              "    <tr>\n",
              "      <th>2006-03-18</th>\n",
              "      <td>18/03/2006</td>\n",
              "      <td>-22.60</td>\n",
              "      <td>-22.04</td>\n",
              "      <td>2006-03-18</td>\n",
              "      <td>18</td>\n",
              "      <td>Saturday</td>\n",
              "      <td>5.982635</td>\n",
              "      <td>-21.40</td>\n",
              "      <td>-2.403700</td>\n",
              "      <td>8.010845</td>\n",
              "    </tr>\n",
              "    <tr>\n",
              "      <th>...</th>\n",
              "      <td>...</td>\n",
              "      <td>...</td>\n",
              "      <td>...</td>\n",
              "      <td>...</td>\n",
              "      <td>...</td>\n",
              "      <td>...</td>\n",
              "      <td>...</td>\n",
              "      <td>...</td>\n",
              "      <td>...</td>\n",
              "      <td>...</td>\n",
              "    </tr>\n",
              "    <tr>\n",
              "      <th>2020-06-26</th>\n",
              "      <td>26/06/2020</td>\n",
              "      <td>-25.68</td>\n",
              "      <td>-25.07</td>\n",
              "      <td>2020-06-26</td>\n",
              "      <td>26</td>\n",
              "      <td>Friday</td>\n",
              "      <td>278.064045</td>\n",
              "      <td>1519.92</td>\n",
              "      <td>76.226861</td>\n",
              "      <td>5.976487</td>\n",
              "    </tr>\n",
              "    <tr>\n",
              "      <th>2020-06-27</th>\n",
              "      <td>27/06/2020</td>\n",
              "      <td>-25.80</td>\n",
              "      <td>-25.11</td>\n",
              "      <td>2020-06-27</td>\n",
              "      <td>27</td>\n",
              "      <td>Saturday</td>\n",
              "      <td>277.915999</td>\n",
              "      <td>1520.10</td>\n",
              "      <td>-21.346598</td>\n",
              "      <td>5.855640</td>\n",
              "    </tr>\n",
              "    <tr>\n",
              "      <th>2020-06-28</th>\n",
              "      <td>28/06/2020</td>\n",
              "      <td>-25.80</td>\n",
              "      <td>-25.19</td>\n",
              "      <td>2020-06-28</td>\n",
              "      <td>28</td>\n",
              "      <td>Sunday</td>\n",
              "      <td>282.043941</td>\n",
              "      <td>1520.40</td>\n",
              "      <td>3.293737</td>\n",
              "      <td>5.767785</td>\n",
              "    </tr>\n",
              "    <tr>\n",
              "      <th>2020-06-29</th>\n",
              "      <td>29/06/2020</td>\n",
              "      <td>-25.78</td>\n",
              "      <td>-25.18</td>\n",
              "      <td>2020-06-29</td>\n",
              "      <td>29</td>\n",
              "      <td>Monday</td>\n",
              "      <td>286.368356</td>\n",
              "      <td>1520.72</td>\n",
              "      <td>-13.984073</td>\n",
              "      <td>5.715455</td>\n",
              "    </tr>\n",
              "    <tr>\n",
              "      <th>2020-06-30</th>\n",
              "      <td>30/06/2020</td>\n",
              "      <td>-25.91</td>\n",
              "      <td>-25.25</td>\n",
              "      <td>2020-06-30</td>\n",
              "      <td>30</td>\n",
              "      <td>Tuesday</td>\n",
              "      <td>288.502117</td>\n",
              "      <td>1520.89</td>\n",
              "      <td>-13.984487</td>\n",
              "      <td>5.700159</td>\n",
              "    </tr>\n",
              "  </tbody>\n",
              "</table>\n",
              "<p>5157 rows × 10 columns</p>\n",
              "</div>"
            ],
            "text/plain": [
              "                  Date  Depth_to_Groundwater_P24  Depth_to_Groundwater_P25  \\\n",
              "time                                                                         \n",
              "2006-03-14  14/03/2006                    -22.48                    -22.18   \n",
              "2006-03-15  15/03/2006                    -22.38                    -22.14   \n",
              "2006-03-16  16/03/2006                    -22.25                    -22.04   \n",
              "2006-03-17  17/03/2006                    -22.38                    -22.04   \n",
              "2006-03-18  18/03/2006                    -22.60                    -22.04   \n",
              "...                ...                       ...                       ...   \n",
              "2020-06-26  26/06/2020                    -25.68                    -25.07   \n",
              "2020-06-27  27/06/2020                    -25.80                    -25.11   \n",
              "2020-06-28  28/06/2020                    -25.80                    -25.19   \n",
              "2020-06-29  29/06/2020                    -25.78                    -25.18   \n",
              "2020-06-30  30/06/2020                    -25.91                    -25.25   \n",
              "\n",
              "                 time  day   day_name      Lagged  \\\n",
              "time                                                \n",
              "2006-03-14 2006-03-14   14    Tuesday    4.855450   \n",
              "2006-03-15 2006-03-15   15  Wednesday    3.183770   \n",
              "2006-03-16 2006-03-16   16   Thursday    4.133235   \n",
              "2006-03-17 2006-03-17   17     Friday    4.998236   \n",
              "2006-03-18 2006-03-18   18   Saturday    5.982635   \n",
              "...               ...  ...        ...         ...   \n",
              "2020-06-26 2020-06-26   26     Friday  278.064045   \n",
              "2020-06-27 2020-06-27   27   Saturday  277.915999   \n",
              "2020-06-28 2020-06-28   28     Sunday  282.043941   \n",
              "2020-06-29 2020-06-29   29     Monday  286.368356   \n",
              "2020-06-30 2020-06-30   30    Tuesday  288.502117   \n",
              "\n",
              "            Depth_to_Groundwater_P24_trend     Hetero  Seasonal  \n",
              "time                                                             \n",
              "2006-03-14                          -22.48  -1.185566  8.300000  \n",
              "2006-03-15                          -22.08  -0.962364  8.281260  \n",
              "2006-03-16                          -21.65  -4.095421  8.225581  \n",
              "2006-03-17                          -21.48  -0.831559  8.134568  \n",
              "2006-03-18                          -21.40  -2.403700  8.010845  \n",
              "...                                    ...        ...       ...  \n",
              "2020-06-26                         1519.92  76.226861  5.976487  \n",
              "2020-06-27                         1520.10 -21.346598  5.855640  \n",
              "2020-06-28                         1520.40   3.293737  5.767785  \n",
              "2020-06-29                         1520.72 -13.984073  5.715455  \n",
              "2020-06-30                         1520.89 -13.984487  5.700159  \n",
              "\n",
              "[5157 rows x 10 columns]"
            ]
          },
          "execution_count": 49,
          "metadata": {},
          "output_type": "execute_result"
        }
      ],
      "source": [
        "# Serie estacional (nueva)\n",
        "df2['Seasonal'] = 7 + np.cos(t_index * 0.17) * 1.3\n",
        "df2"
      ]
    },
    {
      "cell_type": "code",
      "execution_count": 50,
      "metadata": {},
      "outputs": [],
      "source": [
        "# Extraer componentes\n",
        "ytrend = decomposition.trend\n",
        "ysea = decomposition.seasonal\n",
        "yhet = decomposition.resid   # residuo = ruido no explicado\n",
        "y = df2['Depth_to_Groundwater_P24'].mean()    # nivel promedio"
      ]
    },
    {
      "cell_type": "code",
      "execution_count": 51,
      "metadata": {},
      "outputs": [
        {
          "data": {
            "text/plain": [
              "time\n",
              "2006-03-14   NaN\n",
              "2006-03-15   NaN\n",
              "2006-03-16   NaN\n",
              "2006-03-17   NaN\n",
              "2006-03-18   NaN\n",
              "              ..\n",
              "2020-06-26   NaN\n",
              "2020-06-27   NaN\n",
              "2020-06-28   NaN\n",
              "2020-06-29   NaN\n",
              "2020-06-30   NaN\n",
              "Name: trend, Length: 5157, dtype: float64"
            ]
          },
          "execution_count": 51,
          "metadata": {},
          "output_type": "execute_result"
        }
      ],
      "source": [
        "ytrend"
      ]
    },
    {
      "cell_type": "code",
      "execution_count": 52,
      "metadata": {},
      "outputs": [
        {
          "data": {
            "text/plain": [
              "time\n",
              "2006-03-14    0.968174\n",
              "2006-03-15    0.986319\n",
              "2006-03-16    1.022945\n",
              "2006-03-17    1.045729\n",
              "2006-03-18    1.057779\n",
              "                ...   \n",
              "2020-06-26    1.219198\n",
              "2020-06-27    1.210053\n",
              "2020-06-28    1.210165\n",
              "2020-06-29    1.311765\n",
              "2020-06-30    1.334108\n",
              "Name: seasonal, Length: 5157, dtype: float64"
            ]
          },
          "execution_count": 52,
          "metadata": {},
          "output_type": "execute_result"
        }
      ],
      "source": [
        "ysea"
      ]
    },
    {
      "cell_type": "code",
      "execution_count": 53,
      "metadata": {},
      "outputs": [
        {
          "data": {
            "text/plain": [
              "time\n",
              "2006-03-14   NaN\n",
              "2006-03-15   NaN\n",
              "2006-03-16   NaN\n",
              "2006-03-17   NaN\n",
              "2006-03-18   NaN\n",
              "              ..\n",
              "2020-06-26   NaN\n",
              "2020-06-27   NaN\n",
              "2020-06-28   NaN\n",
              "2020-06-29   NaN\n",
              "2020-06-30   NaN\n",
              "Name: resid, Length: 5157, dtype: float64"
            ]
          },
          "execution_count": 53,
          "metadata": {},
          "output_type": "execute_result"
        }
      ],
      "source": [
        "yhet"
      ]
    },
    {
      "cell_type": "code",
      "execution_count": 54,
      "metadata": {},
      "outputs": [
        {
          "data": {
            "text/plain": [
              "-26.273224743067672"
            ]
          },
          "execution_count": 54,
          "metadata": {},
          "output_type": "execute_result"
        }
      ],
      "source": [
        "y"
      ]
    },
    {
      "cell_type": "code",
      "execution_count": 55,
      "metadata": {},
      "outputs": [
        {
          "data": {
            "image/png": "[encoded data removed]",
            "text/plain": [
              "<Figure size 1200x600 with 1 Axes>"
            ]
          },
          "metadata": {},
          "output_type": "display_data"
        }
      ],
      "source": [
        "# Graficar Column1 y Column1 con tendencia\n",
        "plt.figure(figsize=(12,6))\n",
        "plt.plot(df2['time'], df2['Depth_to_Groundwater_P24'], label='Depth_to_Groundwater_P24 (ruido blanco)', alpha=0.6)\n",
        "plt.plot(df2['time'], df2['Lagged'], label='Lagged')\n",
        "plt.plot(df2['time'], df2['Depth_to_Groundwater_P24_trend'], label='Depth_to_Groundwater_P24 con tendencia')\n",
        "plt.plot(df2['time'], df2['Hetero'], label='Hetero')\n",
        "plt.plot(df2['time'], df2['Seasonal'], label='Estacionalidad (coseno)', linewidth=2)\n",
        "plt.plot(df2.index, ysea + ytrend*3.56 + y + yhet, label=\"Serie reconstruida\")\n",
        "plt.title(\"Series temporales\")\n",
        "plt.xlabel(\"Fecha\")\n",
        "plt.ylabel(\"Valor\")\n",
        "plt.legend()\n",
        "plt.grid(True)\n",
        "plt.show()"
      ]
    },
    {
      "cell_type": "code",
      "execution_count": 56,
      "metadata": {},
      "outputs": [],
      "source": [
        "from statsmodels.graphics.tsaplots import plot_acf"
      ]
    },
    {
      "cell_type": "code",
      "execution_count": 57,
      "metadata": {},
      "outputs": [
        {
          "data": {
            "image/png": "[encoded data removed]",
            "text/plain": [
              "<Figure size 640x480 with 1 Axes>"
            ]
          },
          "metadata": {},
          "output_type": "display_data"
        }
      ],
      "source": [
        "plot_acf(lagged, lags=10);"
      ]
    },
    {
      "cell_type": "code",
      "execution_count": 58,
      "metadata": {},
      "outputs": [
        {
          "data": {
            "image/png": "[encoded data removed]",
            "text/plain": [
              "<Figure size 640x480 with 1 Axes>"
            ]
          },
          "metadata": {},
          "output_type": "display_data"
        }
      ],
      "source": [
        "from statsmodels.graphics.tsaplots import plot_pacf\n",
        "plot_pacf(lagged, lags=10);  # Plot for the first 20 lags"
      ]
    },
    {
      "cell_type": "code",
      "execution_count": 59,
      "metadata": {},
      "outputs": [
        {
          "name": "stdout",
          "output_type": "stream",
          "text": [
            "Análisis de la serie original (Depth_to_Groundwater_P24):\n",
            "Bloque 1: media=-25.60, std=2.16\n",
            "Bloque 2: media=-31.61, std=1.03\n",
            "Bloque 3: media=-28.48, std=1.23\n",
            "Bloque 4: media=-25.69, std=1.32\n",
            "Bloque 5: media=-30.26, std=2.80\n",
            "Bloque 6: media=-22.05, std=1.18\n",
            "Bloque 7: media=-22.33, std=1.25\n",
            "Bloque 8: media=-24.38, std=0.88\n",
            "Bloque 9: media=-26.29, std=1.27\n",
            "Bloque 10: media=-26.04, std=0.73\n",
            "----------------------------------------\n",
            "Análisis de la tendencia (Depth_to_Groundwater_P24):\n",
            "Bloque 1: media=-27.93, std=1.82\n",
            "Bloque 2: media=-31.16, std=0.65\n",
            "Bloque 3: media=-28.20, std=0.83\n",
            "Bloque 4: media=-25.85, std=0.72\n",
            "Bloque 5: media=-29.84, std=1.40\n",
            "Bloque 6: media=-22.55, std=1.44\n",
            "Bloque 7: media=-22.03, std=0.74\n",
            "Bloque 8: media=-24.24, std=0.22\n",
            "Bloque 9: media=-26.03, std=0.43\n",
            "Bloque 10: media=-26.10, std=0.27\n"
          ]
        }
      ],
      "source": [
        "# Serie original\n",
        "y = df2['Depth_to_Groundwater_P24'].values\n",
        "\n",
        "# Dividir en 10 bloques y calcular estadísticas\n",
        "splits = np.array_split(y, 10)   # uso array_split porque maneja mejor si no se divide exacto\n",
        "print(\"Análisis de la serie original (Depth_to_Groundwater_P24):\")\n",
        "for i, block in enumerate(splits, 1):\n",
        "    print(f\"Bloque {i}: media={np.mean(block):.2f}, std={np.std(block):.2f}\")\n",
        "\n",
        "print(\"--\"*20)\n",
        "\n",
        "# Serie de tendencia obtenida en la descomposición\n",
        "ytrend = decomposition.trend.dropna().values  # quitar NaN en los extremos\n",
        "splits_trend = np.array_split(ytrend, 10)\n",
        "\n",
        "print(\"Análisis de la tendencia (Depth_to_Groundwater_P24):\")\n",
        "for i, block in enumerate(splits_trend, 1):\n",
        "    print(f\"Bloque {i}: media={np.mean(block):.2f}, std={np.std(block):.2f}\")"
      ]
    },
    {
      "cell_type": "code",
      "execution_count": 60,
      "metadata": {},
      "outputs": [
        {
          "data": {
            "text/plain": [
              "[-25.601492248062016,\n",
              " -31.60943798449612,\n",
              " -28.479767441860464,\n",
              " -25.692538759689924,\n",
              " -30.256085271317833,\n",
              " -22.05133720930233,\n",
              " -22.333372093023257,\n",
              " -24.37978640776699,\n",
              " -26.288796116504855,\n",
              " -26.035533980582525]"
            ]
          },
          "execution_count": 60,
          "metadata": {},
          "output_type": "execute_result"
        }
      ],
      "source": [
        "[np.mean(block) for block in splits]"
      ]
    },
    {
      "cell_type": "code",
      "execution_count": 61,
      "metadata": {},
      "outputs": [
        {
          "name": "stdout",
          "output_type": "stream",
          "text": [
            "           0\n",
            "0 -25.601492\n",
            "1 -31.609438\n",
            "2 -28.479767\n",
            "3 -25.692539\n",
            "4 -30.256085\n",
            "5 -22.051337\n",
            "6 -22.333372\n",
            "7 -24.379786\n",
            "8 -26.288796\n",
            "9 -26.035534\n"
          ]
        }
      ],
      "source": [
        "mean_blocks = np.array([np.mean(block) for block in splits])\n",
        "print(pd.DataFrame(mean_blocks))"
      ]
    },
    {
      "cell_type": "code",
      "execution_count": 62,
      "metadata": {},
      "outputs": [],
      "source": [
        "splits_trend = np.array_split(ytrend, 10)\n",
        "mean_trend_blocks = np.array([np.mean(block) for block in splits_trend])"
      ]
    },
    {
      "cell_type": "code",
      "execution_count": 63,
      "metadata": {},
      "outputs": [
        {
          "data": {
            "text/html": [
              "<div>\n",
              "<style scoped>\n",
              "    .dataframe tbody tr th:only-of-type {\n",
              "        vertical-align: middle;\n",
              "    }\n",
              "\n",
              "    .dataframe tbody tr th {\n",
              "        vertical-align: top;\n",
              "    }\n",
              "\n",
              "    .dataframe thead th {\n",
              "        text-align: right;\n",
              "    }\n",
              "</style>\n",
              "<table border=\"1\" class=\"dataframe\">\n",
              "  <thead>\n",
              "    <tr style=\"text-align: right;\">\n",
              "      <th></th>\n",
              "      <th>0</th>\n",
              "      <th>1</th>\n",
              "      <th>2</th>\n",
              "      <th>3</th>\n",
              "      <th>4</th>\n",
              "      <th>5</th>\n",
              "      <th>6</th>\n",
              "      <th>7</th>\n",
              "      <th>8</th>\n",
              "      <th>9</th>\n",
              "      <th>...</th>\n",
              "      <th>470</th>\n",
              "      <th>471</th>\n",
              "      <th>472</th>\n",
              "      <th>473</th>\n",
              "      <th>474</th>\n",
              "      <th>475</th>\n",
              "      <th>476</th>\n",
              "      <th>477</th>\n",
              "      <th>478</th>\n",
              "      <th>479</th>\n",
              "    </tr>\n",
              "  </thead>\n",
              "  <tbody>\n",
              "    <tr>\n",
              "      <th>0</th>\n",
              "      <td>-24.726849</td>\n",
              "      <td>-24.739918</td>\n",
              "      <td>-24.753041</td>\n",
              "      <td>-24.765918</td>\n",
              "      <td>-24.778575</td>\n",
              "      <td>-24.790904</td>\n",
              "      <td>-24.803781</td>\n",
              "      <td>-24.816301</td>\n",
              "      <td>-24.829288</td>\n",
              "      <td>-24.842000</td>\n",
              "      <td>...</td>\n",
              "      <td>-30.701945</td>\n",
              "      <td>-30.711315</td>\n",
              "      <td>-30.720137</td>\n",
              "      <td>-30.729315</td>\n",
              "      <td>-30.738767</td>\n",
              "      <td>-30.748301</td>\n",
              "      <td>-30.757315</td>\n",
              "      <td>-30.766247</td>\n",
              "      <td>-30.775233</td>\n",
              "      <td>-30.784658</td>\n",
              "    </tr>\n",
              "    <tr>\n",
              "      <th>1</th>\n",
              "      <td>-30.793945</td>\n",
              "      <td>-30.802877</td>\n",
              "      <td>-30.811836</td>\n",
              "      <td>-30.820822</td>\n",
              "      <td>-30.829425</td>\n",
              "      <td>-30.837370</td>\n",
              "      <td>-30.845671</td>\n",
              "      <td>-30.854082</td>\n",
              "      <td>-30.862712</td>\n",
              "      <td>-30.872164</td>\n",
              "      <td>...</td>\n",
              "      <td>-29.688521</td>\n",
              "      <td>-29.678575</td>\n",
              "      <td>-29.668904</td>\n",
              "      <td>-29.659123</td>\n",
              "      <td>-29.649096</td>\n",
              "      <td>-29.639288</td>\n",
              "      <td>-29.629096</td>\n",
              "      <td>-29.618822</td>\n",
              "      <td>-29.608329</td>\n",
              "      <td>-29.597671</td>\n",
              "    </tr>\n",
              "    <tr>\n",
              "      <th>2</th>\n",
              "      <td>-29.586658</td>\n",
              "      <td>-29.576192</td>\n",
              "      <td>-29.565616</td>\n",
              "      <td>-29.555178</td>\n",
              "      <td>-29.544932</td>\n",
              "      <td>-29.535041</td>\n",
              "      <td>-29.525397</td>\n",
              "      <td>-29.515342</td>\n",
              "      <td>-29.505479</td>\n",
              "      <td>-29.495671</td>\n",
              "      <td>...</td>\n",
              "      <td>-26.424164</td>\n",
              "      <td>-26.412466</td>\n",
              "      <td>-26.400137</td>\n",
              "      <td>-26.388411</td>\n",
              "      <td>-26.377096</td>\n",
              "      <td>-26.365562</td>\n",
              "      <td>-26.354000</td>\n",
              "      <td>-26.342904</td>\n",
              "      <td>-26.332000</td>\n",
              "      <td>-26.321315</td>\n",
              "    </tr>\n",
              "    <tr>\n",
              "      <th>3</th>\n",
              "      <td>-26.310438</td>\n",
              "      <td>-26.299562</td>\n",
              "      <td>-26.289041</td>\n",
              "      <td>-26.278164</td>\n",
              "      <td>-26.267233</td>\n",
              "      <td>-26.256411</td>\n",
              "      <td>-26.245534</td>\n",
              "      <td>-26.234685</td>\n",
              "      <td>-26.223753</td>\n",
              "      <td>-26.213397</td>\n",
              "      <td>...</td>\n",
              "      <td>-27.690356</td>\n",
              "      <td>-27.705534</td>\n",
              "      <td>-27.720411</td>\n",
              "      <td>-27.735260</td>\n",
              "      <td>-27.751616</td>\n",
              "      <td>-27.768027</td>\n",
              "      <td>-27.785233</td>\n",
              "      <td>-27.803233</td>\n",
              "      <td>-27.821233</td>\n",
              "      <td>NaN</td>\n",
              "    </tr>\n",
              "    <tr>\n",
              "      <th>4</th>\n",
              "      <td>-27.840356</td>\n",
              "      <td>-27.859973</td>\n",
              "      <td>-27.879479</td>\n",
              "      <td>-27.899205</td>\n",
              "      <td>-27.919096</td>\n",
              "      <td>-27.938137</td>\n",
              "      <td>-27.957452</td>\n",
              "      <td>-27.976575</td>\n",
              "      <td>-27.996164</td>\n",
              "      <td>-28.015808</td>\n",
              "      <td>...</td>\n",
              "      <td>-26.756712</td>\n",
              "      <td>-26.726986</td>\n",
              "      <td>-26.697123</td>\n",
              "      <td>-26.667096</td>\n",
              "      <td>-26.636986</td>\n",
              "      <td>-26.607068</td>\n",
              "      <td>-26.576740</td>\n",
              "      <td>-26.546164</td>\n",
              "      <td>-26.515014</td>\n",
              "      <td>NaN</td>\n",
              "    </tr>\n",
              "    <tr>\n",
              "      <th>5</th>\n",
              "      <td>-26.484247</td>\n",
              "      <td>-26.452986</td>\n",
              "      <td>-26.421562</td>\n",
              "      <td>-26.390329</td>\n",
              "      <td>-26.358822</td>\n",
              "      <td>-26.327616</td>\n",
              "      <td>-26.296575</td>\n",
              "      <td>-26.265342</td>\n",
              "      <td>-26.233808</td>\n",
              "      <td>-26.201973</td>\n",
              "      <td>...</td>\n",
              "      <td>-21.238877</td>\n",
              "      <td>-21.239479</td>\n",
              "      <td>-21.240411</td>\n",
              "      <td>-21.240877</td>\n",
              "      <td>-21.242329</td>\n",
              "      <td>-21.242712</td>\n",
              "      <td>-21.244247</td>\n",
              "      <td>-21.245726</td>\n",
              "      <td>-21.246767</td>\n",
              "      <td>NaN</td>\n",
              "    </tr>\n",
              "    <tr>\n",
              "      <th>6</th>\n",
              "      <td>-21.247233</td>\n",
              "      <td>-21.248301</td>\n",
              "      <td>-21.248685</td>\n",
              "      <td>-21.250630</td>\n",
              "      <td>-21.253096</td>\n",
              "      <td>-21.255945</td>\n",
              "      <td>-21.257452</td>\n",
              "      <td>-21.258493</td>\n",
              "      <td>-21.259452</td>\n",
              "      <td>-21.261753</td>\n",
              "      <td>...</td>\n",
              "      <td>-23.640137</td>\n",
              "      <td>-23.648055</td>\n",
              "      <td>-23.655562</td>\n",
              "      <td>-23.663068</td>\n",
              "      <td>-23.670603</td>\n",
              "      <td>-23.678164</td>\n",
              "      <td>-23.685836</td>\n",
              "      <td>-23.693918</td>\n",
              "      <td>-23.701315</td>\n",
              "      <td>NaN</td>\n",
              "    </tr>\n",
              "    <tr>\n",
              "      <th>7</th>\n",
              "      <td>-23.708329</td>\n",
              "      <td>-23.713945</td>\n",
              "      <td>-23.719041</td>\n",
              "      <td>-23.723781</td>\n",
              "      <td>-23.728712</td>\n",
              "      <td>-23.734027</td>\n",
              "      <td>-23.739589</td>\n",
              "      <td>-23.745781</td>\n",
              "      <td>-23.753205</td>\n",
              "      <td>-23.759808</td>\n",
              "      <td>...</td>\n",
              "      <td>-24.813836</td>\n",
              "      <td>-24.822411</td>\n",
              "      <td>-24.831041</td>\n",
              "      <td>-24.840438</td>\n",
              "      <td>-24.849836</td>\n",
              "      <td>-24.859288</td>\n",
              "      <td>-24.868877</td>\n",
              "      <td>-24.878164</td>\n",
              "      <td>-24.887260</td>\n",
              "      <td>NaN</td>\n",
              "    </tr>\n",
              "    <tr>\n",
              "      <th>8</th>\n",
              "      <td>-24.896301</td>\n",
              "      <td>-24.905726</td>\n",
              "      <td>-24.915808</td>\n",
              "      <td>-24.926247</td>\n",
              "      <td>-24.936110</td>\n",
              "      <td>-24.946000</td>\n",
              "      <td>-24.956110</td>\n",
              "      <td>-24.966110</td>\n",
              "      <td>-24.976000</td>\n",
              "      <td>-24.985589</td>\n",
              "      <td>...</td>\n",
              "      <td>-25.680685</td>\n",
              "      <td>-25.677562</td>\n",
              "      <td>-25.675068</td>\n",
              "      <td>-25.672685</td>\n",
              "      <td>-25.670438</td>\n",
              "      <td>-25.667479</td>\n",
              "      <td>-25.665178</td>\n",
              "      <td>-25.663397</td>\n",
              "      <td>-25.661753</td>\n",
              "      <td>NaN</td>\n",
              "    </tr>\n",
              "    <tr>\n",
              "      <th>9</th>\n",
              "      <td>-25.658959</td>\n",
              "      <td>-25.655452</td>\n",
              "      <td>-25.651753</td>\n",
              "      <td>-25.648329</td>\n",
              "      <td>-25.644658</td>\n",
              "      <td>-25.641890</td>\n",
              "      <td>-25.640219</td>\n",
              "      <td>-25.638740</td>\n",
              "      <td>-25.636247</td>\n",
              "      <td>-25.633973</td>\n",
              "      <td>...</td>\n",
              "      <td>-26.072986</td>\n",
              "      <td>-26.072356</td>\n",
              "      <td>-26.072247</td>\n",
              "      <td>-26.072466</td>\n",
              "      <td>-26.072932</td>\n",
              "      <td>-26.073205</td>\n",
              "      <td>-26.073397</td>\n",
              "      <td>-26.073425</td>\n",
              "      <td>-26.073863</td>\n",
              "      <td>NaN</td>\n",
              "    </tr>\n",
              "  </tbody>\n",
              "</table>\n",
              "<p>10 rows × 480 columns</p>\n",
              "</div>"
            ],
            "text/plain": [
              "         0          1          2          3          4          5    \\\n",
              "0 -24.726849 -24.739918 -24.753041 -24.765918 -24.778575 -24.790904   \n",
              "1 -30.793945 -30.802877 -30.811836 -30.820822 -30.829425 -30.837370   \n",
              "2 -29.586658 -29.576192 -29.565616 -29.555178 -29.544932 -29.535041   \n",
              "3 -26.310438 -26.299562 -26.289041 -26.278164 -26.267233 -26.256411   \n",
              "4 -27.840356 -27.859973 -27.879479 -27.899205 -27.919096 -27.938137   \n",
              "5 -26.484247 -26.452986 -26.421562 -26.390329 -26.358822 -26.327616   \n",
              "6 -21.247233 -21.248301 -21.248685 -21.250630 -21.253096 -21.255945   \n",
              "7 -23.708329 -23.713945 -23.719041 -23.723781 -23.728712 -23.734027   \n",
              "8 -24.896301 -24.905726 -24.915808 -24.926247 -24.936110 -24.946000   \n",
              "9 -25.658959 -25.655452 -25.651753 -25.648329 -25.644658 -25.641890   \n",
              "\n",
              "         6          7          8          9    ...        470        471  \\\n",
              "0 -24.803781 -24.816301 -24.829288 -24.842000  ... -30.701945 -30.711315   \n",
              "1 -30.845671 -30.854082 -30.862712 -30.872164  ... -29.688521 -29.678575   \n",
              "2 -29.525397 -29.515342 -29.505479 -29.495671  ... -26.424164 -26.412466   \n",
              "3 -26.245534 -26.234685 -26.223753 -26.213397  ... -27.690356 -27.705534   \n",
              "4 -27.957452 -27.976575 -27.996164 -28.015808  ... -26.756712 -26.726986   \n",
              "5 -26.296575 -26.265342 -26.233808 -26.201973  ... -21.238877 -21.239479   \n",
              "6 -21.257452 -21.258493 -21.259452 -21.261753  ... -23.640137 -23.648055   \n",
              "7 -23.739589 -23.745781 -23.753205 -23.759808  ... -24.813836 -24.822411   \n",
              "8 -24.956110 -24.966110 -24.976000 -24.985589  ... -25.680685 -25.677562   \n",
              "9 -25.640219 -25.638740 -25.636247 -25.633973  ... -26.072986 -26.072356   \n",
              "\n",
              "         472        473        474        475        476        477  \\\n",
              "0 -30.720137 -30.729315 -30.738767 -30.748301 -30.757315 -30.766247   \n",
              "1 -29.668904 -29.659123 -29.649096 -29.639288 -29.629096 -29.618822   \n",
              "2 -26.400137 -26.388411 -26.377096 -26.365562 -26.354000 -26.342904   \n",
              "3 -27.720411 -27.735260 -27.751616 -27.768027 -27.785233 -27.803233   \n",
              "4 -26.697123 -26.667096 -26.636986 -26.607068 -26.576740 -26.546164   \n",
              "5 -21.240411 -21.240877 -21.242329 -21.242712 -21.244247 -21.245726   \n",
              "6 -23.655562 -23.663068 -23.670603 -23.678164 -23.685836 -23.693918   \n",
              "7 -24.831041 -24.840438 -24.849836 -24.859288 -24.868877 -24.878164   \n",
              "8 -25.675068 -25.672685 -25.670438 -25.667479 -25.665178 -25.663397   \n",
              "9 -26.072247 -26.072466 -26.072932 -26.073205 -26.073397 -26.073425   \n",
              "\n",
              "         478        479  \n",
              "0 -30.775233 -30.784658  \n",
              "1 -29.608329 -29.597671  \n",
              "2 -26.332000 -26.321315  \n",
              "3 -27.821233        NaN  \n",
              "4 -26.515014        NaN  \n",
              "5 -21.246767        NaN  \n",
              "6 -23.701315        NaN  \n",
              "7 -24.887260        NaN  \n",
              "8 -25.661753        NaN  \n",
              "9 -26.073863        NaN  \n",
              "\n",
              "[10 rows x 480 columns]"
            ]
          },
          "execution_count": 63,
          "metadata": {},
          "output_type": "execute_result"
        }
      ],
      "source": [
        "splits_trend = pd.DataFrame(splits_trend)\n",
        "splits_trend"
      ]
    },
    {
      "cell_type": "code",
      "execution_count": 64,
      "metadata": {},
      "outputs": [
        {
          "data": {
            "text/html": [
              "<div>\n",
              "<style scoped>\n",
              "    .dataframe tbody tr th:only-of-type {\n",
              "        vertical-align: middle;\n",
              "    }\n",
              "\n",
              "    .dataframe tbody tr th {\n",
              "        vertical-align: top;\n",
              "    }\n",
              "\n",
              "    .dataframe thead th {\n",
              "        text-align: right;\n",
              "    }\n",
              "</style>\n",
              "<table border=\"1\" class=\"dataframe\">\n",
              "  <thead>\n",
              "    <tr style=\"text-align: right;\">\n",
              "      <th></th>\n",
              "      <th>0</th>\n",
              "    </tr>\n",
              "  </thead>\n",
              "  <tbody>\n",
              "    <tr>\n",
              "      <th>0</th>\n",
              "      <td>-27.929334</td>\n",
              "    </tr>\n",
              "    <tr>\n",
              "      <th>1</th>\n",
              "      <td>-31.160070</td>\n",
              "    </tr>\n",
              "    <tr>\n",
              "      <th>2</th>\n",
              "      <td>-28.198965</td>\n",
              "    </tr>\n",
              "    <tr>\n",
              "      <th>3</th>\n",
              "      <td>-25.849924</td>\n",
              "    </tr>\n",
              "    <tr>\n",
              "      <th>4</th>\n",
              "      <td>-29.840906</td>\n",
              "    </tr>\n",
              "    <tr>\n",
              "      <th>5</th>\n",
              "      <td>-22.546638</td>\n",
              "    </tr>\n",
              "    <tr>\n",
              "      <th>6</th>\n",
              "      <td>-22.032130</td>\n",
              "    </tr>\n",
              "    <tr>\n",
              "      <th>7</th>\n",
              "      <td>-24.238533</td>\n",
              "    </tr>\n",
              "    <tr>\n",
              "      <th>8</th>\n",
              "      <td>-26.031033</td>\n",
              "    </tr>\n",
              "    <tr>\n",
              "      <th>9</th>\n",
              "      <td>-26.098342</td>\n",
              "    </tr>\n",
              "  </tbody>\n",
              "</table>\n",
              "</div>"
            ],
            "text/plain": [
              "           0\n",
              "0 -27.929334\n",
              "1 -31.160070\n",
              "2 -28.198965\n",
              "3 -25.849924\n",
              "4 -29.840906\n",
              "5 -22.546638\n",
              "6 -22.032130\n",
              "7 -24.238533\n",
              "8 -26.031033\n",
              "9 -26.098342"
            ]
          },
          "execution_count": 64,
          "metadata": {},
          "output_type": "execute_result"
        }
      ],
      "source": [
        "mean_trend_blocks = pd.DataFrame(mean_trend_blocks)\n",
        "mean_trend_blocks"
      ]
    },
    {
      "cell_type": "code",
      "execution_count": 65,
      "metadata": {},
      "outputs": [
        {
          "data": {
            "image/png": "[encoded data removed]",
            "text/plain": [
              "<Figure size 1000x400 with 2 Axes>"
            ]
          },
          "metadata": {},
          "output_type": "display_data"
        }
      ],
      "source": [
        "fig, axes = plt.subplots(1, 2, figsize=(10, 4))  # 1 row, 2 columns\n",
        "axes[0].hist(y) # White noise\n",
        "axes[1].hist(ytrend) # trend - uniform!\n",
        "plt.show()"
      ]
    },
    {
      "cell_type": "code",
      "execution_count": 66,
      "metadata": {},
      "outputs": [],
      "source": [
        "import pandas as pd"
      ]
    },
    {
      "cell_type": "code",
      "execution_count": 67,
      "metadata": {},
      "outputs": [
        {
          "name": "stderr",
          "output_type": "stream",
          "text": [
            "c:\\Users\\Angel Resendiz Plata\\AppData\\Local\\Programs\\Python\\Python311\\Lib\\site-packages\\pmdarima\\compat\\sklearn.py:7: UserWarning: pkg_resources is deprecated as an API. See https://setuptools.pypa.io/en/latest/pkg_resources.html. The pkg_resources package is slated for removal as early as 2025-11-30. Refrain from using this package or pin to Setuptools<81.\n",
            "  from pkg_resources import parse_version\n"
          ]
        }
      ],
      "source": [
        "from pmdarima import auto_arima"
      ]
    },
    {
      "cell_type": "code",
      "execution_count": 68,
      "metadata": {},
      "outputs": [],
      "source": [
        "from pmdarima import auto_arima"
      ]
    },
    {
      "cell_type": "code",
      "execution_count": null,
      "metadata": {},
      "outputs": [
        {
          "name": "stderr",
          "output_type": "stream",
          "text": [
            "c:\\Users\\Angel Resendiz Plata\\AppData\\Local\\Programs\\Python\\Python311\\Lib\\site-packages\\sklearn\\utils\\deprecation.py:132: FutureWarning: 'force_all_finite' was renamed to 'ensure_all_finite' in 1.6 and will be removed in 1.8.\n",
            "  warnings.warn(\n",
            "c:\\Users\\Angel Resendiz Plata\\AppData\\Local\\Programs\\Python\\Python311\\Lib\\site-packages\\sklearn\\utils\\deprecation.py:132: FutureWarning: 'force_all_finite' was renamed to 'ensure_all_finite' in 1.6 and will be removed in 1.8.\n",
            "  warnings.warn(\n",
            "c:\\Users\\Angel Resendiz Plata\\AppData\\Local\\Programs\\Python\\Python311\\Lib\\site-packages\\sklearn\\utils\\deprecation.py:132: FutureWarning: 'force_all_finite' was renamed to 'ensure_all_finite' in 1.6 and will be removed in 1.8.\n",
            "  warnings.warn(\n",
            "c:\\Users\\Angel Resendiz Plata\\AppData\\Local\\Programs\\Python\\Python311\\Lib\\site-packages\\sklearn\\utils\\deprecation.py:132: FutureWarning: 'force_all_finite' was renamed to 'ensure_all_finite' in 1.6 and will be removed in 1.8.\n",
            "  warnings.warn(\n",
            "c:\\Users\\Angel Resendiz Plata\\AppData\\Local\\Programs\\Python\\Python311\\Lib\\site-packages\\sklearn\\utils\\deprecation.py:132: FutureWarning: 'force_all_finite' was renamed to 'ensure_all_finite' in 1.6 and will be removed in 1.8.\n",
            "  warnings.warn(\n",
            "c:\\Users\\Angel Resendiz Plata\\AppData\\Local\\Programs\\Python\\Python311\\Lib\\site-packages\\sklearn\\utils\\deprecation.py:132: FutureWarning: 'force_all_finite' was renamed to 'ensure_all_finite' in 1.6 and will be removed in 1.8.\n",
            "  warnings.warn(\n",
            "c:\\Users\\Angel Resendiz Plata\\AppData\\Local\\Programs\\Python\\Python311\\Lib\\site-packages\\sklearn\\utils\\deprecation.py:132: FutureWarning: 'force_all_finite' was renamed to 'ensure_all_finite' in 1.6 and will be removed in 1.8.\n",
            "  warnings.warn(\n",
            "c:\\Users\\Angel Resendiz Plata\\AppData\\Local\\Programs\\Python\\Python311\\Lib\\site-packages\\sklearn\\utils\\deprecation.py:132: FutureWarning: 'force_all_finite' was renamed to 'ensure_all_finite' in 1.6 and will be removed in 1.8.\n",
            "  warnings.warn(\n",
            "c:\\Users\\Angel Resendiz Plata\\AppData\\Local\\Programs\\Python\\Python311\\Lib\\site-packages\\sklearn\\utils\\deprecation.py:132: FutureWarning: 'force_all_finite' was renamed to 'ensure_all_finite' in 1.6 and will be removed in 1.8.\n",
            "  warnings.warn(\n"
          ]
        },
        {
          "name": "stdout",
          "output_type": "stream",
          "text": [
            "Performing stepwise search to minimize aic\n",
            " ARIMA(2,1,2)(0,0,0)[0] intercept   : AIC=-6533.449, Time=13.75 sec\n"
          ]
        },
        {
          "name": "stderr",
          "output_type": "stream",
          "text": [
            "c:\\Users\\Angel Resendiz Plata\\AppData\\Local\\Programs\\Python\\Python311\\Lib\\site-packages\\sklearn\\utils\\deprecation.py:132: FutureWarning: 'force_all_finite' was renamed to 'ensure_all_finite' in 1.6 and will be removed in 1.8.\n",
            "  warnings.warn(\n"
          ]
        },
        {
          "name": "stdout",
          "output_type": "stream",
          "text": [
            " ARIMA(0,1,0)(0,0,0)[0] intercept   : AIC=-6399.574, Time=0.85 sec\n"
          ]
        },
        {
          "name": "stderr",
          "output_type": "stream",
          "text": [
            "c:\\Users\\Angel Resendiz Plata\\AppData\\Local\\Programs\\Python\\Python311\\Lib\\site-packages\\sklearn\\utils\\deprecation.py:132: FutureWarning: 'force_all_finite' was renamed to 'ensure_all_finite' in 1.6 and will be removed in 1.8.\n",
            "  warnings.warn(\n"
          ]
        },
        {
          "name": "stdout",
          "output_type": "stream",
          "text": [
            " ARIMA(1,1,0)(0,0,0)[0] intercept   : AIC=-6437.534, Time=0.48 sec\n"
          ]
        },
        {
          "name": "stderr",
          "output_type": "stream",
          "text": [
            "c:\\Users\\Angel Resendiz Plata\\AppData\\Local\\Programs\\Python\\Python311\\Lib\\site-packages\\sklearn\\utils\\deprecation.py:132: FutureWarning: 'force_all_finite' was renamed to 'ensure_all_finite' in 1.6 and will be removed in 1.8.\n",
            "  warnings.warn(\n"
          ]
        },
        {
          "name": "stdout",
          "output_type": "stream",
          "text": [
            " ARIMA(0,1,1)(0,0,0)[0] intercept   : AIC=-6447.275, Time=1.05 sec\n"
          ]
        },
        {
          "name": "stderr",
          "output_type": "stream",
          "text": [
            "c:\\Users\\Angel Resendiz Plata\\AppData\\Local\\Programs\\Python\\Python311\\Lib\\site-packages\\sklearn\\utils\\deprecation.py:132: FutureWarning: 'force_all_finite' was renamed to 'ensure_all_finite' in 1.6 and will be removed in 1.8.\n",
            "  warnings.warn(\n"
          ]
        },
        {
          "name": "stdout",
          "output_type": "stream",
          "text": [
            " ARIMA(0,1,0)(0,0,0)[0]             : AIC=-6401.439, Time=1.23 sec\n"
          ]
        },
        {
          "name": "stderr",
          "output_type": "stream",
          "text": [
            "c:\\Users\\Angel Resendiz Plata\\AppData\\Local\\Programs\\Python\\Python311\\Lib\\site-packages\\sklearn\\utils\\deprecation.py:132: FutureWarning: 'force_all_finite' was renamed to 'ensure_all_finite' in 1.6 and will be removed in 1.8.\n",
            "  warnings.warn(\n"
          ]
        },
        {
          "name": "stdout",
          "output_type": "stream",
          "text": [
            " ARIMA(1,1,2)(0,0,0)[0] intercept   : AIC=-6500.439, Time=4.09 sec\n"
          ]
        },
        {
          "name": "stderr",
          "output_type": "stream",
          "text": [
            "c:\\Users\\Angel Resendiz Plata\\AppData\\Local\\Programs\\Python\\Python311\\Lib\\site-packages\\sklearn\\utils\\deprecation.py:132: FutureWarning: 'force_all_finite' was renamed to 'ensure_all_finite' in 1.6 and will be removed in 1.8.\n",
            "  warnings.warn(\n"
          ]
        },
        {
          "name": "stdout",
          "output_type": "stream",
          "text": [
            " ARIMA(2,1,1)(0,0,0)[0] intercept   : AIC=-6501.848, Time=4.42 sec\n"
          ]
        },
        {
          "name": "stderr",
          "output_type": "stream",
          "text": [
            "c:\\Users\\Angel Resendiz Plata\\AppData\\Local\\Programs\\Python\\Python311\\Lib\\site-packages\\sklearn\\utils\\deprecation.py:132: FutureWarning: 'force_all_finite' was renamed to 'ensure_all_finite' in 1.6 and will be removed in 1.8.\n",
            "  warnings.warn(\n"
          ]
        },
        {
          "name": "stdout",
          "output_type": "stream",
          "text": [
            " ARIMA(3,1,2)(0,0,0)[0] intercept   : AIC=-6498.841, Time=8.89 sec\n"
          ]
        },
        {
          "name": "stderr",
          "output_type": "stream",
          "text": [
            "c:\\Users\\Angel Resendiz Plata\\AppData\\Local\\Programs\\Python\\Python311\\Lib\\site-packages\\sklearn\\utils\\deprecation.py:132: FutureWarning: 'force_all_finite' was renamed to 'ensure_all_finite' in 1.6 and will be removed in 1.8.\n",
            "  warnings.warn(\n"
          ]
        },
        {
          "name": "stdout",
          "output_type": "stream",
          "text": [
            " ARIMA(2,1,3)(0,0,0)[0] intercept   : AIC=-6497.728, Time=13.68 sec\n"
          ]
        },
        {
          "name": "stderr",
          "output_type": "stream",
          "text": [
            "c:\\Users\\Angel Resendiz Plata\\AppData\\Local\\Programs\\Python\\Python311\\Lib\\site-packages\\sklearn\\utils\\deprecation.py:132: FutureWarning: 'force_all_finite' was renamed to 'ensure_all_finite' in 1.6 and will be removed in 1.8.\n",
            "  warnings.warn(\n"
          ]
        },
        {
          "name": "stdout",
          "output_type": "stream",
          "text": [
            " ARIMA(1,1,1)(0,0,0)[0] intercept   : AIC=-6490.386, Time=11.50 sec\n"
          ]
        },
        {
          "name": "stderr",
          "output_type": "stream",
          "text": [
            "c:\\Users\\Angel Resendiz Plata\\AppData\\Local\\Programs\\Python\\Python311\\Lib\\site-packages\\sklearn\\utils\\deprecation.py:132: FutureWarning: 'force_all_finite' was renamed to 'ensure_all_finite' in 1.6 and will be removed in 1.8.\n",
            "  warnings.warn(\n"
          ]
        },
        {
          "name": "stdout",
          "output_type": "stream",
          "text": [
            " ARIMA(1,1,3)(0,0,0)[0] intercept   : AIC=-6499.694, Time=7.30 sec\n"
          ]
        },
        {
          "name": "stderr",
          "output_type": "stream",
          "text": [
            "c:\\Users\\Angel Resendiz Plata\\AppData\\Local\\Programs\\Python\\Python311\\Lib\\site-packages\\sklearn\\utils\\deprecation.py:132: FutureWarning: 'force_all_finite' was renamed to 'ensure_all_finite' in 1.6 and will be removed in 1.8.\n",
            "  warnings.warn(\n"
          ]
        },
        {
          "name": "stdout",
          "output_type": "stream",
          "text": [
            " ARIMA(3,1,1)(0,0,0)[0] intercept   : AIC=-6501.802, Time=6.58 sec\n"
          ]
        },
        {
          "name": "stderr",
          "output_type": "stream",
          "text": [
            "c:\\Users\\Angel Resendiz Plata\\AppData\\Local\\Programs\\Python\\Python311\\Lib\\site-packages\\sklearn\\utils\\deprecation.py:132: FutureWarning: 'force_all_finite' was renamed to 'ensure_all_finite' in 1.6 and will be removed in 1.8.\n",
            "  warnings.warn(\n"
          ]
        },
        {
          "name": "stdout",
          "output_type": "stream",
          "text": [
            " ARIMA(3,1,3)(0,0,0)[0] intercept   : AIC=-6529.627, Time=17.12 sec\n"
          ]
        },
        {
          "name": "stderr",
          "output_type": "stream",
          "text": [
            "c:\\Users\\Angel Resendiz Plata\\AppData\\Local\\Programs\\Python\\Python311\\Lib\\site-packages\\sklearn\\utils\\deprecation.py:132: FutureWarning: 'force_all_finite' was renamed to 'ensure_all_finite' in 1.6 and will be removed in 1.8.\n",
            "  warnings.warn(\n"
          ]
        },
        {
          "name": "stdout",
          "output_type": "stream",
          "text": [
            " ARIMA(2,1,2)(0,0,0)[0]             : AIC=-6535.241, Time=3.22 sec\n"
          ]
        },
        {
          "name": "stderr",
          "output_type": "stream",
          "text": [
            "c:\\Users\\Angel Resendiz Plata\\AppData\\Local\\Programs\\Python\\Python311\\Lib\\site-packages\\sklearn\\utils\\deprecation.py:132: FutureWarning: 'force_all_finite' was renamed to 'ensure_all_finite' in 1.6 and will be removed in 1.8.\n",
            "  warnings.warn(\n"
          ]
        },
        {
          "name": "stdout",
          "output_type": "stream",
          "text": [
            " ARIMA(1,1,2)(0,0,0)[0]             : AIC=-6502.206, Time=1.90 sec\n"
          ]
        },
        {
          "name": "stderr",
          "output_type": "stream",
          "text": [
            "c:\\Users\\Angel Resendiz Plata\\AppData\\Local\\Programs\\Python\\Python311\\Lib\\site-packages\\sklearn\\utils\\deprecation.py:132: FutureWarning: 'force_all_finite' was renamed to 'ensure_all_finite' in 1.6 and will be removed in 1.8.\n",
            "  warnings.warn(\n"
          ]
        },
        {
          "name": "stdout",
          "output_type": "stream",
          "text": [
            " ARIMA(2,1,1)(0,0,0)[0]             : AIC=-6503.615, Time=1.36 sec\n"
          ]
        },
        {
          "name": "stderr",
          "output_type": "stream",
          "text": [
            "c:\\Users\\Angel Resendiz Plata\\AppData\\Local\\Programs\\Python\\Python311\\Lib\\site-packages\\sklearn\\utils\\deprecation.py:132: FutureWarning: 'force_all_finite' was renamed to 'ensure_all_finite' in 1.6 and will be removed in 1.8.\n",
            "  warnings.warn(\n"
          ]
        },
        {
          "name": "stdout",
          "output_type": "stream",
          "text": [
            " ARIMA(3,1,2)(0,0,0)[0]             : AIC=-6500.608, Time=2.55 sec\n"
          ]
        },
        {
          "name": "stderr",
          "output_type": "stream",
          "text": [
            "c:\\Users\\Angel Resendiz Plata\\AppData\\Local\\Programs\\Python\\Python311\\Lib\\site-packages\\sklearn\\utils\\deprecation.py:132: FutureWarning: 'force_all_finite' was renamed to 'ensure_all_finite' in 1.6 and will be removed in 1.8.\n",
            "  warnings.warn(\n"
          ]
        },
        {
          "name": "stdout",
          "output_type": "stream",
          "text": [
            " ARIMA(2,1,3)(0,0,0)[0]             : AIC=-6559.471, Time=6.09 sec\n"
          ]
        },
        {
          "name": "stderr",
          "output_type": "stream",
          "text": [
            "c:\\Users\\Angel Resendiz Plata\\AppData\\Local\\Programs\\Python\\Python311\\Lib\\site-packages\\sklearn\\utils\\deprecation.py:132: FutureWarning: 'force_all_finite' was renamed to 'ensure_all_finite' in 1.6 and will be removed in 1.8.\n",
            "  warnings.warn(\n"
          ]
        },
        {
          "name": "stdout",
          "output_type": "stream",
          "text": [
            " ARIMA(1,1,3)(0,0,0)[0]             : AIC=-6501.460, Time=2.32 sec\n"
          ]
        },
        {
          "name": "stderr",
          "output_type": "stream",
          "text": [
            "c:\\Users\\Angel Resendiz Plata\\AppData\\Local\\Programs\\Python\\Python311\\Lib\\site-packages\\sklearn\\utils\\deprecation.py:132: FutureWarning: 'force_all_finite' was renamed to 'ensure_all_finite' in 1.6 and will be removed in 1.8.\n",
            "  warnings.warn(\n"
          ]
        },
        {
          "name": "stdout",
          "output_type": "stream",
          "text": [
            " ARIMA(3,1,3)(0,0,0)[0]             : AIC=-6531.420, Time=8.65 sec\n"
          ]
        },
        {
          "name": "stderr",
          "output_type": "stream",
          "text": [
            "c:\\Users\\Angel Resendiz Plata\\AppData\\Local\\Programs\\Python\\Python311\\Lib\\site-packages\\sklearn\\utils\\deprecation.py:132: FutureWarning: 'force_all_finite' was renamed to 'ensure_all_finite' in 1.6 and will be removed in 1.8.\n",
            "  warnings.warn(\n"
          ]
        },
        {
          "name": "stdout",
          "output_type": "stream",
          "text": [
            " ARIMA(2,1,4)(0,0,0)[0]             : AIC=-6601.772, Time=9.39 sec\n"
          ]
        },
        {
          "name": "stderr",
          "output_type": "stream",
          "text": [
            "c:\\Users\\Angel Resendiz Plata\\AppData\\Local\\Programs\\Python\\Python311\\Lib\\site-packages\\sklearn\\utils\\deprecation.py:132: FutureWarning: 'force_all_finite' was renamed to 'ensure_all_finite' in 1.6 and will be removed in 1.8.\n",
            "  warnings.warn(\n"
          ]
        },
        {
          "name": "stdout",
          "output_type": "stream",
          "text": [
            " ARIMA(1,1,4)(0,0,0)[0]             : AIC=-6632.402, Time=5.53 sec\n"
          ]
        },
        {
          "name": "stderr",
          "output_type": "stream",
          "text": [
            "c:\\Users\\Angel Resendiz Plata\\AppData\\Local\\Programs\\Python\\Python311\\Lib\\site-packages\\sklearn\\utils\\deprecation.py:132: FutureWarning: 'force_all_finite' was renamed to 'ensure_all_finite' in 1.6 and will be removed in 1.8.\n",
            "  warnings.warn(\n"
          ]
        },
        {
          "name": "stdout",
          "output_type": "stream",
          "text": [
            " ARIMA(0,1,4)(0,0,0)[0]             : AIC=-6501.480, Time=0.93 sec\n"
          ]
        },
        {
          "name": "stderr",
          "output_type": "stream",
          "text": [
            "c:\\Users\\Angel Resendiz Plata\\AppData\\Local\\Programs\\Python\\Python311\\Lib\\site-packages\\sklearn\\utils\\deprecation.py:132: FutureWarning: 'force_all_finite' was renamed to 'ensure_all_finite' in 1.6 and will be removed in 1.8.\n",
            "  warnings.warn(\n"
          ]
        },
        {
          "name": "stdout",
          "output_type": "stream",
          "text": [
            " ARIMA(1,1,5)(0,0,0)[0]             : AIC=-6641.129, Time=6.05 sec\n"
          ]
        },
        {
          "name": "stderr",
          "output_type": "stream",
          "text": [
            "c:\\Users\\Angel Resendiz Plata\\AppData\\Local\\Programs\\Python\\Python311\\Lib\\site-packages\\sklearn\\utils\\deprecation.py:132: FutureWarning: 'force_all_finite' was renamed to 'ensure_all_finite' in 1.6 and will be removed in 1.8.\n",
            "  warnings.warn(\n"
          ]
        },
        {
          "name": "stdout",
          "output_type": "stream",
          "text": [
            " ARIMA(0,1,5)(0,0,0)[0]             : AIC=-6501.086, Time=1.63 sec\n"
          ]
        },
        {
          "name": "stderr",
          "output_type": "stream",
          "text": [
            "c:\\Users\\Angel Resendiz Plata\\AppData\\Local\\Programs\\Python\\Python311\\Lib\\site-packages\\sklearn\\utils\\deprecation.py:132: FutureWarning: 'force_all_finite' was renamed to 'ensure_all_finite' in 1.6 and will be removed in 1.8.\n",
            "  warnings.warn(\n"
          ]
        },
        {
          "name": "stdout",
          "output_type": "stream",
          "text": [
            " ARIMA(2,1,5)(0,0,0)[0]             : AIC=-6589.365, Time=11.64 sec\n"
          ]
        },
        {
          "name": "stderr",
          "output_type": "stream",
          "text": [
            "c:\\Users\\Angel Resendiz Plata\\AppData\\Local\\Programs\\Python\\Python311\\Lib\\site-packages\\sklearn\\utils\\deprecation.py:132: FutureWarning: 'force_all_finite' was renamed to 'ensure_all_finite' in 1.6 and will be removed in 1.8.\n",
            "  warnings.warn(\n"
          ]
        },
        {
          "name": "stdout",
          "output_type": "stream",
          "text": [
            " ARIMA(1,1,5)(0,0,0)[0] intercept   : AIC=-6549.674, Time=15.15 sec\n",
            "\n",
            "Best model:  ARIMA(1,1,5)(0,0,0)[0]          \n",
            "Total fit time: 167.464 seconds\n",
            "                               SARIMAX Results                                \n",
            "==============================================================================\n",
            "Dep. Variable:                      y   No. Observations:                 5157\n",
            "Model:               SARIMAX(1, 1, 5)   Log Likelihood                3327.565\n",
            "Date:                Fri, 22 Aug 2025   AIC                          -6641.129\n",
            "Time:                        21:16:58   BIC                          -6595.294\n",
            "Sample:                             0   HQIC                         -6625.090\n",
            "                               - 5157                                         \n",
            "Covariance Type:                  opg                                         \n",
            "==============================================================================\n",
            "                 coef    std err          z      P>|z|      [0.025      0.975]\n",
            "------------------------------------------------------------------------------\n",
            "ar.L1          0.9878      0.004    259.097      0.000       0.980       0.995\n",
            "ma.L1         -1.1214      0.012    -95.289      0.000      -1.145      -1.098\n",
            "ma.L2          0.0107      0.018      0.609      0.542      -0.024       0.045\n",
            "ma.L3          0.0629      0.019      3.257      0.001       0.025       0.101\n",
            "ma.L4          0.0261      0.018      1.410      0.159      -0.010       0.062\n",
            "ma.L5          0.0490      0.012      3.990      0.000       0.025       0.073\n",
            "sigma2         0.0161      0.000     92.484      0.000       0.016       0.016\n",
            "===================================================================================\n",
            "Ljung-Box (L1) (Q):                   0.02   Jarque-Bera (JB):              5635.56\n",
            "Prob(Q):                              0.90   Prob(JB):                         0.00\n",
            "Heteroskedasticity (H):               1.05   Skew:                             0.50\n",
            "Prob(H) (two-sided):                  0.28   Kurtosis:                         8.02\n",
            "===================================================================================\n",
            "\n",
            "Warnings:\n",
            "[1] Covariance matrix calculated using the outer product of gradients (complex-step).\n"
          ]
        }
      ],
      "source": [
        "modelo = auto_arima(df2['Depth_to_Groundwater_P24'], seasonal=False,\n",
        "                    stepwise=True,\n",
        "                    trace=True)\n",
        "print(modelo.summary())"
      ]
    },
    {
      "cell_type": "code",
      "execution_count": 71,
      "metadata": {},
      "outputs": [
        {
          "name": "stderr",
          "output_type": "stream",
          "text": [
            "c:\\Users\\Angel Resendiz Plata\\AppData\\Local\\Programs\\Python\\Python311\\Lib\\site-packages\\sklearn\\utils\\deprecation.py:132: FutureWarning: 'force_all_finite' was renamed to 'ensure_all_finite' in 1.6 and will be removed in 1.8.\n",
            "  warnings.warn(\n",
            "c:\\Users\\Angel Resendiz Plata\\AppData\\Local\\Programs\\Python\\Python311\\Lib\\site-packages\\sklearn\\utils\\deprecation.py:132: FutureWarning: 'force_all_finite' was renamed to 'ensure_all_finite' in 1.6 and will be removed in 1.8.\n",
            "  warnings.warn(\n",
            "c:\\Users\\Angel Resendiz Plata\\AppData\\Local\\Programs\\Python\\Python311\\Lib\\site-packages\\sklearn\\utils\\deprecation.py:132: FutureWarning: 'force_all_finite' was renamed to 'ensure_all_finite' in 1.6 and will be removed in 1.8.\n",
            "  warnings.warn(\n",
            "c:\\Users\\Angel Resendiz Plata\\AppData\\Local\\Programs\\Python\\Python311\\Lib\\site-packages\\sklearn\\utils\\deprecation.py:132: FutureWarning: 'force_all_finite' was renamed to 'ensure_all_finite' in 1.6 and will be removed in 1.8.\n",
            "  warnings.warn(\n",
            "c:\\Users\\Angel Resendiz Plata\\AppData\\Local\\Programs\\Python\\Python311\\Lib\\site-packages\\sklearn\\utils\\deprecation.py:132: FutureWarning: 'force_all_finite' was renamed to 'ensure_all_finite' in 1.6 and will be removed in 1.8.\n",
            "  warnings.warn(\n",
            "c:\\Users\\Angel Resendiz Plata\\AppData\\Local\\Programs\\Python\\Python311\\Lib\\site-packages\\sklearn\\utils\\deprecation.py:132: FutureWarning: 'force_all_finite' was renamed to 'ensure_all_finite' in 1.6 and will be removed in 1.8.\n",
            "  warnings.warn(\n",
            "c:\\Users\\Angel Resendiz Plata\\AppData\\Local\\Programs\\Python\\Python311\\Lib\\site-packages\\sklearn\\utils\\deprecation.py:132: FutureWarning: 'force_all_finite' was renamed to 'ensure_all_finite' in 1.6 and will be removed in 1.8.\n",
            "  warnings.warn(\n",
            "c:\\Users\\Angel Resendiz Plata\\AppData\\Local\\Programs\\Python\\Python311\\Lib\\site-packages\\sklearn\\utils\\deprecation.py:132: FutureWarning: 'force_all_finite' was renamed to 'ensure_all_finite' in 1.6 and will be removed in 1.8.\n",
            "  warnings.warn(\n",
            "c:\\Users\\Angel Resendiz Plata\\AppData\\Local\\Programs\\Python\\Python311\\Lib\\site-packages\\sklearn\\utils\\deprecation.py:132: FutureWarning: 'force_all_finite' was renamed to 'ensure_all_finite' in 1.6 and will be removed in 1.8.\n",
            "  warnings.warn(\n",
            "c:\\Users\\Angel Resendiz Plata\\AppData\\Local\\Programs\\Python\\Python311\\Lib\\site-packages\\sklearn\\utils\\deprecation.py:132: FutureWarning: 'force_all_finite' was renamed to 'ensure_all_finite' in 1.6 and will be removed in 1.8.\n",
            "  warnings.warn(\n",
            "c:\\Users\\Angel Resendiz Plata\\AppData\\Local\\Programs\\Python\\Python311\\Lib\\site-packages\\sklearn\\utils\\deprecation.py:132: FutureWarning: 'force_all_finite' was renamed to 'ensure_all_finite' in 1.6 and will be removed in 1.8.\n",
            "  warnings.warn(\n",
            "c:\\Users\\Angel Resendiz Plata\\AppData\\Local\\Programs\\Python\\Python311\\Lib\\site-packages\\sklearn\\utils\\deprecation.py:132: FutureWarning: 'force_all_finite' was renamed to 'ensure_all_finite' in 1.6 and will be removed in 1.8.\n",
            "  warnings.warn(\n",
            "c:\\Users\\Angel Resendiz Plata\\AppData\\Local\\Programs\\Python\\Python311\\Lib\\site-packages\\sklearn\\utils\\deprecation.py:132: FutureWarning: 'force_all_finite' was renamed to 'ensure_all_finite' in 1.6 and will be removed in 1.8.\n",
            "  warnings.warn(\n",
            "c:\\Users\\Angel Resendiz Plata\\AppData\\Local\\Programs\\Python\\Python311\\Lib\\site-packages\\sklearn\\utils\\deprecation.py:132: FutureWarning: 'force_all_finite' was renamed to 'ensure_all_finite' in 1.6 and will be removed in 1.8.\n",
            "  warnings.warn(\n",
            "c:\\Users\\Angel Resendiz Plata\\AppData\\Local\\Programs\\Python\\Python311\\Lib\\site-packages\\sklearn\\utils\\deprecation.py:132: FutureWarning: 'force_all_finite' was renamed to 'ensure_all_finite' in 1.6 and will be removed in 1.8.\n",
            "  warnings.warn(\n",
            "c:\\Users\\Angel Resendiz Plata\\AppData\\Local\\Programs\\Python\\Python311\\Lib\\site-packages\\sklearn\\utils\\deprecation.py:132: FutureWarning: 'force_all_finite' was renamed to 'ensure_all_finite' in 1.6 and will be removed in 1.8.\n",
            "  warnings.warn(\n",
            "c:\\Users\\Angel Resendiz Plata\\AppData\\Local\\Programs\\Python\\Python311\\Lib\\site-packages\\sklearn\\utils\\deprecation.py:132: FutureWarning: 'force_all_finite' was renamed to 'ensure_all_finite' in 1.6 and will be removed in 1.8.\n",
            "  warnings.warn(\n",
            "c:\\Users\\Angel Resendiz Plata\\AppData\\Local\\Programs\\Python\\Python311\\Lib\\site-packages\\sklearn\\utils\\deprecation.py:132: FutureWarning: 'force_all_finite' was renamed to 'ensure_all_finite' in 1.6 and will be removed in 1.8.\n",
            "  warnings.warn(\n",
            "c:\\Users\\Angel Resendiz Plata\\AppData\\Local\\Programs\\Python\\Python311\\Lib\\site-packages\\sklearn\\utils\\deprecation.py:132: FutureWarning: 'force_all_finite' was renamed to 'ensure_all_finite' in 1.6 and will be removed in 1.8.\n",
            "  warnings.warn(\n",
            "c:\\Users\\Angel Resendiz Plata\\AppData\\Local\\Programs\\Python\\Python311\\Lib\\site-packages\\sklearn\\utils\\deprecation.py:132: FutureWarning: 'force_all_finite' was renamed to 'ensure_all_finite' in 1.6 and will be removed in 1.8.\n",
            "  warnings.warn(\n",
            "c:\\Users\\Angel Resendiz Plata\\AppData\\Local\\Programs\\Python\\Python311\\Lib\\site-packages\\sklearn\\utils\\deprecation.py:132: FutureWarning: 'force_all_finite' was renamed to 'ensure_all_finite' in 1.6 and will be removed in 1.8.\n",
            "  warnings.warn(\n",
            "c:\\Users\\Angel Resendiz Plata\\AppData\\Local\\Programs\\Python\\Python311\\Lib\\site-packages\\sklearn\\utils\\deprecation.py:132: FutureWarning: 'force_all_finite' was renamed to 'ensure_all_finite' in 1.6 and will be removed in 1.8.\n",
            "  warnings.warn(\n",
            "c:\\Users\\Angel Resendiz Plata\\AppData\\Local\\Programs\\Python\\Python311\\Lib\\site-packages\\sklearn\\utils\\deprecation.py:132: FutureWarning: 'force_all_finite' was renamed to 'ensure_all_finite' in 1.6 and will be removed in 1.8.\n",
            "  warnings.warn(\n",
            "c:\\Users\\Angel Resendiz Plata\\AppData\\Local\\Programs\\Python\\Python311\\Lib\\site-packages\\sklearn\\utils\\deprecation.py:132: FutureWarning: 'force_all_finite' was renamed to 'ensure_all_finite' in 1.6 and will be removed in 1.8.\n",
            "  warnings.warn(\n",
            "c:\\Users\\Angel Resendiz Plata\\AppData\\Local\\Programs\\Python\\Python311\\Lib\\site-packages\\sklearn\\utils\\deprecation.py:132: FutureWarning: 'force_all_finite' was renamed to 'ensure_all_finite' in 1.6 and will be removed in 1.8.\n",
            "  warnings.warn(\n",
            "c:\\Users\\Angel Resendiz Plata\\AppData\\Local\\Programs\\Python\\Python311\\Lib\\site-packages\\sklearn\\utils\\deprecation.py:132: FutureWarning: 'force_all_finite' was renamed to 'ensure_all_finite' in 1.6 and will be removed in 1.8.\n",
            "  warnings.warn(\n",
            "c:\\Users\\Angel Resendiz Plata\\AppData\\Local\\Programs\\Python\\Python311\\Lib\\site-packages\\sklearn\\utils\\deprecation.py:132: FutureWarning: 'force_all_finite' was renamed to 'ensure_all_finite' in 1.6 and will be removed in 1.8.\n",
            "  warnings.warn(\n",
            "c:\\Users\\Angel Resendiz Plata\\AppData\\Local\\Programs\\Python\\Python311\\Lib\\site-packages\\sklearn\\utils\\deprecation.py:132: FutureWarning: 'force_all_finite' was renamed to 'ensure_all_finite' in 1.6 and will be removed in 1.8.\n",
            "  warnings.warn(\n",
            "c:\\Users\\Angel Resendiz Plata\\AppData\\Local\\Programs\\Python\\Python311\\Lib\\site-packages\\sklearn\\utils\\deprecation.py:132: FutureWarning: 'force_all_finite' was renamed to 'ensure_all_finite' in 1.6 and will be removed in 1.8.\n",
            "  warnings.warn(\n",
            "c:\\Users\\Angel Resendiz Plata\\AppData\\Local\\Programs\\Python\\Python311\\Lib\\site-packages\\sklearn\\utils\\deprecation.py:132: FutureWarning: 'force_all_finite' was renamed to 'ensure_all_finite' in 1.6 and will be removed in 1.8.\n",
            "  warnings.warn(\n",
            "c:\\Users\\Angel Resendiz Plata\\AppData\\Local\\Programs\\Python\\Python311\\Lib\\site-packages\\sklearn\\utils\\deprecation.py:132: FutureWarning: 'force_all_finite' was renamed to 'ensure_all_finite' in 1.6 and will be removed in 1.8.\n",
            "  warnings.warn(\n",
            "c:\\Users\\Angel Resendiz Plata\\AppData\\Local\\Programs\\Python\\Python311\\Lib\\site-packages\\statsmodels\\tsa\\base\\tsa_model.py:837: ValueWarning: No supported index is available. Prediction results will be given with an integer index beginning at `start`.\n",
            "  return get_prediction_index(\n",
            "c:\\Users\\Angel Resendiz Plata\\AppData\\Local\\Programs\\Python\\Python311\\Lib\\site-packages\\statsmodels\\tsa\\base\\tsa_model.py:837: FutureWarning: No supported index is available. In the next version, calling this method in a model without a supported index will result in an exception.\n",
            "  return get_prediction_index(\n",
            "c:\\Users\\Angel Resendiz Plata\\AppData\\Local\\Programs\\Python\\Python311\\Lib\\site-packages\\sklearn\\utils\\deprecation.py:132: FutureWarning: 'force_all_finite' was renamed to 'ensure_all_finite' in 1.6 and will be removed in 1.8.\n",
            "  warnings.warn(\n"
          ]
        },
        {
          "data": {
            "image/png": "[encoded data removed]",
            "text/plain": [
              "<Figure size 1200x600 with 1 Axes>"
            ]
          },
          "metadata": {},
          "output_type": "display_data"
        }
      ],
      "source": [
        "train = df2.iloc[:-12]  # Todo menos los últimos 12 meses\n",
        "test = df2.iloc[-12:]   # Últimos 12 meses\n",
        "\n",
        "modelo = auto_arima(train['Depth_to_Groundwater_P24'], seasonal=False, stepwise=True)\n",
        "predicciones = modelo.predict(n_periods=len(test))\n",
        "\n",
        "# Comparar visualmente\n",
        "plt.figure(figsize=(12,6))\n",
        "plt.plot(test.index, test['Depth_to_Groundwater_P24'], label=\"Test\")\n",
        "plt.plot(test.index, predicciones, label=\"Predicción\")\n",
        "plt.legend()\n",
        "plt.show()"
      ]
    },
    {
      "cell_type": "code",
      "execution_count": 73,
      "metadata": {},
      "outputs": [
        {
          "name": "stdout",
          "output_type": "stream",
          "text": [
            "RMSE: 0.5798038668147325\n"
          ]
        }
      ],
      "source": [
        "from sklearn.metrics import mean_squared_error\n",
        "import numpy as np\n",
        "rmse = np.sqrt(mean_squared_error(test['Depth_to_Groundwater_P24'], predicciones))\n",
        "print(f\"RMSE: {rmse}\")"
      ]
    },
    {
      "cell_type": "code",
      "execution_count": 74,
      "metadata": {},
      "outputs": [
        {
          "data": {
            "text/plain": [
              "0.5388176396390968"
            ]
          },
          "execution_count": 74,
          "metadata": {},
          "output_type": "execute_result"
        }
      ],
      "source": [
        "from sklearn.metrics import mean_absolute_error\n",
        "mean_absolute_error(test['Depth_to_Groundwater_P24'], predicciones)"
      ]
    },
    {
      "cell_type": "code",
      "execution_count": 76,
      "metadata": {},
      "outputs": [
        {
          "data": {
            "text/plain": [
              "0.020981887486995972"
            ]
          },
          "execution_count": 76,
          "metadata": {},
          "output_type": "execute_result"
        }
      ],
      "source": [
        "from sklearn.metrics import mean_absolute_percentage_error\n",
        "mean_absolute_percentage_error(test['Depth_to_Groundwater_P24'], predicciones)"
      ]
    },
    {
      "cell_type": "code",
      "execution_count": 77,
      "metadata": {},
      "outputs": [
        {
          "name": "stderr",
          "output_type": "stream",
          "text": [
            "c:\\Users\\Angel Resendiz Plata\\AppData\\Local\\Programs\\Python\\Python311\\Lib\\site-packages\\statsmodels\\tsa\\base\\tsa_model.py:837: ValueWarning: No supported index is available. Prediction results will be given with an integer index beginning at `start`.\n",
            "  return get_prediction_index(\n",
            "c:\\Users\\Angel Resendiz Plata\\AppData\\Local\\Programs\\Python\\Python311\\Lib\\site-packages\\statsmodels\\tsa\\base\\tsa_model.py:837: FutureWarning: No supported index is available. In the next version, calling this method in a model without a supported index will result in an exception.\n",
            "  return get_prediction_index(\n",
            "c:\\Users\\Angel Resendiz Plata\\AppData\\Local\\Programs\\Python\\Python311\\Lib\\site-packages\\sklearn\\utils\\deprecation.py:132: FutureWarning: 'force_all_finite' was renamed to 'ensure_all_finite' in 1.6 and will be removed in 1.8.\n",
            "  warnings.warn(\n"
          ]
        }
      ],
      "source": [
        "forecast = modelo.predict(3)"
      ]
    },
    {
      "cell_type": "code",
      "execution_count": 78,
      "metadata": {},
      "outputs": [
        {
          "data": {
            "text/plain": [
              "5145   -25.018076\n",
              "5146   -25.037576\n",
              "5147   -25.048341\n",
              "dtype: float64"
            ]
          },
          "execution_count": 78,
          "metadata": {},
          "output_type": "execute_result"
        }
      ],
      "source": [
        "forecast"
      ]
    }
  ],
  "metadata": {
    "colab": {
      "provenance": []
    },
    "kernelspec": {
      "display_name": "Python 3",
      "name": "python3"
    },
    "language_info": {
      "codemirror_mode": {
        "name": "ipython",
        "version": 3
      },
      "file_extension": ".py",
      "mimetype": "text/x-python",
      "name": "python",
      "nbconvert_exporter": "python",
      "pygments_lexer": "ipython3",
      "version": "3.11.0"
    }
  },
  "nbformat": 4,
  "nbformat_minor": 0
}
