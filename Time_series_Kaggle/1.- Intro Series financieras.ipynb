{
  "cells": [
    {
      "cell_type": "markdown",
      "metadata": {
        "id": "N1tu_SS-sl1q"
      },
      "source": [
        "# Introducción a la series de tiempo\n",
        "\n",
        "El siguiente cuaderno tiene como objetivo introducir al lector al manejo básico de las series de tiempo en python.\n",
        "\n",
        "Las librerías necesarias son:\n",
        "  * pandas\n",
        "  * matplotlib\n",
        "\n"
      ]
    },
    {
      "cell_type": "code",
      "execution_count": 29,
      "metadata": {},
      "outputs": [
        {
          "name": "stdout",
          "output_type": "stream",
          "text": [
            "C:\\Users\\Angel Resendiz Plata\\AppData\\Local\\Programs\\Microsoft VS Code\n"
          ]
        }
      ],
      "source": [
        "import os\n",
        "print(os.getcwd())"
      ]
    },
    {
      "cell_type": "code",
      "execution_count": 30,
      "metadata": {
        "id": "d1pVLc4Wsgd_"
      },
      "outputs": [],
      "source": [
        "# load libraries\n",
        "import pandas as pd\n",
        "import matplotlib.pyplot as plt"
      ]
    },
    {
      "cell_type": "code",
      "execution_count": 31,
      "metadata": {
        "id": "077oOVgjt5dz"
      },
      "outputs": [],
      "source": [
        "url = r\"C:\\Users\\Angel Resendiz Plata\\OneDrive\\Documentos\\Programación\\4Geeks\\Guía programa\\23.- Time Series Forecasting\\Ejercicios\\Datos\\acea-water-prediction\\Aquifer_Petrignano.csv\""
      ]
    },
    {
      "cell_type": "code",
      "execution_count": 32,
      "metadata": {
        "id": "S5mEydPBuL2m"
      },
      "outputs": [],
      "source": [
        "df = pd.read_csv(url)"
      ]
    },
    {
      "cell_type": "code",
      "execution_count": 33,
      "metadata": {
        "colab": {
          "base_uri": "https://localhost:8080/",
          "height": 206
        },
        "id": "KtgpJFLWbW1n",
        "outputId": "96f92c97-403c-4c6a-e511-946c379ae73f"
      },
      "outputs": [
        {
          "data": {
            "text/html": [
              "<div>\n",
              "<style scoped>\n",
              "    .dataframe tbody tr th:only-of-type {\n",
              "        vertical-align: middle;\n",
              "    }\n",
              "\n",
              "    .dataframe tbody tr th {\n",
              "        vertical-align: top;\n",
              "    }\n",
              "\n",
              "    .dataframe thead th {\n",
              "        text-align: right;\n",
              "    }\n",
              "</style>\n",
              "<table border=\"1\" class=\"dataframe\">\n",
              "  <thead>\n",
              "    <tr style=\"text-align: right;\">\n",
              "      <th></th>\n",
              "      <th>Date</th>\n",
              "      <th>Rainfall_Bastia_Umbra</th>\n",
              "      <th>Depth_to_Groundwater_P24</th>\n",
              "      <th>Depth_to_Groundwater_P25</th>\n",
              "      <th>Temperature_Bastia_Umbra</th>\n",
              "      <th>Temperature_Petrignano</th>\n",
              "      <th>Volume_C10_Petrignano</th>\n",
              "      <th>Hydrometry_Fiume_Chiascio_Petrignano</th>\n",
              "    </tr>\n",
              "  </thead>\n",
              "  <tbody>\n",
              "    <tr>\n",
              "      <th>0</th>\n",
              "      <td>14/03/2006</td>\n",
              "      <td>NaN</td>\n",
              "      <td>-22.48</td>\n",
              "      <td>-22.18</td>\n",
              "      <td>NaN</td>\n",
              "      <td>NaN</td>\n",
              "      <td>NaN</td>\n",
              "      <td>NaN</td>\n",
              "    </tr>\n",
              "    <tr>\n",
              "      <th>1</th>\n",
              "      <td>15/03/2006</td>\n",
              "      <td>NaN</td>\n",
              "      <td>-22.38</td>\n",
              "      <td>-22.14</td>\n",
              "      <td>NaN</td>\n",
              "      <td>NaN</td>\n",
              "      <td>NaN</td>\n",
              "      <td>NaN</td>\n",
              "    </tr>\n",
              "    <tr>\n",
              "      <th>2</th>\n",
              "      <td>16/03/2006</td>\n",
              "      <td>NaN</td>\n",
              "      <td>-22.25</td>\n",
              "      <td>-22.04</td>\n",
              "      <td>NaN</td>\n",
              "      <td>NaN</td>\n",
              "      <td>NaN</td>\n",
              "      <td>NaN</td>\n",
              "    </tr>\n",
              "    <tr>\n",
              "      <th>3</th>\n",
              "      <td>17/03/2006</td>\n",
              "      <td>NaN</td>\n",
              "      <td>-22.38</td>\n",
              "      <td>-22.04</td>\n",
              "      <td>NaN</td>\n",
              "      <td>NaN</td>\n",
              "      <td>NaN</td>\n",
              "      <td>NaN</td>\n",
              "    </tr>\n",
              "    <tr>\n",
              "      <th>4</th>\n",
              "      <td>18/03/2006</td>\n",
              "      <td>NaN</td>\n",
              "      <td>-22.60</td>\n",
              "      <td>-22.04</td>\n",
              "      <td>NaN</td>\n",
              "      <td>NaN</td>\n",
              "      <td>NaN</td>\n",
              "      <td>NaN</td>\n",
              "    </tr>\n",
              "  </tbody>\n",
              "</table>\n",
              "</div>"
            ],
            "text/plain": [
              "         Date  Rainfall_Bastia_Umbra  Depth_to_Groundwater_P24  \\\n",
              "0  14/03/2006                    NaN                    -22.48   \n",
              "1  15/03/2006                    NaN                    -22.38   \n",
              "2  16/03/2006                    NaN                    -22.25   \n",
              "3  17/03/2006                    NaN                    -22.38   \n",
              "4  18/03/2006                    NaN                    -22.60   \n",
              "\n",
              "   Depth_to_Groundwater_P25  Temperature_Bastia_Umbra  Temperature_Petrignano  \\\n",
              "0                    -22.18                       NaN                     NaN   \n",
              "1                    -22.14                       NaN                     NaN   \n",
              "2                    -22.04                       NaN                     NaN   \n",
              "3                    -22.04                       NaN                     NaN   \n",
              "4                    -22.04                       NaN                     NaN   \n",
              "\n",
              "   Volume_C10_Petrignano  Hydrometry_Fiume_Chiascio_Petrignano  \n",
              "0                    NaN                                   NaN  \n",
              "1                    NaN                                   NaN  \n",
              "2                    NaN                                   NaN  \n",
              "3                    NaN                                   NaN  \n",
              "4                    NaN                                   NaN  "
            ]
          },
          "execution_count": 33,
          "metadata": {},
          "output_type": "execute_result"
        }
      ],
      "source": [
        "df.head()"
      ]
    },
    {
      "cell_type": "code",
      "execution_count": 34,
      "metadata": {},
      "outputs": [
        {
          "data": {
            "text/html": [
              "<div>\n",
              "<style scoped>\n",
              "    .dataframe tbody tr th:only-of-type {\n",
              "        vertical-align: middle;\n",
              "    }\n",
              "\n",
              "    .dataframe tbody tr th {\n",
              "        vertical-align: top;\n",
              "    }\n",
              "\n",
              "    .dataframe thead th {\n",
              "        text-align: right;\n",
              "    }\n",
              "</style>\n",
              "<table border=\"1\" class=\"dataframe\">\n",
              "  <thead>\n",
              "    <tr style=\"text-align: right;\">\n",
              "      <th></th>\n",
              "      <th>Date</th>\n",
              "      <th>Depth_to_Groundwater_P24</th>\n",
              "      <th>Depth_to_Groundwater_P25</th>\n",
              "    </tr>\n",
              "  </thead>\n",
              "  <tbody>\n",
              "    <tr>\n",
              "      <th>0</th>\n",
              "      <td>14/03/2006</td>\n",
              "      <td>-22.48</td>\n",
              "      <td>-22.18</td>\n",
              "    </tr>\n",
              "    <tr>\n",
              "      <th>1</th>\n",
              "      <td>15/03/2006</td>\n",
              "      <td>-22.38</td>\n",
              "      <td>-22.14</td>\n",
              "    </tr>\n",
              "    <tr>\n",
              "      <th>2</th>\n",
              "      <td>16/03/2006</td>\n",
              "      <td>-22.25</td>\n",
              "      <td>-22.04</td>\n",
              "    </tr>\n",
              "    <tr>\n",
              "      <th>3</th>\n",
              "      <td>17/03/2006</td>\n",
              "      <td>-22.38</td>\n",
              "      <td>-22.04</td>\n",
              "    </tr>\n",
              "    <tr>\n",
              "      <th>4</th>\n",
              "      <td>18/03/2006</td>\n",
              "      <td>-22.60</td>\n",
              "      <td>-22.04</td>\n",
              "    </tr>\n",
              "    <tr>\n",
              "      <th>...</th>\n",
              "      <td>...</td>\n",
              "      <td>...</td>\n",
              "      <td>...</td>\n",
              "    </tr>\n",
              "    <tr>\n",
              "      <th>5218</th>\n",
              "      <td>26/06/2020</td>\n",
              "      <td>-25.68</td>\n",
              "      <td>-25.07</td>\n",
              "    </tr>\n",
              "    <tr>\n",
              "      <th>5219</th>\n",
              "      <td>27/06/2020</td>\n",
              "      <td>-25.80</td>\n",
              "      <td>-25.11</td>\n",
              "    </tr>\n",
              "    <tr>\n",
              "      <th>5220</th>\n",
              "      <td>28/06/2020</td>\n",
              "      <td>-25.80</td>\n",
              "      <td>-25.19</td>\n",
              "    </tr>\n",
              "    <tr>\n",
              "      <th>5221</th>\n",
              "      <td>29/06/2020</td>\n",
              "      <td>-25.78</td>\n",
              "      <td>-25.18</td>\n",
              "    </tr>\n",
              "    <tr>\n",
              "      <th>5222</th>\n",
              "      <td>30/06/2020</td>\n",
              "      <td>-25.91</td>\n",
              "      <td>-25.25</td>\n",
              "    </tr>\n",
              "  </tbody>\n",
              "</table>\n",
              "<p>5223 rows × 3 columns</p>\n",
              "</div>"
            ],
            "text/plain": [
              "            Date  Depth_to_Groundwater_P24  Depth_to_Groundwater_P25\n",
              "0     14/03/2006                    -22.48                    -22.18\n",
              "1     15/03/2006                    -22.38                    -22.14\n",
              "2     16/03/2006                    -22.25                    -22.04\n",
              "3     17/03/2006                    -22.38                    -22.04\n",
              "4     18/03/2006                    -22.60                    -22.04\n",
              "...          ...                       ...                       ...\n",
              "5218  26/06/2020                    -25.68                    -25.07\n",
              "5219  27/06/2020                    -25.80                    -25.11\n",
              "5220  28/06/2020                    -25.80                    -25.19\n",
              "5221  29/06/2020                    -25.78                    -25.18\n",
              "5222  30/06/2020                    -25.91                    -25.25\n",
              "\n",
              "[5223 rows x 3 columns]"
            ]
          },
          "execution_count": 34,
          "metadata": {},
          "output_type": "execute_result"
        }
      ],
      "source": [
        "df2 = df[[\"Date\",\"Depth_to_Groundwater_P24\",\"Depth_to_Groundwater_P25\"]]\n",
        "df2"
      ]
    },
    {
      "cell_type": "code",
      "execution_count": 35,
      "metadata": {
        "colab": {
          "base_uri": "https://localhost:8080/",
          "height": 303
        },
        "id": "X4obQsq3UYZv",
        "outputId": "4b2c7a42-e65a-45f2-f727-315d14c5c423"
      },
      "outputs": [
        {
          "data": {
            "text/plain": [
              "Date                         object\n",
              "Depth_to_Groundwater_P24    float64\n",
              "Depth_to_Groundwater_P25    float64\n",
              "dtype: object"
            ]
          },
          "execution_count": 35,
          "metadata": {},
          "output_type": "execute_result"
        }
      ],
      "source": [
        "df2.dtypes"
      ]
    },
    {
      "cell_type": "markdown",
      "metadata": {
        "id": "UuB5KKUzuViS"
      },
      "source": [
        "# visualizar\n",
        "elementos importantes como la tendencia y la estacionariad son importantes para modelar las series financieras, así que es importante poder visualizar."
      ]
    },
    {
      "cell_type": "code",
      "execution_count": 27,
      "metadata": {
        "colab": {
          "base_uri": "https://localhost:8080/",
          "height": 448
        },
        "id": "XVKZDIjYuQqG",
        "outputId": "955def2f-dbc9-4ae6-a85e-670400b5e316"
      },
      "outputs": [
        {
          "data": {
            "text/plain": [
              "[<matplotlib.lines.Line2D at 0x22b46967250>]"
            ]
          },
          "execution_count": 27,
          "metadata": {},
          "output_type": "execute_result"
        },
        {
          "data": {
            "image/png": "[encoded data removed]",
            "text/plain": [
              "<Figure size 640x480 with 1 Axes>"
            ]
          },
          "metadata": {},
          "output_type": "display_data"
        }
      ],
      "source": [
        "plt.plot(df2['Date'], df2['Depth_to_Groundwater_P24'])\n",
        "plt.plot(df2['Date'], df2['Depth_to_Groundwater_P25'])"
      ]
    },
    {
      "cell_type": "markdown",
      "metadata": {
        "id": "-PVQIUIFvVnY"
      },
      "source": [
        "# Tunning the graph\n",
        "we can uses:\n",
        "  * plt.title()\n",
        "  * plt.xlabel()\n",
        "  * plt.ylabel()"
      ]
    },
    {
      "cell_type": "code",
      "execution_count": 63,
      "metadata": {
        "colab": {
          "base_uri": "https://localhost:8080/",
          "height": 490
        },
        "id": "D4xt7D0Lvv4H",
        "outputId": "7bd0315f-8658-4351-f8a0-7393929464fb"
      },
      "outputs": [
        {
          "data": {
            "text/plain": [
              "Text(0.5, 0, 'time')"
            ]
          },
          "execution_count": 63,
          "metadata": {},
          "output_type": "execute_result"
        },
        {
          "data": {
            "image/png": "[encoded data removed]",
            "text/plain": [
              "<Figure size 640x480 with 1 Axes>"
            ]
          },
          "metadata": {},
          "output_type": "display_data"
        }
      ],
      "source": [
        "plt.plot(df2['Date'], df2['Depth_to_Groundwater_P24'])\n",
        "plt.plot(df2['Date'], df2['Depth_to_Groundwater_P25'])\n",
        "plt.title(\"Aquifer\")\n",
        "plt.ylabel(\"Temp\")\n",
        "plt.xlabel(\"time\")"
      ]
    },
    {
      "cell_type": "code",
      "execution_count": 68,
      "metadata": {
        "id": "6AuHm2Z5wBUW"
      },
      "outputs": [
        {
          "name": "stderr",
          "output_type": "stream",
          "text": [
            "C:\\Users\\Angel Resendiz Plata\\AppData\\Local\\Temp\\ipykernel_10544\\2689635685.py:1: UserWarning: Parsing dates in %d/%m/%Y format when dayfirst=False (the default) was specified. Pass `dayfirst=True` or specify a format to silence this warning.\n",
            "  df['Date'] = pd.to_datetime(df['Date'])\n"
          ]
        }
      ],
      "source": [
        "\n",
        "df['Date'] = pd.to_datetime(df['Date'])"
      ]
    },
    {
      "cell_type": "code",
      "execution_count": 69,
      "metadata": {
        "colab": {
          "base_uri": "https://localhost:8080/",
          "height": 335
        },
        "id": "_x-2kGrjUhqE",
        "outputId": "ec726e44-34c6-4a99-bc3b-1259afdbe76b"
      },
      "outputs": [
        {
          "data": {
            "text/plain": [
              "Date                        datetime64[ns]\n",
              "Depth_to_Groundwater_P24           float64\n",
              "Depth_to_Groundwater_P25           float64\n",
              "time                        datetime64[ns]\n",
              "day                                  int32\n",
              "day_name                            object\n",
              "dtype: object"
            ]
          },
          "execution_count": 69,
          "metadata": {},
          "output_type": "execute_result"
        }
      ],
      "source": [
        "df2.dtypes"
      ]
    },
    {
      "cell_type": "markdown",
      "metadata": {
        "id": "3qSY3SR-NFoF"
      },
      "source": [
        "Pasar de string to datetime nos permite realizar operaciones sobre las fechas, como extarér el día, sumar etc..\n"
      ]
    },
    {
      "cell_type": "code",
      "execution_count": 70,
      "metadata": {
        "colab": {
          "base_uri": "https://localhost:8080/"
        },
        "id": "6viAWyU4IDct",
        "outputId": "3d6344a5-3a1f-45d4-d1c4-cac06656cc3c"
      },
      "outputs": [
        {
          "name": "stdout",
          "output_type": "stream",
          "text": [
            "2006-03-14 00:00:00\n",
            "2020-06-30 00:00:00\n"
          ]
        }
      ],
      "source": [
        "print(df2['Date'].min())\n",
        "print(df2['Date'].max()) # fecha más reciente en la base"
      ]
    },
    {
      "cell_type": "code",
      "execution_count": 76,
      "metadata": {
        "colab": {
          "base_uri": "https://localhost:8080/"
        },
        "id": "Jr_OCTHKSpXw",
        "outputId": "531fc245-0214-4616-8a71-4a1a22d0e72a"
      },
      "outputs": [
        {
          "data": {
            "text/plain": [
              "Timedelta('5222 days 00:00:00')"
            ]
          },
          "execution_count": 76,
          "metadata": {},
          "output_type": "execute_result"
        }
      ],
      "source": [
        "df2['Date'].max() - df2['Date'].min() #timestamp, #timedelta"
      ]
    },
    {
      "cell_type": "code",
      "execution_count": 77,
      "metadata": {
        "id": "vj7rKYozStgx"
      },
      "outputs": [
        {
          "name": "stderr",
          "output_type": "stream",
          "text": [
            "C:\\Users\\Angel Resendiz Plata\\AppData\\Local\\Temp\\ipykernel_10544\\154666153.py:2: SettingWithCopyWarning: \n",
            "A value is trying to be set on a copy of a slice from a DataFrame.\n",
            "Try using .loc[row_indexer,col_indexer] = value instead\n",
            "\n",
            "See the caveats in the documentation: https://pandas.pydata.org/pandas-docs/stable/user_guide/indexing.html#returning-a-view-versus-a-copy\n",
            "  df2['day'] = df2['Date'].dt.day\n"
          ]
        }
      ],
      "source": [
        "# Extaer información relevante para analizar, por ejempo los días, los meses, etc..\n",
        "df2['day'] = df2['Date'].dt.day"
      ]
    },
    {
      "cell_type": "code",
      "execution_count": 78,
      "metadata": {
        "colab": {
          "base_uri": "https://localhost:8080/",
          "height": 206
        },
        "id": "xT-JvZMoc-up",
        "outputId": "491e4ea4-a84b-4c00-90f9-9501e283e2b4"
      },
      "outputs": [
        {
          "data": {
            "text/html": [
              "<div>\n",
              "<style scoped>\n",
              "    .dataframe tbody tr th:only-of-type {\n",
              "        vertical-align: middle;\n",
              "    }\n",
              "\n",
              "    .dataframe tbody tr th {\n",
              "        vertical-align: top;\n",
              "    }\n",
              "\n",
              "    .dataframe thead th {\n",
              "        text-align: right;\n",
              "    }\n",
              "</style>\n",
              "<table border=\"1\" class=\"dataframe\">\n",
              "  <thead>\n",
              "    <tr style=\"text-align: right;\">\n",
              "      <th></th>\n",
              "      <th>Date</th>\n",
              "      <th>Depth_to_Groundwater_P24</th>\n",
              "      <th>Depth_to_Groundwater_P25</th>\n",
              "      <th>time</th>\n",
              "      <th>day</th>\n",
              "      <th>day_name</th>\n",
              "    </tr>\n",
              "  </thead>\n",
              "  <tbody>\n",
              "    <tr>\n",
              "      <th>5218</th>\n",
              "      <td>2020-06-26</td>\n",
              "      <td>-25.68</td>\n",
              "      <td>-25.07</td>\n",
              "      <td>2020-06-26</td>\n",
              "      <td>26</td>\n",
              "      <td>Friday</td>\n",
              "    </tr>\n",
              "    <tr>\n",
              "      <th>5219</th>\n",
              "      <td>2020-06-27</td>\n",
              "      <td>-25.80</td>\n",
              "      <td>-25.11</td>\n",
              "      <td>2020-06-27</td>\n",
              "      <td>27</td>\n",
              "      <td>Saturday</td>\n",
              "    </tr>\n",
              "    <tr>\n",
              "      <th>5220</th>\n",
              "      <td>2020-06-28</td>\n",
              "      <td>-25.80</td>\n",
              "      <td>-25.19</td>\n",
              "      <td>2020-06-28</td>\n",
              "      <td>28</td>\n",
              "      <td>Sunday</td>\n",
              "    </tr>\n",
              "    <tr>\n",
              "      <th>5221</th>\n",
              "      <td>2020-06-29</td>\n",
              "      <td>-25.78</td>\n",
              "      <td>-25.18</td>\n",
              "      <td>2020-06-29</td>\n",
              "      <td>29</td>\n",
              "      <td>Monday</td>\n",
              "    </tr>\n",
              "    <tr>\n",
              "      <th>5222</th>\n",
              "      <td>2020-06-30</td>\n",
              "      <td>-25.91</td>\n",
              "      <td>-25.25</td>\n",
              "      <td>2020-06-30</td>\n",
              "      <td>30</td>\n",
              "      <td>Tuesday</td>\n",
              "    </tr>\n",
              "  </tbody>\n",
              "</table>\n",
              "</div>"
            ],
            "text/plain": [
              "           Date  Depth_to_Groundwater_P24  Depth_to_Groundwater_P25  \\\n",
              "5218 2020-06-26                    -25.68                    -25.07   \n",
              "5219 2020-06-27                    -25.80                    -25.11   \n",
              "5220 2020-06-28                    -25.80                    -25.19   \n",
              "5221 2020-06-29                    -25.78                    -25.18   \n",
              "5222 2020-06-30                    -25.91                    -25.25   \n",
              "\n",
              "           time  day  day_name  \n",
              "5218 2020-06-26   26    Friday  \n",
              "5219 2020-06-27   27  Saturday  \n",
              "5220 2020-06-28   28    Sunday  \n",
              "5221 2020-06-29   29    Monday  \n",
              "5222 2020-06-30   30   Tuesday  "
            ]
          },
          "execution_count": 78,
          "metadata": {},
          "output_type": "execute_result"
        }
      ],
      "source": [
        "df2.tail()"
      ]
    },
    {
      "cell_type": "code",
      "execution_count": 79,
      "metadata": {
        "id": "y-X5f7KTTko2"
      },
      "outputs": [
        {
          "name": "stderr",
          "output_type": "stream",
          "text": [
            "C:\\Users\\Angel Resendiz Plata\\AppData\\Local\\Temp\\ipykernel_10544\\3586030179.py:1: SettingWithCopyWarning: \n",
            "A value is trying to be set on a copy of a slice from a DataFrame.\n",
            "Try using .loc[row_indexer,col_indexer] = value instead\n",
            "\n",
            "See the caveats in the documentation: https://pandas.pydata.org/pandas-docs/stable/user_guide/indexing.html#returning-a-view-versus-a-copy\n",
            "  df2['day_name'] = df2['Date'].dt.day_name()\n"
          ]
        }
      ],
      "source": [
        "df2['day_name'] = df2['Date'].dt.day_name()\n",
        "# prueba con month, year"
      ]
    },
    {
      "cell_type": "code",
      "execution_count": 80,
      "metadata": {
        "colab": {
          "base_uri": "https://localhost:8080/",
          "height": 489
        },
        "id": "NIFwEmRYVX5w",
        "outputId": "978985f0-031b-4309-f6b2-774ce33c359f"
      },
      "outputs": [
        {
          "data": {
            "text/plain": [
              "0         Tuesday\n",
              "1       Wednesday\n",
              "2        Thursday\n",
              "3          Friday\n",
              "4        Saturday\n",
              "          ...    \n",
              "5218       Friday\n",
              "5219     Saturday\n",
              "5220       Sunday\n",
              "5221       Monday\n",
              "5222      Tuesday\n",
              "Name: day_name, Length: 5223, dtype: object"
            ]
          },
          "execution_count": 80,
          "metadata": {},
          "output_type": "execute_result"
        }
      ],
      "source": [
        "df2['day_name']"
      ]
    },
    {
      "cell_type": "code",
      "execution_count": 107,
      "metadata": {
        "colab": {
          "base_uri": "https://localhost:8080/",
          "height": 423
        },
        "id": "SLHY0QSAURpf",
        "outputId": "e044659b-02d3-4431-dc12-91b5bdbb13ca"
      },
      "outputs": [
        {
          "data": {
            "text/html": [
              "<div>\n",
              "<style scoped>\n",
              "    .dataframe tbody tr th:only-of-type {\n",
              "        vertical-align: middle;\n",
              "    }\n",
              "\n",
              "    .dataframe tbody tr th {\n",
              "        vertical-align: top;\n",
              "    }\n",
              "\n",
              "    .dataframe thead th {\n",
              "        text-align: right;\n",
              "    }\n",
              "</style>\n",
              "<table border=\"1\" class=\"dataframe\">\n",
              "  <thead>\n",
              "    <tr style=\"text-align: right;\">\n",
              "      <th></th>\n",
              "      <th>Date</th>\n",
              "      <th>Depth_to_Groundwater_P24</th>\n",
              "      <th>Depth_to_Groundwater_P25</th>\n",
              "      <th>time</th>\n",
              "      <th>day</th>\n",
              "      <th>day_name</th>\n",
              "    </tr>\n",
              "    <tr>\n",
              "      <th>Date</th>\n",
              "      <th></th>\n",
              "      <th></th>\n",
              "      <th></th>\n",
              "      <th></th>\n",
              "      <th></th>\n",
              "      <th></th>\n",
              "    </tr>\n",
              "  </thead>\n",
              "  <tbody>\n",
              "    <tr>\n",
              "      <th>2006-03-14</th>\n",
              "      <td>2006-03-14</td>\n",
              "      <td>-22.48</td>\n",
              "      <td>-22.18</td>\n",
              "      <td>2006-03-14</td>\n",
              "      <td>14</td>\n",
              "      <td>Tuesday</td>\n",
              "    </tr>\n",
              "    <tr>\n",
              "      <th>2006-03-15</th>\n",
              "      <td>2006-03-15</td>\n",
              "      <td>-22.38</td>\n",
              "      <td>-22.14</td>\n",
              "      <td>2006-03-15</td>\n",
              "      <td>15</td>\n",
              "      <td>Wednesday</td>\n",
              "    </tr>\n",
              "    <tr>\n",
              "      <th>2006-03-16</th>\n",
              "      <td>2006-03-16</td>\n",
              "      <td>-22.25</td>\n",
              "      <td>-22.04</td>\n",
              "      <td>2006-03-16</td>\n",
              "      <td>16</td>\n",
              "      <td>Thursday</td>\n",
              "    </tr>\n",
              "    <tr>\n",
              "      <th>2006-03-17</th>\n",
              "      <td>2006-03-17</td>\n",
              "      <td>-22.38</td>\n",
              "      <td>-22.04</td>\n",
              "      <td>2006-03-17</td>\n",
              "      <td>17</td>\n",
              "      <td>Friday</td>\n",
              "    </tr>\n",
              "    <tr>\n",
              "      <th>2006-03-18</th>\n",
              "      <td>2006-03-18</td>\n",
              "      <td>-22.60</td>\n",
              "      <td>-22.04</td>\n",
              "      <td>2006-03-18</td>\n",
              "      <td>18</td>\n",
              "      <td>Saturday</td>\n",
              "    </tr>\n",
              "  </tbody>\n",
              "</table>\n",
              "</div>"
            ],
            "text/plain": [
              "                 Date  Depth_to_Groundwater_P24  Depth_to_Groundwater_P25  \\\n",
              "Date                                                                        \n",
              "2006-03-14 2006-03-14                    -22.48                    -22.18   \n",
              "2006-03-15 2006-03-15                    -22.38                    -22.14   \n",
              "2006-03-16 2006-03-16                    -22.25                    -22.04   \n",
              "2006-03-17 2006-03-17                    -22.38                    -22.04   \n",
              "2006-03-18 2006-03-18                    -22.60                    -22.04   \n",
              "\n",
              "                 time  day   day_name  \n",
              "Date                                   \n",
              "2006-03-14 2006-03-14   14    Tuesday  \n",
              "2006-03-15 2006-03-15   15  Wednesday  \n",
              "2006-03-16 2006-03-16   16   Thursday  \n",
              "2006-03-17 2006-03-17   17     Friday  \n",
              "2006-03-18 2006-03-18   18   Saturday  "
            ]
          },
          "execution_count": 107,
          "metadata": {},
          "output_type": "execute_result"
        }
      ],
      "source": [
        "# analizar las transacciones en un día particiular puede ser importante...\n",
        "# podriamos realziar un ejercicio de comparación usando ANOVA?\n",
        "df2.head()"
      ]
    },
    {
      "cell_type": "code",
      "execution_count": 84,
      "metadata": {
        "colab": {
          "base_uri": "https://localhost:8080/",
          "height": 272
        },
        "id": "lMhP1FsQUcBr",
        "outputId": "52f7b9a8-29f8-43c5-e114-ee29f58d9f84"
      },
      "outputs": [
        {
          "data": {
            "text/plain": [
              "Date\n",
              "Friday      -26.294804\n",
              "Monday      -26.226829\n",
              "Saturday    -26.310068\n",
              "Sunday      -26.223274\n",
              "Thursday    -26.272263\n",
              "Tuesday     -26.248051\n",
              "Wednesday   -26.270568\n",
              "Name: Depth_to_Groundwater_P24, dtype: float64"
            ]
          },
          "execution_count": 84,
          "metadata": {},
          "output_type": "execute_result"
        }
      ],
      "source": [
        "# promedio de cierre por día\n",
        "df2.groupby([df2[\"Date\"].dt.day_name()])['Depth_to_Groundwater_P24'].mean()"
      ]
    },
    {
      "cell_type": "code",
      "execution_count": 85,
      "metadata": {
        "colab": {
          "base_uri": "https://localhost:8080/",
          "height": 1000
        },
        "id": "10gWcDuzV3nt",
        "outputId": "6225e24c-4d78-4d55-9467-f0fb3cc98c51"
      },
      "outputs": [
        {
          "data": {
            "text/plain": [
              "Date  Date     \n",
              "1     Friday      -26.710645\n",
              "      Monday      -26.737705\n",
              "      Saturday    -26.812787\n",
              "      Sunday      -26.741967\n",
              "      Thursday    -26.817143\n",
              "                     ...    \n",
              "12    Saturday    -27.272063\n",
              "      Sunday      -27.182540\n",
              "      Thursday    -27.014746\n",
              "      Tuesday     -27.060645\n",
              "      Wednesday   -27.128689\n",
              "Name: Depth_to_Groundwater_P24, Length: 84, dtype: float64"
            ]
          },
          "execution_count": 85,
          "metadata": {},
          "output_type": "execute_result"
        }
      ],
      "source": [
        "# precio de cierre por mes y día de la semana\n",
        "df2.groupby([df2[\"Date\"].dt.month, df2[\"Date\"].dt.day_name()])['Depth_to_Groundwater_P24'].mean()\n",
        "# interesante observe el septimo mes en cada día"
      ]
    },
    {
      "cell_type": "code",
      "execution_count": 109,
      "metadata": {
        "colab": {
          "base_uri": "https://localhost:8080/",
          "height": 423
        },
        "id": "VNToe2PNcSNL",
        "outputId": "ebcdfce8-c881-4cb9-a3e4-a8303af933f6"
      },
      "outputs": [
        {
          "data": {
            "text/html": [
              "<div>\n",
              "<style scoped>\n",
              "    .dataframe tbody tr th:only-of-type {\n",
              "        vertical-align: middle;\n",
              "    }\n",
              "\n",
              "    .dataframe tbody tr th {\n",
              "        vertical-align: top;\n",
              "    }\n",
              "\n",
              "    .dataframe thead th {\n",
              "        text-align: right;\n",
              "    }\n",
              "</style>\n",
              "<table border=\"1\" class=\"dataframe\">\n",
              "  <thead>\n",
              "    <tr style=\"text-align: right;\">\n",
              "      <th></th>\n",
              "      <th>Date</th>\n",
              "      <th>Depth_to_Groundwater_P24</th>\n",
              "      <th>Depth_to_Groundwater_P25</th>\n",
              "      <th>time</th>\n",
              "      <th>day</th>\n",
              "      <th>day_name</th>\n",
              "    </tr>\n",
              "    <tr>\n",
              "      <th>Date</th>\n",
              "      <th></th>\n",
              "      <th></th>\n",
              "      <th></th>\n",
              "      <th></th>\n",
              "      <th></th>\n",
              "      <th></th>\n",
              "    </tr>\n",
              "  </thead>\n",
              "  <tbody>\n",
              "    <tr>\n",
              "      <th>2006-03-14</th>\n",
              "      <td>2006-03-14</td>\n",
              "      <td>-22.48</td>\n",
              "      <td>-22.18</td>\n",
              "      <td>2006-03-14</td>\n",
              "      <td>14</td>\n",
              "      <td>Tuesday</td>\n",
              "    </tr>\n",
              "    <tr>\n",
              "      <th>2006-03-15</th>\n",
              "      <td>2006-03-15</td>\n",
              "      <td>-22.38</td>\n",
              "      <td>-22.14</td>\n",
              "      <td>2006-03-15</td>\n",
              "      <td>15</td>\n",
              "      <td>Wednesday</td>\n",
              "    </tr>\n",
              "    <tr>\n",
              "      <th>2006-03-16</th>\n",
              "      <td>2006-03-16</td>\n",
              "      <td>-22.25</td>\n",
              "      <td>-22.04</td>\n",
              "      <td>2006-03-16</td>\n",
              "      <td>16</td>\n",
              "      <td>Thursday</td>\n",
              "    </tr>\n",
              "    <tr>\n",
              "      <th>2006-03-17</th>\n",
              "      <td>2006-03-17</td>\n",
              "      <td>-22.38</td>\n",
              "      <td>-22.04</td>\n",
              "      <td>2006-03-17</td>\n",
              "      <td>17</td>\n",
              "      <td>Friday</td>\n",
              "    </tr>\n",
              "    <tr>\n",
              "      <th>2006-03-18</th>\n",
              "      <td>2006-03-18</td>\n",
              "      <td>-22.60</td>\n",
              "      <td>-22.04</td>\n",
              "      <td>2006-03-18</td>\n",
              "      <td>18</td>\n",
              "      <td>Saturday</td>\n",
              "    </tr>\n",
              "  </tbody>\n",
              "</table>\n",
              "</div>"
            ],
            "text/plain": [
              "                 Date  Depth_to_Groundwater_P24  Depth_to_Groundwater_P25  \\\n",
              "Date                                                                        \n",
              "2006-03-14 2006-03-14                    -22.48                    -22.18   \n",
              "2006-03-15 2006-03-15                    -22.38                    -22.14   \n",
              "2006-03-16 2006-03-16                    -22.25                    -22.04   \n",
              "2006-03-17 2006-03-17                    -22.38                    -22.04   \n",
              "2006-03-18 2006-03-18                    -22.60                    -22.04   \n",
              "\n",
              "                 time  day   day_name  \n",
              "Date                                   \n",
              "2006-03-14 2006-03-14   14    Tuesday  \n",
              "2006-03-15 2006-03-15   15  Wednesday  \n",
              "2006-03-16 2006-03-16   16   Thursday  \n",
              "2006-03-17 2006-03-17   17     Friday  \n",
              "2006-03-18 2006-03-18   18   Saturday  "
            ]
          },
          "execution_count": 109,
          "metadata": {},
          "output_type": "execute_result"
        }
      ],
      "source": [
        "df2.head()"
      ]
    },
    {
      "cell_type": "code",
      "execution_count": 87,
      "metadata": {
        "colab": {
          "base_uri": "https://localhost:8080/",
          "height": 428
        },
        "id": "cASKI4ZqWxQc",
        "outputId": "42e5ae02-dd13-4880-85ba-5e607fbe695e"
      },
      "outputs": [
        {
          "data": {
            "text/plain": [
              "Text(0, 0.5, 'mean price')"
            ]
          },
          "execution_count": 87,
          "metadata": {},
          "output_type": "execute_result"
        },
        {
          "data": {
            "image/png": "[encoded data removed]",
            "text/plain": [
              "<Figure size 500x400 with 1 Axes>"
            ]
          },
          "metadata": {},
          "output_type": "display_data"
        }
      ],
      "source": [
        "# gráficando el día\n",
        "fig, axs = plt.subplots(figsize=(5,4))\n",
        "df2.groupby(df2[\"Date\"].dt.day_name())[\"Depth_to_Groundwater_P24\"].mean().plot(\n",
        "    kind='bar', rot=0, ax=axs)\n",
        "plt.title(\"Mean close price by day\")\n",
        "plt.xlabel(\"days\")\n",
        "plt.ylabel(\"mean price\")"
      ]
    },
    {
      "cell_type": "code",
      "execution_count": 88,
      "metadata": {
        "id": "Lct6MD8QeZ69"
      },
      "outputs": [],
      "source": [
        "# datetime como index\n",
        "df2.set_index(df['Date'], inplace=True) #Una ventaja  el ajuste de las fechas"
      ]
    },
    {
      "cell_type": "code",
      "execution_count": 108,
      "metadata": {
        "colab": {
          "base_uri": "https://localhost:8080/",
          "height": 628
        },
        "id": "YwHvBlDiWJkD",
        "outputId": "a4636bd5-90ff-428b-e9a2-89100751c605"
      },
      "outputs": [
        {
          "data": {
            "text/html": [
              "<div>\n",
              "<style scoped>\n",
              "    .dataframe tbody tr th:only-of-type {\n",
              "        vertical-align: middle;\n",
              "    }\n",
              "\n",
              "    .dataframe tbody tr th {\n",
              "        vertical-align: top;\n",
              "    }\n",
              "\n",
              "    .dataframe thead th {\n",
              "        text-align: right;\n",
              "    }\n",
              "</style>\n",
              "<table border=\"1\" class=\"dataframe\">\n",
              "  <thead>\n",
              "    <tr style=\"text-align: right;\">\n",
              "      <th></th>\n",
              "      <th>Date</th>\n",
              "      <th>Depth_to_Groundwater_P24</th>\n",
              "      <th>Depth_to_Groundwater_P25</th>\n",
              "      <th>time</th>\n",
              "      <th>day</th>\n",
              "      <th>day_name</th>\n",
              "    </tr>\n",
              "    <tr>\n",
              "      <th>Date</th>\n",
              "      <th></th>\n",
              "      <th></th>\n",
              "      <th></th>\n",
              "      <th></th>\n",
              "      <th></th>\n",
              "      <th></th>\n",
              "    </tr>\n",
              "  </thead>\n",
              "  <tbody>\n",
              "    <tr>\n",
              "      <th>2006-03-14</th>\n",
              "      <td>2006-03-14</td>\n",
              "      <td>-22.48</td>\n",
              "      <td>-22.18</td>\n",
              "      <td>2006-03-14</td>\n",
              "      <td>14</td>\n",
              "      <td>Tuesday</td>\n",
              "    </tr>\n",
              "    <tr>\n",
              "      <th>2006-03-15</th>\n",
              "      <td>2006-03-15</td>\n",
              "      <td>-22.38</td>\n",
              "      <td>-22.14</td>\n",
              "      <td>2006-03-15</td>\n",
              "      <td>15</td>\n",
              "      <td>Wednesday</td>\n",
              "    </tr>\n",
              "    <tr>\n",
              "      <th>2006-03-16</th>\n",
              "      <td>2006-03-16</td>\n",
              "      <td>-22.25</td>\n",
              "      <td>-22.04</td>\n",
              "      <td>2006-03-16</td>\n",
              "      <td>16</td>\n",
              "      <td>Thursday</td>\n",
              "    </tr>\n",
              "    <tr>\n",
              "      <th>2006-03-17</th>\n",
              "      <td>2006-03-17</td>\n",
              "      <td>-22.38</td>\n",
              "      <td>-22.04</td>\n",
              "      <td>2006-03-17</td>\n",
              "      <td>17</td>\n",
              "      <td>Friday</td>\n",
              "    </tr>\n",
              "    <tr>\n",
              "      <th>2006-03-18</th>\n",
              "      <td>2006-03-18</td>\n",
              "      <td>-22.60</td>\n",
              "      <td>-22.04</td>\n",
              "      <td>2006-03-18</td>\n",
              "      <td>18</td>\n",
              "      <td>Saturday</td>\n",
              "    </tr>\n",
              "  </tbody>\n",
              "</table>\n",
              "</div>"
            ],
            "text/plain": [
              "                 Date  Depth_to_Groundwater_P24  Depth_to_Groundwater_P25  \\\n",
              "Date                                                                        \n",
              "2006-03-14 2006-03-14                    -22.48                    -22.18   \n",
              "2006-03-15 2006-03-15                    -22.38                    -22.14   \n",
              "2006-03-16 2006-03-16                    -22.25                    -22.04   \n",
              "2006-03-17 2006-03-17                    -22.38                    -22.04   \n",
              "2006-03-18 2006-03-18                    -22.60                    -22.04   \n",
              "\n",
              "                 time  day   day_name  \n",
              "Date                                   \n",
              "2006-03-14 2006-03-14   14    Tuesday  \n",
              "2006-03-15 2006-03-15   15  Wednesday  \n",
              "2006-03-16 2006-03-16   16   Thursday  \n",
              "2006-03-17 2006-03-17   17     Friday  \n",
              "2006-03-18 2006-03-18   18   Saturday  "
            ]
          },
          "execution_count": 108,
          "metadata": {},
          "output_type": "execute_result"
        }
      ],
      "source": [
        "df2.head()"
      ]
    },
    {
      "cell_type": "code",
      "execution_count": 91,
      "metadata": {
        "colab": {
          "base_uri": "https://localhost:8080/",
          "height": 464
        },
        "id": "mTjR7WT3eNrn",
        "outputId": "bbf9a0ea-048e-4fac-dd86-2dd37d2aa026"
      },
      "outputs": [
        {
          "data": {
            "image/png": "[encoded data removed]",
            "text/plain": [
              "<Figure size 640x480 with 1 Axes>"
            ]
          },
          "metadata": {},
          "output_type": "display_data"
        }
      ],
      "source": [
        "plt.plot(df2['Depth_to_Groundwater_P24'])\n",
        "plt.plot(df2['Depth_to_Groundwater_P25'])\n",
        "plt.xticks(rotation=40, ha='right'); #not show text"
      ]
    },
    {
      "cell_type": "code",
      "execution_count": 97,
      "metadata": {
        "colab": {
          "base_uri": "https://localhost:8080/",
          "height": 957
        },
        "id": "C-wEvfVQhy7c",
        "outputId": "a51de867-f659-49ec-bdf8-042830883dfe"
      },
      "outputs": [
        {
          "data": {
            "text/html": [
              "<div>\n",
              "<style scoped>\n",
              "    .dataframe tbody tr th:only-of-type {\n",
              "        vertical-align: middle;\n",
              "    }\n",
              "\n",
              "    .dataframe tbody tr th {\n",
              "        vertical-align: top;\n",
              "    }\n",
              "\n",
              "    .dataframe thead th {\n",
              "        text-align: right;\n",
              "    }\n",
              "</style>\n",
              "<table border=\"1\" class=\"dataframe\">\n",
              "  <thead>\n",
              "    <tr style=\"text-align: right;\">\n",
              "      <th></th>\n",
              "      <th>Date</th>\n",
              "      <th>Depth_to_Groundwater_P24</th>\n",
              "      <th>Depth_to_Groundwater_P25</th>\n",
              "      <th>time</th>\n",
              "      <th>day</th>\n",
              "      <th>day_name</th>\n",
              "    </tr>\n",
              "    <tr>\n",
              "      <th>Date</th>\n",
              "      <th></th>\n",
              "      <th></th>\n",
              "      <th></th>\n",
              "      <th></th>\n",
              "      <th></th>\n",
              "      <th></th>\n",
              "    </tr>\n",
              "  </thead>\n",
              "  <tbody>\n",
              "    <tr>\n",
              "      <th>2006-03-14</th>\n",
              "      <td>2006-03-14</td>\n",
              "      <td>-22.48</td>\n",
              "      <td>-22.18</td>\n",
              "      <td>2006-03-14</td>\n",
              "      <td>14</td>\n",
              "      <td>Tuesday</td>\n",
              "    </tr>\n",
              "    <tr>\n",
              "      <th>2006-03-15</th>\n",
              "      <td>2006-03-15</td>\n",
              "      <td>-22.38</td>\n",
              "      <td>-22.14</td>\n",
              "      <td>2006-03-15</td>\n",
              "      <td>15</td>\n",
              "      <td>Wednesday</td>\n",
              "    </tr>\n",
              "    <tr>\n",
              "      <th>2006-03-16</th>\n",
              "      <td>2006-03-16</td>\n",
              "      <td>-22.25</td>\n",
              "      <td>-22.04</td>\n",
              "      <td>2006-03-16</td>\n",
              "      <td>16</td>\n",
              "      <td>Thursday</td>\n",
              "    </tr>\n",
              "    <tr>\n",
              "      <th>2006-03-17</th>\n",
              "      <td>2006-03-17</td>\n",
              "      <td>-22.38</td>\n",
              "      <td>-22.04</td>\n",
              "      <td>2006-03-17</td>\n",
              "      <td>17</td>\n",
              "      <td>Friday</td>\n",
              "    </tr>\n",
              "    <tr>\n",
              "      <th>2006-03-18</th>\n",
              "      <td>2006-03-18</td>\n",
              "      <td>-22.60</td>\n",
              "      <td>-22.04</td>\n",
              "      <td>2006-03-18</td>\n",
              "      <td>18</td>\n",
              "      <td>Saturday</td>\n",
              "    </tr>\n",
              "  </tbody>\n",
              "</table>\n",
              "</div>"
            ],
            "text/plain": [
              "                 Date  Depth_to_Groundwater_P24  Depth_to_Groundwater_P25  \\\n",
              "Date                                                                        \n",
              "2006-03-14 2006-03-14                    -22.48                    -22.18   \n",
              "2006-03-15 2006-03-15                    -22.38                    -22.14   \n",
              "2006-03-16 2006-03-16                    -22.25                    -22.04   \n",
              "2006-03-17 2006-03-17                    -22.38                    -22.04   \n",
              "2006-03-18 2006-03-18                    -22.60                    -22.04   \n",
              "\n",
              "                 time  day   day_name  \n",
              "Date                                   \n",
              "2006-03-14 2006-03-14   14    Tuesday  \n",
              "2006-03-15 2006-03-15   15  Wednesday  \n",
              "2006-03-16 2006-03-16   16   Thursday  \n",
              "2006-03-17 2006-03-17   17     Friday  \n",
              "2006-03-18 2006-03-18   18   Saturday  "
            ]
          },
          "execution_count": 97,
          "metadata": {},
          "output_type": "execute_result"
        }
      ],
      "source": [
        "# determinando el índice podemos usar el slicing...\n",
        "df2['2020-06-01':'2020-06-30']\n",
        "df2.head()"
      ]
    },
    {
      "cell_type": "code",
      "execution_count": 96,
      "metadata": {
        "colab": {
          "base_uri": "https://localhost:8080/",
          "height": 500
        },
        "id": "wINrrnLZjLSO",
        "outputId": "765dc377-33b0-4d34-f4ab-734bd9aeecb6"
      },
      "outputs": [
        {
          "data": {
            "text/plain": [
              "<Axes: xlabel='Date'>"
            ]
          },
          "execution_count": 96,
          "metadata": {},
          "output_type": "execute_result"
        },
        {
          "data": {
            "image/png": "[encoded data removed]",
            "text/plain": [
              "<Figure size 640x480 with 1 Axes>"
            ]
          },
          "metadata": {},
          "output_type": "display_data"
        }
      ],
      "source": [
        "df2['2020-06-01':'2020-06-30'][['Depth_to_Groundwater_P24', 'Depth_to_Groundwater_P25']].plot()"
      ]
    },
    {
      "cell_type": "code",
      "execution_count": 111,
      "metadata": {},
      "outputs": [
        {
          "ename": "AttributeError",
          "evalue": "'DataFrame' object has no attribute 'month'",
          "output_type": "error",
          "traceback": [
            "\u001b[31m---------------------------------------------------------------------------\u001b[39m",
            "\u001b[31mAttributeError\u001b[39m                            Traceback (most recent call last)",
            "\u001b[32m~\\AppData\\Local\\Temp\\ipykernel_10544\\4089274249.py\u001b[39m in \u001b[36m?\u001b[39m\u001b[34m()\u001b[39m\n\u001b[32m----> \u001b[39m\u001b[32m1\u001b[39m df2[\u001b[33m\"month\"\u001b[39m] = pd.to_datetime(df2.month, format = \u001b[33m\"%b\"\u001b[39m).dt.month\n\u001b[32m      2\u001b[39m df2[\u001b[33m\"Date\"\u001b[39m] = pd.to_datetime(df2[[\u001b[33m\"year\"\u001b[39m, \u001b[33m\"month\"\u001b[39m]].assign(day = \u001b[32m1\u001b[39m))\n\u001b[32m      3\u001b[39m df2 = df2.set_index(\u001b[33m\"date\"\u001b[39m)\n\u001b[32m      4\u001b[39m ts = df2[\u001b[33m\"Depth_to_Groundwater_P24\"\u001b[39m]\n",
            "\u001b[32m~\\AppData\\Roaming\\Python\\Python313\\site-packages\\pandas\\core\\generic.py\u001b[39m in \u001b[36m?\u001b[39m\u001b[34m(self, name)\u001b[39m\n\u001b[32m   6314\u001b[39m             \u001b[38;5;28;01mand\u001b[39;00m name \u001b[38;5;28;01mnot\u001b[39;00m \u001b[38;5;28;01min\u001b[39;00m self._accessors\n\u001b[32m   6315\u001b[39m             \u001b[38;5;28;01mand\u001b[39;00m self._info_axis._can_hold_identifiers_and_holds_name(name)\n\u001b[32m   6316\u001b[39m         ):\n\u001b[32m   6317\u001b[39m             \u001b[38;5;28;01mreturn\u001b[39;00m self[name]\n\u001b[32m-> \u001b[39m\u001b[32m6318\u001b[39m         \u001b[38;5;28;01mreturn\u001b[39;00m object.__getattribute__(self, name)\n",
            "\u001b[31mAttributeError\u001b[39m: 'DataFrame' object has no attribute 'month'"
          ]
        }
      ],
      "source": [
        "df2[\"month\"] = pd.to_datetime(df2.month, format = \"%b\").dt.month\n",
        "df2[\"Date\"] = pd.to_datetime(df2[[\"year\", \"month\"]].assign(day = 1))\n",
        "df2 = df2.set_index(\"date\")\n",
        "ts = df2[\"Depth_to_Groundwater_P24\"]\n",
        "ts.head()"
      ]
    }
  ],
  "metadata": {
    "colab": {
      "provenance": []
    },
    "kernelspec": {
      "display_name": "Python 3",
      "name": "python3"
    },
    "language_info": {
      "codemirror_mode": {
        "name": "ipython",
        "version": 3
      },
      "file_extension": ".py",
      "mimetype": "text/x-python",
      "name": "python",
      "nbconvert_exporter": "python",
      "pygments_lexer": "ipython3",
      "version": "3.13.4"
    }
  },
  "nbformat": 4,
  "nbformat_minor": 0
}
