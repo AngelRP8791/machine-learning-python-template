{
  "cells": [
    {
      "cell_type": "markdown",
      "metadata": {
        "id": "N1tu_SS-sl1q"
      },
      "source": [
        "# Introducción a la series de tiempo\n",
        "\n",
        "El siguiente cuaderno tiene como objetivo introducir al lector al manejo básico de las series de tiempo en python.\n",
        "\n",
        "Las librerías necesarias son:\n",
        "  * pandas\n",
        "  * matplotlib\n",
        "\n"
      ]
    },
    {
      "cell_type": "code",
      "execution_count": 3,
      "metadata": {},
      "outputs": [
        {
          "name": "stdout",
          "output_type": "stream",
          "text": [
            "C:\\Users\\Angel Resendiz Plata\\AppData\\Local\\Programs\\Microsoft VS Code\n"
          ]
        }
      ],
      "source": [
        "import os\n",
        "print(os.getcwd())"
      ]
    },
    {
      "cell_type": "code",
      "execution_count": 4,
      "metadata": {
        "id": "d1pVLc4Wsgd_"
      },
      "outputs": [],
      "source": [
        "# load libraries\n",
        "import pandas as pd\n",
        "import matplotlib.pyplot as plt"
      ]
    },
    {
      "cell_type": "code",
      "execution_count": 5,
      "metadata": {
        "id": "077oOVgjt5dz"
      },
      "outputs": [],
      "source": [
        "url = r\"C:\\Users\\Angel Resendiz Plata\\OneDrive\\Documentos\\Programación\\4Geeks\\Guía programa\\23.- Time Series Forecasting\\Ejercicios\\Datos\\acea-water-prediction\\Aquifer_Petrignano.csv\""
      ]
    },
    {
      "cell_type": "code",
      "execution_count": 6,
      "metadata": {
        "id": "S5mEydPBuL2m"
      },
      "outputs": [],
      "source": [
        "df = pd.read_csv(url)"
      ]
    },
    {
      "cell_type": "code",
      "execution_count": 7,
      "metadata": {
        "colab": {
          "base_uri": "https://localhost:8080/",
          "height": 206
        },
        "id": "KtgpJFLWbW1n",
        "outputId": "96f92c97-403c-4c6a-e511-946c379ae73f"
      },
      "outputs": [
        {
          "data": {
            "text/html": [
              "<div>\n",
              "<style scoped>\n",
              "    .dataframe tbody tr th:only-of-type {\n",
              "        vertical-align: middle;\n",
              "    }\n",
              "\n",
              "    .dataframe tbody tr th {\n",
              "        vertical-align: top;\n",
              "    }\n",
              "\n",
              "    .dataframe thead th {\n",
              "        text-align: right;\n",
              "    }\n",
              "</style>\n",
              "<table border=\"1\" class=\"dataframe\">\n",
              "  <thead>\n",
              "    <tr style=\"text-align: right;\">\n",
              "      <th></th>\n",
              "      <th>Date</th>\n",
              "      <th>Rainfall_Bastia_Umbra</th>\n",
              "      <th>Depth_to_Groundwater_P24</th>\n",
              "      <th>Depth_to_Groundwater_P25</th>\n",
              "      <th>Temperature_Bastia_Umbra</th>\n",
              "      <th>Temperature_Petrignano</th>\n",
              "      <th>Volume_C10_Petrignano</th>\n",
              "      <th>Hydrometry_Fiume_Chiascio_Petrignano</th>\n",
              "    </tr>\n",
              "  </thead>\n",
              "  <tbody>\n",
              "    <tr>\n",
              "      <th>0</th>\n",
              "      <td>14/03/2006</td>\n",
              "      <td>NaN</td>\n",
              "      <td>-22.48</td>\n",
              "      <td>-22.18</td>\n",
              "      <td>NaN</td>\n",
              "      <td>NaN</td>\n",
              "      <td>NaN</td>\n",
              "      <td>NaN</td>\n",
              "    </tr>\n",
              "    <tr>\n",
              "      <th>1</th>\n",
              "      <td>15/03/2006</td>\n",
              "      <td>NaN</td>\n",
              "      <td>-22.38</td>\n",
              "      <td>-22.14</td>\n",
              "      <td>NaN</td>\n",
              "      <td>NaN</td>\n",
              "      <td>NaN</td>\n",
              "      <td>NaN</td>\n",
              "    </tr>\n",
              "    <tr>\n",
              "      <th>2</th>\n",
              "      <td>16/03/2006</td>\n",
              "      <td>NaN</td>\n",
              "      <td>-22.25</td>\n",
              "      <td>-22.04</td>\n",
              "      <td>NaN</td>\n",
              "      <td>NaN</td>\n",
              "      <td>NaN</td>\n",
              "      <td>NaN</td>\n",
              "    </tr>\n",
              "    <tr>\n",
              "      <th>3</th>\n",
              "      <td>17/03/2006</td>\n",
              "      <td>NaN</td>\n",
              "      <td>-22.38</td>\n",
              "      <td>-22.04</td>\n",
              "      <td>NaN</td>\n",
              "      <td>NaN</td>\n",
              "      <td>NaN</td>\n",
              "      <td>NaN</td>\n",
              "    </tr>\n",
              "    <tr>\n",
              "      <th>4</th>\n",
              "      <td>18/03/2006</td>\n",
              "      <td>NaN</td>\n",
              "      <td>-22.60</td>\n",
              "      <td>-22.04</td>\n",
              "      <td>NaN</td>\n",
              "      <td>NaN</td>\n",
              "      <td>NaN</td>\n",
              "      <td>NaN</td>\n",
              "    </tr>\n",
              "  </tbody>\n",
              "</table>\n",
              "</div>"
            ],
            "text/plain": [
              "         Date  Rainfall_Bastia_Umbra  Depth_to_Groundwater_P24  \\\n",
              "0  14/03/2006                    NaN                    -22.48   \n",
              "1  15/03/2006                    NaN                    -22.38   \n",
              "2  16/03/2006                    NaN                    -22.25   \n",
              "3  17/03/2006                    NaN                    -22.38   \n",
              "4  18/03/2006                    NaN                    -22.60   \n",
              "\n",
              "   Depth_to_Groundwater_P25  Temperature_Bastia_Umbra  Temperature_Petrignano  \\\n",
              "0                    -22.18                       NaN                     NaN   \n",
              "1                    -22.14                       NaN                     NaN   \n",
              "2                    -22.04                       NaN                     NaN   \n",
              "3                    -22.04                       NaN                     NaN   \n",
              "4                    -22.04                       NaN                     NaN   \n",
              "\n",
              "   Volume_C10_Petrignano  Hydrometry_Fiume_Chiascio_Petrignano  \n",
              "0                    NaN                                   NaN  \n",
              "1                    NaN                                   NaN  \n",
              "2                    NaN                                   NaN  \n",
              "3                    NaN                                   NaN  \n",
              "4                    NaN                                   NaN  "
            ]
          },
          "execution_count": 7,
          "metadata": {},
          "output_type": "execute_result"
        }
      ],
      "source": [
        "df.head()"
      ]
    },
    {
      "cell_type": "code",
      "execution_count": 8,
      "metadata": {},
      "outputs": [
        {
          "data": {
            "text/html": [
              "<div>\n",
              "<style scoped>\n",
              "    .dataframe tbody tr th:only-of-type {\n",
              "        vertical-align: middle;\n",
              "    }\n",
              "\n",
              "    .dataframe tbody tr th {\n",
              "        vertical-align: top;\n",
              "    }\n",
              "\n",
              "    .dataframe thead th {\n",
              "        text-align: right;\n",
              "    }\n",
              "</style>\n",
              "<table border=\"1\" class=\"dataframe\">\n",
              "  <thead>\n",
              "    <tr style=\"text-align: right;\">\n",
              "      <th></th>\n",
              "      <th>Date</th>\n",
              "      <th>Depth_to_Groundwater_P24</th>\n",
              "      <th>Depth_to_Groundwater_P25</th>\n",
              "    </tr>\n",
              "  </thead>\n",
              "  <tbody>\n",
              "    <tr>\n",
              "      <th>0</th>\n",
              "      <td>14/03/2006</td>\n",
              "      <td>-22.48</td>\n",
              "      <td>-22.18</td>\n",
              "    </tr>\n",
              "    <tr>\n",
              "      <th>1</th>\n",
              "      <td>15/03/2006</td>\n",
              "      <td>-22.38</td>\n",
              "      <td>-22.14</td>\n",
              "    </tr>\n",
              "    <tr>\n",
              "      <th>2</th>\n",
              "      <td>16/03/2006</td>\n",
              "      <td>-22.25</td>\n",
              "      <td>-22.04</td>\n",
              "    </tr>\n",
              "    <tr>\n",
              "      <th>3</th>\n",
              "      <td>17/03/2006</td>\n",
              "      <td>-22.38</td>\n",
              "      <td>-22.04</td>\n",
              "    </tr>\n",
              "    <tr>\n",
              "      <th>4</th>\n",
              "      <td>18/03/2006</td>\n",
              "      <td>-22.60</td>\n",
              "      <td>-22.04</td>\n",
              "    </tr>\n",
              "    <tr>\n",
              "      <th>...</th>\n",
              "      <td>...</td>\n",
              "      <td>...</td>\n",
              "      <td>...</td>\n",
              "    </tr>\n",
              "    <tr>\n",
              "      <th>5218</th>\n",
              "      <td>26/06/2020</td>\n",
              "      <td>-25.68</td>\n",
              "      <td>-25.07</td>\n",
              "    </tr>\n",
              "    <tr>\n",
              "      <th>5219</th>\n",
              "      <td>27/06/2020</td>\n",
              "      <td>-25.80</td>\n",
              "      <td>-25.11</td>\n",
              "    </tr>\n",
              "    <tr>\n",
              "      <th>5220</th>\n",
              "      <td>28/06/2020</td>\n",
              "      <td>-25.80</td>\n",
              "      <td>-25.19</td>\n",
              "    </tr>\n",
              "    <tr>\n",
              "      <th>5221</th>\n",
              "      <td>29/06/2020</td>\n",
              "      <td>-25.78</td>\n",
              "      <td>-25.18</td>\n",
              "    </tr>\n",
              "    <tr>\n",
              "      <th>5222</th>\n",
              "      <td>30/06/2020</td>\n",
              "      <td>-25.91</td>\n",
              "      <td>-25.25</td>\n",
              "    </tr>\n",
              "  </tbody>\n",
              "</table>\n",
              "<p>5223 rows × 3 columns</p>\n",
              "</div>"
            ],
            "text/plain": [
              "            Date  Depth_to_Groundwater_P24  Depth_to_Groundwater_P25\n",
              "0     14/03/2006                    -22.48                    -22.18\n",
              "1     15/03/2006                    -22.38                    -22.14\n",
              "2     16/03/2006                    -22.25                    -22.04\n",
              "3     17/03/2006                    -22.38                    -22.04\n",
              "4     18/03/2006                    -22.60                    -22.04\n",
              "...          ...                       ...                       ...\n",
              "5218  26/06/2020                    -25.68                    -25.07\n",
              "5219  27/06/2020                    -25.80                    -25.11\n",
              "5220  28/06/2020                    -25.80                    -25.19\n",
              "5221  29/06/2020                    -25.78                    -25.18\n",
              "5222  30/06/2020                    -25.91                    -25.25\n",
              "\n",
              "[5223 rows x 3 columns]"
            ]
          },
          "execution_count": 8,
          "metadata": {},
          "output_type": "execute_result"
        }
      ],
      "source": [
        "df2 = df[[\"Date\",\"Depth_to_Groundwater_P24\",\"Depth_to_Groundwater_P25\"]]\n",
        "df2"
      ]
    },
    {
      "cell_type": "code",
      "execution_count": 9,
      "metadata": {
        "colab": {
          "base_uri": "https://localhost:8080/",
          "height": 303
        },
        "id": "X4obQsq3UYZv",
        "outputId": "4b2c7a42-e65a-45f2-f727-315d14c5c423"
      },
      "outputs": [
        {
          "data": {
            "text/plain": [
              "Date                         object\n",
              "Depth_to_Groundwater_P24    float64\n",
              "Depth_to_Groundwater_P25    float64\n",
              "dtype: object"
            ]
          },
          "execution_count": 9,
          "metadata": {},
          "output_type": "execute_result"
        }
      ],
      "source": [
        "df2.dtypes"
      ]
    },
    {
      "cell_type": "markdown",
      "metadata": {
        "id": "UuB5KKUzuViS"
      },
      "source": [
        "# visualizar\n",
        "elementos importantes como la tendencia y la estacionariad son importantes para modelar las series financieras, así que es importante poder visualizar."
      ]
    },
    {
      "cell_type": "code",
      "execution_count": 10,
      "metadata": {
        "colab": {
          "base_uri": "https://localhost:8080/",
          "height": 448
        },
        "id": "XVKZDIjYuQqG",
        "outputId": "955def2f-dbc9-4ae6-a85e-670400b5e316"
      },
      "outputs": [
        {
          "data": {
            "text/plain": [
              "[<matplotlib.lines.Line2D at 0x2016b11b890>]"
            ]
          },
          "execution_count": 10,
          "metadata": {},
          "output_type": "execute_result"
        },
        {
          "data": {
            "image/png": "[encoded data removed]",
            "text/plain": [
              "<Figure size 640x480 with 1 Axes>"
            ]
          },
          "metadata": {},
          "output_type": "display_data"
        }
      ],
      "source": [
        "plt.plot(df2['Date'], df2['Depth_to_Groundwater_P24'])\n",
        "plt.plot(df2['Date'], df2['Depth_to_Groundwater_P25'])"
      ]
    },
    {
      "cell_type": "markdown",
      "metadata": {
        "id": "-PVQIUIFvVnY"
      },
      "source": [
        "# Tunning the graph\n",
        "we can uses:\n",
        "  * plt.title()\n",
        "  * plt.xlabel()\n",
        "  * plt.ylabel()"
      ]
    },
    {
      "cell_type": "code",
      "execution_count": 11,
      "metadata": {
        "colab": {
          "base_uri": "https://localhost:8080/",
          "height": 490
        },
        "id": "D4xt7D0Lvv4H",
        "outputId": "7bd0315f-8658-4351-f8a0-7393929464fb"
      },
      "outputs": [
        {
          "data": {
            "text/plain": [
              "Text(0.5, 0, 'time')"
            ]
          },
          "execution_count": 11,
          "metadata": {},
          "output_type": "execute_result"
        },
        {
          "data": {
            "image/png": "[encoded data removed]",
            "text/plain": [
              "<Figure size 640x480 with 1 Axes>"
            ]
          },
          "metadata": {},
          "output_type": "display_data"
        }
      ],
      "source": [
        "plt.plot(df2['Date'], df2['Depth_to_Groundwater_P24'])\n",
        "plt.plot(df2['Date'], df2['Depth_to_Groundwater_P25'])\n",
        "plt.title(\"Aquifer\")\n",
        "plt.ylabel(\"Temp\")\n",
        "plt.xlabel(\"time\")"
      ]
    },
    {
      "cell_type": "code",
      "execution_count": 12,
      "metadata": {
        "id": "6AuHm2Z5wBUW"
      },
      "outputs": [
        {
          "name": "stderr",
          "output_type": "stream",
          "text": [
            "C:\\Users\\Angel Resendiz Plata\\AppData\\Local\\Temp\\ipykernel_19664\\1204942754.py:1: UserWarning: Parsing dates in %d/%m/%Y format when dayfirst=False (the default) was specified. Pass `dayfirst=True` or specify a format to silence this warning.\n",
            "  df['time'] = pd.to_datetime(df['Date'])\n"
          ]
        }
      ],
      "source": [
        "df['time'] = pd.to_datetime(df['Date'])\n"
      ]
    },
    {
      "cell_type": "code",
      "execution_count": 14,
      "metadata": {},
      "outputs": [
        {
          "data": {
            "text/html": [
              "<div>\n",
              "<style scoped>\n",
              "    .dataframe tbody tr th:only-of-type {\n",
              "        vertical-align: middle;\n",
              "    }\n",
              "\n",
              "    .dataframe tbody tr th {\n",
              "        vertical-align: top;\n",
              "    }\n",
              "\n",
              "    .dataframe thead th {\n",
              "        text-align: right;\n",
              "    }\n",
              "</style>\n",
              "<table border=\"1\" class=\"dataframe\">\n",
              "  <thead>\n",
              "    <tr style=\"text-align: right;\">\n",
              "      <th></th>\n",
              "      <th>Date</th>\n",
              "      <th>time</th>\n",
              "      <th>Depth_to_Groundwater_P24</th>\n",
              "      <th>Depth_to_Groundwater_P25</th>\n",
              "    </tr>\n",
              "  </thead>\n",
              "  <tbody>\n",
              "    <tr>\n",
              "      <th>0</th>\n",
              "      <td>14/03/2006</td>\n",
              "      <td>2006-03-14</td>\n",
              "      <td>-22.48</td>\n",
              "      <td>-22.18</td>\n",
              "    </tr>\n",
              "    <tr>\n",
              "      <th>1</th>\n",
              "      <td>15/03/2006</td>\n",
              "      <td>2006-03-15</td>\n",
              "      <td>-22.38</td>\n",
              "      <td>-22.14</td>\n",
              "    </tr>\n",
              "    <tr>\n",
              "      <th>2</th>\n",
              "      <td>16/03/2006</td>\n",
              "      <td>2006-03-16</td>\n",
              "      <td>-22.25</td>\n",
              "      <td>-22.04</td>\n",
              "    </tr>\n",
              "    <tr>\n",
              "      <th>3</th>\n",
              "      <td>17/03/2006</td>\n",
              "      <td>2006-03-17</td>\n",
              "      <td>-22.38</td>\n",
              "      <td>-22.04</td>\n",
              "    </tr>\n",
              "    <tr>\n",
              "      <th>4</th>\n",
              "      <td>18/03/2006</td>\n",
              "      <td>2006-03-18</td>\n",
              "      <td>-22.60</td>\n",
              "      <td>-22.04</td>\n",
              "    </tr>\n",
              "    <tr>\n",
              "      <th>...</th>\n",
              "      <td>...</td>\n",
              "      <td>...</td>\n",
              "      <td>...</td>\n",
              "      <td>...</td>\n",
              "    </tr>\n",
              "    <tr>\n",
              "      <th>5218</th>\n",
              "      <td>26/06/2020</td>\n",
              "      <td>2020-06-26</td>\n",
              "      <td>-25.68</td>\n",
              "      <td>-25.07</td>\n",
              "    </tr>\n",
              "    <tr>\n",
              "      <th>5219</th>\n",
              "      <td>27/06/2020</td>\n",
              "      <td>2020-06-27</td>\n",
              "      <td>-25.80</td>\n",
              "      <td>-25.11</td>\n",
              "    </tr>\n",
              "    <tr>\n",
              "      <th>5220</th>\n",
              "      <td>28/06/2020</td>\n",
              "      <td>2020-06-28</td>\n",
              "      <td>-25.80</td>\n",
              "      <td>-25.19</td>\n",
              "    </tr>\n",
              "    <tr>\n",
              "      <th>5221</th>\n",
              "      <td>29/06/2020</td>\n",
              "      <td>2020-06-29</td>\n",
              "      <td>-25.78</td>\n",
              "      <td>-25.18</td>\n",
              "    </tr>\n",
              "    <tr>\n",
              "      <th>5222</th>\n",
              "      <td>30/06/2020</td>\n",
              "      <td>2020-06-30</td>\n",
              "      <td>-25.91</td>\n",
              "      <td>-25.25</td>\n",
              "    </tr>\n",
              "  </tbody>\n",
              "</table>\n",
              "<p>5223 rows × 4 columns</p>\n",
              "</div>"
            ],
            "text/plain": [
              "            Date       time  Depth_to_Groundwater_P24  \\\n",
              "0     14/03/2006 2006-03-14                    -22.48   \n",
              "1     15/03/2006 2006-03-15                    -22.38   \n",
              "2     16/03/2006 2006-03-16                    -22.25   \n",
              "3     17/03/2006 2006-03-17                    -22.38   \n",
              "4     18/03/2006 2006-03-18                    -22.60   \n",
              "...          ...        ...                       ...   \n",
              "5218  26/06/2020 2020-06-26                    -25.68   \n",
              "5219  27/06/2020 2020-06-27                    -25.80   \n",
              "5220  28/06/2020 2020-06-28                    -25.80   \n",
              "5221  29/06/2020 2020-06-29                    -25.78   \n",
              "5222  30/06/2020 2020-06-30                    -25.91   \n",
              "\n",
              "      Depth_to_Groundwater_P25  \n",
              "0                       -22.18  \n",
              "1                       -22.14  \n",
              "2                       -22.04  \n",
              "3                       -22.04  \n",
              "4                       -22.04  \n",
              "...                        ...  \n",
              "5218                    -25.07  \n",
              "5219                    -25.11  \n",
              "5220                    -25.19  \n",
              "5221                    -25.18  \n",
              "5222                    -25.25  \n",
              "\n",
              "[5223 rows x 4 columns]"
            ]
          },
          "execution_count": 14,
          "metadata": {},
          "output_type": "execute_result"
        }
      ],
      "source": [
        "df2 = df[[\"Date\",\"time\",\"Depth_to_Groundwater_P24\",\"Depth_to_Groundwater_P25\"]]\n",
        "df2"
      ]
    },
    {
      "cell_type": "code",
      "execution_count": 15,
      "metadata": {
        "colab": {
          "base_uri": "https://localhost:8080/",
          "height": 335
        },
        "id": "_x-2kGrjUhqE",
        "outputId": "ec726e44-34c6-4a99-bc3b-1259afdbe76b"
      },
      "outputs": [
        {
          "data": {
            "text/plain": [
              "Date                                object\n",
              "time                        datetime64[ns]\n",
              "Depth_to_Groundwater_P24           float64\n",
              "Depth_to_Groundwater_P25           float64\n",
              "dtype: object"
            ]
          },
          "execution_count": 15,
          "metadata": {},
          "output_type": "execute_result"
        }
      ],
      "source": [
        "df2.dtypes"
      ]
    },
    {
      "cell_type": "markdown",
      "metadata": {
        "id": "3qSY3SR-NFoF"
      },
      "source": [
        "Pasar de string to datetime nos permite realizar operaciones sobre las fechas, como extarér el día, sumar etc..\n"
      ]
    },
    {
      "cell_type": "code",
      "execution_count": 18,
      "metadata": {
        "colab": {
          "base_uri": "https://localhost:8080/"
        },
        "id": "6viAWyU4IDct",
        "outputId": "3d6344a5-3a1f-45d4-d1c4-cac06656cc3c"
      },
      "outputs": [
        {
          "name": "stdout",
          "output_type": "stream",
          "text": [
            "2006-03-14 00:00:00\n",
            "2020-06-30 00:00:00\n"
          ]
        }
      ],
      "source": [
        "print(df2['time'].min())\n",
        "print(df2['time'].max()) # fecha más reciente en la base"
      ]
    },
    {
      "cell_type": "code",
      "execution_count": 19,
      "metadata": {
        "colab": {
          "base_uri": "https://localhost:8080/"
        },
        "id": "Jr_OCTHKSpXw",
        "outputId": "531fc245-0214-4616-8a71-4a1a22d0e72a"
      },
      "outputs": [
        {
          "data": {
            "text/plain": [
              "Timedelta('5222 days 00:00:00')"
            ]
          },
          "execution_count": 19,
          "metadata": {},
          "output_type": "execute_result"
        }
      ],
      "source": [
        "df2['time'].max() - df2['time'].min() #timestamp, #timedelta"
      ]
    },
    {
      "cell_type": "code",
      "execution_count": 21,
      "metadata": {
        "id": "vj7rKYozStgx"
      },
      "outputs": [
        {
          "name": "stderr",
          "output_type": "stream",
          "text": [
            "C:\\Users\\Angel Resendiz Plata\\AppData\\Local\\Temp\\ipykernel_19664\\1476951041.py:2: SettingWithCopyWarning: \n",
            "A value is trying to be set on a copy of a slice from a DataFrame.\n",
            "Try using .loc[row_indexer,col_indexer] = value instead\n",
            "\n",
            "See the caveats in the documentation: https://pandas.pydata.org/pandas-docs/stable/user_guide/indexing.html#returning-a-view-versus-a-copy\n",
            "  df2['day'] = df2['time'].dt.day\n"
          ]
        }
      ],
      "source": [
        "# Extaer información relevante para analizar, por ejempo los días, los meses, etc..\n",
        "df2['day'] = df2['time'].dt.day"
      ]
    },
    {
      "cell_type": "code",
      "execution_count": 22,
      "metadata": {
        "colab": {
          "base_uri": "https://localhost:8080/",
          "height": 206
        },
        "id": "xT-JvZMoc-up",
        "outputId": "491e4ea4-a84b-4c00-90f9-9501e283e2b4"
      },
      "outputs": [
        {
          "data": {
            "text/html": [
              "<div>\n",
              "<style scoped>\n",
              "    .dataframe tbody tr th:only-of-type {\n",
              "        vertical-align: middle;\n",
              "    }\n",
              "\n",
              "    .dataframe tbody tr th {\n",
              "        vertical-align: top;\n",
              "    }\n",
              "\n",
              "    .dataframe thead th {\n",
              "        text-align: right;\n",
              "    }\n",
              "</style>\n",
              "<table border=\"1\" class=\"dataframe\">\n",
              "  <thead>\n",
              "    <tr style=\"text-align: right;\">\n",
              "      <th></th>\n",
              "      <th>Date</th>\n",
              "      <th>time</th>\n",
              "      <th>Depth_to_Groundwater_P24</th>\n",
              "      <th>Depth_to_Groundwater_P25</th>\n",
              "      <th>day</th>\n",
              "    </tr>\n",
              "  </thead>\n",
              "  <tbody>\n",
              "    <tr>\n",
              "      <th>5218</th>\n",
              "      <td>26/06/2020</td>\n",
              "      <td>2020-06-26</td>\n",
              "      <td>-25.68</td>\n",
              "      <td>-25.07</td>\n",
              "      <td>26</td>\n",
              "    </tr>\n",
              "    <tr>\n",
              "      <th>5219</th>\n",
              "      <td>27/06/2020</td>\n",
              "      <td>2020-06-27</td>\n",
              "      <td>-25.80</td>\n",
              "      <td>-25.11</td>\n",
              "      <td>27</td>\n",
              "    </tr>\n",
              "    <tr>\n",
              "      <th>5220</th>\n",
              "      <td>28/06/2020</td>\n",
              "      <td>2020-06-28</td>\n",
              "      <td>-25.80</td>\n",
              "      <td>-25.19</td>\n",
              "      <td>28</td>\n",
              "    </tr>\n",
              "    <tr>\n",
              "      <th>5221</th>\n",
              "      <td>29/06/2020</td>\n",
              "      <td>2020-06-29</td>\n",
              "      <td>-25.78</td>\n",
              "      <td>-25.18</td>\n",
              "      <td>29</td>\n",
              "    </tr>\n",
              "    <tr>\n",
              "      <th>5222</th>\n",
              "      <td>30/06/2020</td>\n",
              "      <td>2020-06-30</td>\n",
              "      <td>-25.91</td>\n",
              "      <td>-25.25</td>\n",
              "      <td>30</td>\n",
              "    </tr>\n",
              "  </tbody>\n",
              "</table>\n",
              "</div>"
            ],
            "text/plain": [
              "            Date       time  Depth_to_Groundwater_P24  \\\n",
              "5218  26/06/2020 2020-06-26                    -25.68   \n",
              "5219  27/06/2020 2020-06-27                    -25.80   \n",
              "5220  28/06/2020 2020-06-28                    -25.80   \n",
              "5221  29/06/2020 2020-06-29                    -25.78   \n",
              "5222  30/06/2020 2020-06-30                    -25.91   \n",
              "\n",
              "      Depth_to_Groundwater_P25  day  \n",
              "5218                    -25.07   26  \n",
              "5219                    -25.11   27  \n",
              "5220                    -25.19   28  \n",
              "5221                    -25.18   29  \n",
              "5222                    -25.25   30  "
            ]
          },
          "execution_count": 22,
          "metadata": {},
          "output_type": "execute_result"
        }
      ],
      "source": [
        "df2.tail()"
      ]
    },
    {
      "cell_type": "code",
      "execution_count": 23,
      "metadata": {
        "id": "y-X5f7KTTko2"
      },
      "outputs": [
        {
          "name": "stderr",
          "output_type": "stream",
          "text": [
            "C:\\Users\\Angel Resendiz Plata\\AppData\\Local\\Temp\\ipykernel_19664\\2310682454.py:1: SettingWithCopyWarning: \n",
            "A value is trying to be set on a copy of a slice from a DataFrame.\n",
            "Try using .loc[row_indexer,col_indexer] = value instead\n",
            "\n",
            "See the caveats in the documentation: https://pandas.pydata.org/pandas-docs/stable/user_guide/indexing.html#returning-a-view-versus-a-copy\n",
            "  df2['day_name'] = df2['time'].dt.day_name()\n"
          ]
        }
      ],
      "source": [
        "df2['day_name'] = df2['time'].dt.day_name()\n",
        "# prueba con month, year"
      ]
    },
    {
      "cell_type": "code",
      "execution_count": 24,
      "metadata": {
        "colab": {
          "base_uri": "https://localhost:8080/",
          "height": 489
        },
        "id": "NIFwEmRYVX5w",
        "outputId": "978985f0-031b-4309-f6b2-774ce33c359f"
      },
      "outputs": [
        {
          "data": {
            "text/plain": [
              "0         Tuesday\n",
              "1       Wednesday\n",
              "2        Thursday\n",
              "3          Friday\n",
              "4        Saturday\n",
              "          ...    \n",
              "5218       Friday\n",
              "5219     Saturday\n",
              "5220       Sunday\n",
              "5221       Monday\n",
              "5222      Tuesday\n",
              "Name: day_name, Length: 5223, dtype: object"
            ]
          },
          "execution_count": 24,
          "metadata": {},
          "output_type": "execute_result"
        }
      ],
      "source": [
        "df2['day_name']"
      ]
    },
    {
      "cell_type": "code",
      "execution_count": 25,
      "metadata": {
        "colab": {
          "base_uri": "https://localhost:8080/",
          "height": 423
        },
        "id": "SLHY0QSAURpf",
        "outputId": "e044659b-02d3-4431-dc12-91b5bdbb13ca"
      },
      "outputs": [
        {
          "data": {
            "text/html": [
              "<div>\n",
              "<style scoped>\n",
              "    .dataframe tbody tr th:only-of-type {\n",
              "        vertical-align: middle;\n",
              "    }\n",
              "\n",
              "    .dataframe tbody tr th {\n",
              "        vertical-align: top;\n",
              "    }\n",
              "\n",
              "    .dataframe thead th {\n",
              "        text-align: right;\n",
              "    }\n",
              "</style>\n",
              "<table border=\"1\" class=\"dataframe\">\n",
              "  <thead>\n",
              "    <tr style=\"text-align: right;\">\n",
              "      <th></th>\n",
              "      <th>Date</th>\n",
              "      <th>time</th>\n",
              "      <th>Depth_to_Groundwater_P24</th>\n",
              "      <th>Depth_to_Groundwater_P25</th>\n",
              "      <th>day</th>\n",
              "      <th>day_name</th>\n",
              "    </tr>\n",
              "  </thead>\n",
              "  <tbody>\n",
              "    <tr>\n",
              "      <th>0</th>\n",
              "      <td>14/03/2006</td>\n",
              "      <td>2006-03-14</td>\n",
              "      <td>-22.48</td>\n",
              "      <td>-22.18</td>\n",
              "      <td>14</td>\n",
              "      <td>Tuesday</td>\n",
              "    </tr>\n",
              "    <tr>\n",
              "      <th>1</th>\n",
              "      <td>15/03/2006</td>\n",
              "      <td>2006-03-15</td>\n",
              "      <td>-22.38</td>\n",
              "      <td>-22.14</td>\n",
              "      <td>15</td>\n",
              "      <td>Wednesday</td>\n",
              "    </tr>\n",
              "    <tr>\n",
              "      <th>2</th>\n",
              "      <td>16/03/2006</td>\n",
              "      <td>2006-03-16</td>\n",
              "      <td>-22.25</td>\n",
              "      <td>-22.04</td>\n",
              "      <td>16</td>\n",
              "      <td>Thursday</td>\n",
              "    </tr>\n",
              "    <tr>\n",
              "      <th>3</th>\n",
              "      <td>17/03/2006</td>\n",
              "      <td>2006-03-17</td>\n",
              "      <td>-22.38</td>\n",
              "      <td>-22.04</td>\n",
              "      <td>17</td>\n",
              "      <td>Friday</td>\n",
              "    </tr>\n",
              "    <tr>\n",
              "      <th>4</th>\n",
              "      <td>18/03/2006</td>\n",
              "      <td>2006-03-18</td>\n",
              "      <td>-22.60</td>\n",
              "      <td>-22.04</td>\n",
              "      <td>18</td>\n",
              "      <td>Saturday</td>\n",
              "    </tr>\n",
              "  </tbody>\n",
              "</table>\n",
              "</div>"
            ],
            "text/plain": [
              "         Date       time  Depth_to_Groundwater_P24  Depth_to_Groundwater_P25  \\\n",
              "0  14/03/2006 2006-03-14                    -22.48                    -22.18   \n",
              "1  15/03/2006 2006-03-15                    -22.38                    -22.14   \n",
              "2  16/03/2006 2006-03-16                    -22.25                    -22.04   \n",
              "3  17/03/2006 2006-03-17                    -22.38                    -22.04   \n",
              "4  18/03/2006 2006-03-18                    -22.60                    -22.04   \n",
              "\n",
              "   day   day_name  \n",
              "0   14    Tuesday  \n",
              "1   15  Wednesday  \n",
              "2   16   Thursday  \n",
              "3   17     Friday  \n",
              "4   18   Saturday  "
            ]
          },
          "execution_count": 25,
          "metadata": {},
          "output_type": "execute_result"
        }
      ],
      "source": [
        "# analizar las transacciones en un día particiular puede ser importante...\n",
        "# podriamos realziar un ejercicio de comparación usando ANOVA?\n",
        "df2.head()"
      ]
    },
    {
      "cell_type": "code",
      "execution_count": 28,
      "metadata": {
        "colab": {
          "base_uri": "https://localhost:8080/",
          "height": 272
        },
        "id": "lMhP1FsQUcBr",
        "outputId": "52f7b9a8-29f8-43c5-e114-ee29f58d9f84"
      },
      "outputs": [
        {
          "data": {
            "text/plain": [
              "time\n",
              "Friday      -25.703706\n",
              "Monday      -25.668498\n",
              "Saturday    -25.708151\n",
              "Sunday      -25.683838\n",
              "Thursday    -25.700350\n",
              "Tuesday     -25.690391\n",
              "Wednesday   -25.695453\n",
              "Name: Depth_to_Groundwater_P25, dtype: float64"
            ]
          },
          "execution_count": 28,
          "metadata": {},
          "output_type": "execute_result"
        }
      ],
      "source": [
        "# promedio de cierre por día\n",
        "df2.groupby([df2[\"time\"].dt.day_name()])['Depth_to_Groundwater_P25'].mean()"
      ]
    },
    {
      "cell_type": "code",
      "execution_count": 29,
      "metadata": {
        "colab": {
          "base_uri": "https://localhost:8080/",
          "height": 1000
        },
        "id": "10gWcDuzV3nt",
        "outputId": "6225e24c-4d78-4d55-9467-f0fb3cc98c51"
      },
      "outputs": [
        {
          "data": {
            "text/plain": [
              "time  time     \n",
              "1     Friday      -26.128710\n",
              "      Monday      -26.185410\n",
              "      Saturday    -26.204590\n",
              "      Sunday      -26.182787\n",
              "      Thursday    -26.258889\n",
              "                     ...    \n",
              "12    Saturday    -26.660476\n",
              "      Sunday      -26.612540\n",
              "      Thursday    -26.499672\n",
              "      Tuesday     -26.476129\n",
              "      Wednesday   -26.488333\n",
              "Name: Depth_to_Groundwater_P25, Length: 84, dtype: float64"
            ]
          },
          "execution_count": 29,
          "metadata": {},
          "output_type": "execute_result"
        }
      ],
      "source": [
        "# precio de cierre por mes y día de la semana\n",
        "df2.groupby([df2[\"time\"].dt.month, df2[\"time\"].dt.day_name()])['Depth_to_Groundwater_P25'].mean()\n",
        "# interesante observe el septimo mes en cada día"
      ]
    },
    {
      "cell_type": "code",
      "execution_count": 30,
      "metadata": {
        "colab": {
          "base_uri": "https://localhost:8080/",
          "height": 423
        },
        "id": "VNToe2PNcSNL",
        "outputId": "ebcdfce8-c881-4cb9-a3e4-a8303af933f6"
      },
      "outputs": [
        {
          "data": {
            "text/html": [
              "<div>\n",
              "<style scoped>\n",
              "    .dataframe tbody tr th:only-of-type {\n",
              "        vertical-align: middle;\n",
              "    }\n",
              "\n",
              "    .dataframe tbody tr th {\n",
              "        vertical-align: top;\n",
              "    }\n",
              "\n",
              "    .dataframe thead th {\n",
              "        text-align: right;\n",
              "    }\n",
              "</style>\n",
              "<table border=\"1\" class=\"dataframe\">\n",
              "  <thead>\n",
              "    <tr style=\"text-align: right;\">\n",
              "      <th></th>\n",
              "      <th>Date</th>\n",
              "      <th>time</th>\n",
              "      <th>Depth_to_Groundwater_P24</th>\n",
              "      <th>Depth_to_Groundwater_P25</th>\n",
              "      <th>day</th>\n",
              "      <th>day_name</th>\n",
              "    </tr>\n",
              "  </thead>\n",
              "  <tbody>\n",
              "    <tr>\n",
              "      <th>0</th>\n",
              "      <td>14/03/2006</td>\n",
              "      <td>2006-03-14</td>\n",
              "      <td>-22.48</td>\n",
              "      <td>-22.18</td>\n",
              "      <td>14</td>\n",
              "      <td>Tuesday</td>\n",
              "    </tr>\n",
              "    <tr>\n",
              "      <th>1</th>\n",
              "      <td>15/03/2006</td>\n",
              "      <td>2006-03-15</td>\n",
              "      <td>-22.38</td>\n",
              "      <td>-22.14</td>\n",
              "      <td>15</td>\n",
              "      <td>Wednesday</td>\n",
              "    </tr>\n",
              "    <tr>\n",
              "      <th>2</th>\n",
              "      <td>16/03/2006</td>\n",
              "      <td>2006-03-16</td>\n",
              "      <td>-22.25</td>\n",
              "      <td>-22.04</td>\n",
              "      <td>16</td>\n",
              "      <td>Thursday</td>\n",
              "    </tr>\n",
              "    <tr>\n",
              "      <th>3</th>\n",
              "      <td>17/03/2006</td>\n",
              "      <td>2006-03-17</td>\n",
              "      <td>-22.38</td>\n",
              "      <td>-22.04</td>\n",
              "      <td>17</td>\n",
              "      <td>Friday</td>\n",
              "    </tr>\n",
              "    <tr>\n",
              "      <th>4</th>\n",
              "      <td>18/03/2006</td>\n",
              "      <td>2006-03-18</td>\n",
              "      <td>-22.60</td>\n",
              "      <td>-22.04</td>\n",
              "      <td>18</td>\n",
              "      <td>Saturday</td>\n",
              "    </tr>\n",
              "  </tbody>\n",
              "</table>\n",
              "</div>"
            ],
            "text/plain": [
              "         Date       time  Depth_to_Groundwater_P24  Depth_to_Groundwater_P25  \\\n",
              "0  14/03/2006 2006-03-14                    -22.48                    -22.18   \n",
              "1  15/03/2006 2006-03-15                    -22.38                    -22.14   \n",
              "2  16/03/2006 2006-03-16                    -22.25                    -22.04   \n",
              "3  17/03/2006 2006-03-17                    -22.38                    -22.04   \n",
              "4  18/03/2006 2006-03-18                    -22.60                    -22.04   \n",
              "\n",
              "   day   day_name  \n",
              "0   14    Tuesday  \n",
              "1   15  Wednesday  \n",
              "2   16   Thursday  \n",
              "3   17     Friday  \n",
              "4   18   Saturday  "
            ]
          },
          "execution_count": 30,
          "metadata": {},
          "output_type": "execute_result"
        }
      ],
      "source": [
        "df2.head()"
      ]
    },
    {
      "cell_type": "code",
      "execution_count": 31,
      "metadata": {
        "colab": {
          "base_uri": "https://localhost:8080/",
          "height": 428
        },
        "id": "cASKI4ZqWxQc",
        "outputId": "42e5ae02-dd13-4880-85ba-5e607fbe695e"
      },
      "outputs": [
        {
          "data": {
            "text/plain": [
              "Text(0, 0.5, 'mean price')"
            ]
          },
          "execution_count": 31,
          "metadata": {},
          "output_type": "execute_result"
        },
        {
          "data": {
            "image/png": "[encoded data removed]",
            "text/plain": [
              "<Figure size 500x400 with 1 Axes>"
            ]
          },
          "metadata": {},
          "output_type": "display_data"
        }
      ],
      "source": [
        "# gráficando el día\n",
        "fig, axs = plt.subplots(figsize=(5,4))\n",
        "df2.groupby(df2[\"time\"].dt.day_name())[\"Depth_to_Groundwater_P25\"].mean().plot(\n",
        "    kind='bar', rot=0, ax=axs)\n",
        "plt.title(\"Mean close price by day\")\n",
        "plt.xlabel(\"days\")\n",
        "plt.ylabel(\"mean price\")"
      ]
    },
    {
      "cell_type": "code",
      "execution_count": 36,
      "metadata": {
        "id": "Lct6MD8QeZ69"
      },
      "outputs": [],
      "source": [
        "# datetime como index\n",
        "df2.set_index(df['time'], inplace=True) #Una ventaja  el ajuste de las fechas"
      ]
    },
    {
      "cell_type": "code",
      "execution_count": 37,
      "metadata": {
        "colab": {
          "base_uri": "https://localhost:8080/",
          "height": 628
        },
        "id": "YwHvBlDiWJkD",
        "outputId": "a4636bd5-90ff-428b-e9a2-89100751c605"
      },
      "outputs": [
        {
          "data": {
            "text/html": [
              "<div>\n",
              "<style scoped>\n",
              "    .dataframe tbody tr th:only-of-type {\n",
              "        vertical-align: middle;\n",
              "    }\n",
              "\n",
              "    .dataframe tbody tr th {\n",
              "        vertical-align: top;\n",
              "    }\n",
              "\n",
              "    .dataframe thead th {\n",
              "        text-align: right;\n",
              "    }\n",
              "</style>\n",
              "<table border=\"1\" class=\"dataframe\">\n",
              "  <thead>\n",
              "    <tr style=\"text-align: right;\">\n",
              "      <th></th>\n",
              "      <th>Date</th>\n",
              "      <th>time</th>\n",
              "      <th>Depth_to_Groundwater_P24</th>\n",
              "      <th>Depth_to_Groundwater_P25</th>\n",
              "      <th>day</th>\n",
              "      <th>day_name</th>\n",
              "    </tr>\n",
              "    <tr>\n",
              "      <th>time</th>\n",
              "      <th></th>\n",
              "      <th></th>\n",
              "      <th></th>\n",
              "      <th></th>\n",
              "      <th></th>\n",
              "      <th></th>\n",
              "    </tr>\n",
              "  </thead>\n",
              "  <tbody>\n",
              "    <tr>\n",
              "      <th>2006-03-14</th>\n",
              "      <td>14/03/2006</td>\n",
              "      <td>2006-03-14</td>\n",
              "      <td>-22.48</td>\n",
              "      <td>-22.18</td>\n",
              "      <td>14</td>\n",
              "      <td>Tuesday</td>\n",
              "    </tr>\n",
              "    <tr>\n",
              "      <th>2006-03-15</th>\n",
              "      <td>15/03/2006</td>\n",
              "      <td>2006-03-15</td>\n",
              "      <td>-22.38</td>\n",
              "      <td>-22.14</td>\n",
              "      <td>15</td>\n",
              "      <td>Wednesday</td>\n",
              "    </tr>\n",
              "    <tr>\n",
              "      <th>2006-03-16</th>\n",
              "      <td>16/03/2006</td>\n",
              "      <td>2006-03-16</td>\n",
              "      <td>-22.25</td>\n",
              "      <td>-22.04</td>\n",
              "      <td>16</td>\n",
              "      <td>Thursday</td>\n",
              "    </tr>\n",
              "    <tr>\n",
              "      <th>2006-03-17</th>\n",
              "      <td>17/03/2006</td>\n",
              "      <td>2006-03-17</td>\n",
              "      <td>-22.38</td>\n",
              "      <td>-22.04</td>\n",
              "      <td>17</td>\n",
              "      <td>Friday</td>\n",
              "    </tr>\n",
              "    <tr>\n",
              "      <th>2006-03-18</th>\n",
              "      <td>18/03/2006</td>\n",
              "      <td>2006-03-18</td>\n",
              "      <td>-22.60</td>\n",
              "      <td>-22.04</td>\n",
              "      <td>18</td>\n",
              "      <td>Saturday</td>\n",
              "    </tr>\n",
              "  </tbody>\n",
              "</table>\n",
              "</div>"
            ],
            "text/plain": [
              "                  Date       time  Depth_to_Groundwater_P24  \\\n",
              "time                                                          \n",
              "2006-03-14  14/03/2006 2006-03-14                    -22.48   \n",
              "2006-03-15  15/03/2006 2006-03-15                    -22.38   \n",
              "2006-03-16  16/03/2006 2006-03-16                    -22.25   \n",
              "2006-03-17  17/03/2006 2006-03-17                    -22.38   \n",
              "2006-03-18  18/03/2006 2006-03-18                    -22.60   \n",
              "\n",
              "            Depth_to_Groundwater_P25  day   day_name  \n",
              "time                                                  \n",
              "2006-03-14                    -22.18   14    Tuesday  \n",
              "2006-03-15                    -22.14   15  Wednesday  \n",
              "2006-03-16                    -22.04   16   Thursday  \n",
              "2006-03-17                    -22.04   17     Friday  \n",
              "2006-03-18                    -22.04   18   Saturday  "
            ]
          },
          "execution_count": 37,
          "metadata": {},
          "output_type": "execute_result"
        }
      ],
      "source": [
        "df2.head()"
      ]
    },
    {
      "cell_type": "code",
      "execution_count": 38,
      "metadata": {
        "colab": {
          "base_uri": "https://localhost:8080/",
          "height": 464
        },
        "id": "mTjR7WT3eNrn",
        "outputId": "bbf9a0ea-048e-4fac-dd86-2dd37d2aa026"
      },
      "outputs": [
        {
          "data": {
            "image/png": "[encoded data removed]",
            "text/plain": [
              "<Figure size 640x480 with 1 Axes>"
            ]
          },
          "metadata": {},
          "output_type": "display_data"
        }
      ],
      "source": [
        "plt.plot(df2['Depth_to_Groundwater_P24'])\n",
        "plt.plot(df2['Depth_to_Groundwater_P25'])\n",
        "plt.xticks(rotation=40, ha='right'); #not show text"
      ]
    },
    {
      "cell_type": "code",
      "execution_count": 44,
      "metadata": {
        "colab": {
          "base_uri": "https://localhost:8080/",
          "height": 957
        },
        "id": "C-wEvfVQhy7c",
        "outputId": "a51de867-f659-49ec-bdf8-042830883dfe"
      },
      "outputs": [
        {
          "data": {
            "text/html": [
              "<div>\n",
              "<style scoped>\n",
              "    .dataframe tbody tr th:only-of-type {\n",
              "        vertical-align: middle;\n",
              "    }\n",
              "\n",
              "    .dataframe tbody tr th {\n",
              "        vertical-align: top;\n",
              "    }\n",
              "\n",
              "    .dataframe thead th {\n",
              "        text-align: right;\n",
              "    }\n",
              "</style>\n",
              "<table border=\"1\" class=\"dataframe\">\n",
              "  <thead>\n",
              "    <tr style=\"text-align: right;\">\n",
              "      <th></th>\n",
              "      <th>Date</th>\n",
              "      <th>time</th>\n",
              "      <th>Depth_to_Groundwater_P24</th>\n",
              "      <th>Depth_to_Groundwater_P25</th>\n",
              "      <th>day</th>\n",
              "      <th>day_name</th>\n",
              "    </tr>\n",
              "    <tr>\n",
              "      <th>time</th>\n",
              "      <th></th>\n",
              "      <th></th>\n",
              "      <th></th>\n",
              "      <th></th>\n",
              "      <th></th>\n",
              "      <th></th>\n",
              "    </tr>\n",
              "  </thead>\n",
              "  <tbody>\n",
              "    <tr>\n",
              "      <th>2006-05-18</th>\n",
              "      <td>18/05/2006</td>\n",
              "      <td>2006-05-18</td>\n",
              "      <td>-22.23</td>\n",
              "      <td>-21.66</td>\n",
              "      <td>18</td>\n",
              "      <td>Thursday</td>\n",
              "    </tr>\n",
              "    <tr>\n",
              "      <th>2006-05-19</th>\n",
              "      <td>19/05/2006</td>\n",
              "      <td>2006-05-19</td>\n",
              "      <td>-22.15</td>\n",
              "      <td>-21.59</td>\n",
              "      <td>19</td>\n",
              "      <td>Friday</td>\n",
              "    </tr>\n",
              "    <tr>\n",
              "      <th>2006-05-20</th>\n",
              "      <td>20/05/2006</td>\n",
              "      <td>2006-05-20</td>\n",
              "      <td>-22.12</td>\n",
              "      <td>-21.56</td>\n",
              "      <td>20</td>\n",
              "      <td>Saturday</td>\n",
              "    </tr>\n",
              "    <tr>\n",
              "      <th>2006-05-21</th>\n",
              "      <td>21/05/2006</td>\n",
              "      <td>2006-05-21</td>\n",
              "      <td>-22.07</td>\n",
              "      <td>-21.55</td>\n",
              "      <td>21</td>\n",
              "      <td>Sunday</td>\n",
              "    </tr>\n",
              "    <tr>\n",
              "      <th>2006-05-22</th>\n",
              "      <td>22/05/2006</td>\n",
              "      <td>2006-05-22</td>\n",
              "      <td>-22.13</td>\n",
              "      <td>-21.55</td>\n",
              "      <td>22</td>\n",
              "      <td>Monday</td>\n",
              "    </tr>\n",
              "    <tr>\n",
              "      <th>2006-05-23</th>\n",
              "      <td>23/05/2006</td>\n",
              "      <td>2006-05-23</td>\n",
              "      <td>-22.19</td>\n",
              "      <td>-21.63</td>\n",
              "      <td>23</td>\n",
              "      <td>Tuesday</td>\n",
              "    </tr>\n",
              "    <tr>\n",
              "      <th>2006-05-24</th>\n",
              "      <td>24/05/2006</td>\n",
              "      <td>2006-05-24</td>\n",
              "      <td>-22.14</td>\n",
              "      <td>-21.61</td>\n",
              "      <td>24</td>\n",
              "      <td>Wednesday</td>\n",
              "    </tr>\n",
              "    <tr>\n",
              "      <th>2006-05-25</th>\n",
              "      <td>25/05/2006</td>\n",
              "      <td>2006-05-25</td>\n",
              "      <td>-22.15</td>\n",
              "      <td>-21.61</td>\n",
              "      <td>25</td>\n",
              "      <td>Thursday</td>\n",
              "    </tr>\n",
              "    <tr>\n",
              "      <th>2006-05-26</th>\n",
              "      <td>26/05/2006</td>\n",
              "      <td>2006-05-26</td>\n",
              "      <td>-22.25</td>\n",
              "      <td>-21.64</td>\n",
              "      <td>26</td>\n",
              "      <td>Friday</td>\n",
              "    </tr>\n",
              "    <tr>\n",
              "      <th>2006-05-27</th>\n",
              "      <td>27/05/2006</td>\n",
              "      <td>2006-05-27</td>\n",
              "      <td>-22.26</td>\n",
              "      <td>-21.70</td>\n",
              "      <td>27</td>\n",
              "      <td>Saturday</td>\n",
              "    </tr>\n",
              "    <tr>\n",
              "      <th>2006-05-28</th>\n",
              "      <td>28/05/2006</td>\n",
              "      <td>2006-05-28</td>\n",
              "      <td>-22.19</td>\n",
              "      <td>-21.65</td>\n",
              "      <td>28</td>\n",
              "      <td>Sunday</td>\n",
              "    </tr>\n",
              "    <tr>\n",
              "      <th>2006-05-29</th>\n",
              "      <td>29/05/2006</td>\n",
              "      <td>2006-05-29</td>\n",
              "      <td>-22.17</td>\n",
              "      <td>-21.59</td>\n",
              "      <td>29</td>\n",
              "      <td>Monday</td>\n",
              "    </tr>\n",
              "    <tr>\n",
              "      <th>2006-05-30</th>\n",
              "      <td>30/05/2006</td>\n",
              "      <td>2006-05-30</td>\n",
              "      <td>-22.19</td>\n",
              "      <td>-21.61</td>\n",
              "      <td>30</td>\n",
              "      <td>Tuesday</td>\n",
              "    </tr>\n",
              "    <tr>\n",
              "      <th>2006-05-31</th>\n",
              "      <td>31/05/2006</td>\n",
              "      <td>2006-05-31</td>\n",
              "      <td>-22.20</td>\n",
              "      <td>-21.61</td>\n",
              "      <td>31</td>\n",
              "      <td>Wednesday</td>\n",
              "    </tr>\n",
              "    <tr>\n",
              "      <th>2006-06-01</th>\n",
              "      <td>01/06/2006</td>\n",
              "      <td>2006-06-01</td>\n",
              "      <td>-22.18</td>\n",
              "      <td>-21.65</td>\n",
              "      <td>1</td>\n",
              "      <td>Thursday</td>\n",
              "    </tr>\n",
              "    <tr>\n",
              "      <th>2006-06-02</th>\n",
              "      <td>02/06/2006</td>\n",
              "      <td>2006-06-02</td>\n",
              "      <td>-22.00</td>\n",
              "      <td>-21.53</td>\n",
              "      <td>2</td>\n",
              "      <td>Friday</td>\n",
              "    </tr>\n",
              "    <tr>\n",
              "      <th>2006-06-03</th>\n",
              "      <td>03/06/2006</td>\n",
              "      <td>2006-06-03</td>\n",
              "      <td>-21.94</td>\n",
              "      <td>-21.48</td>\n",
              "      <td>3</td>\n",
              "      <td>Saturday</td>\n",
              "    </tr>\n",
              "    <tr>\n",
              "      <th>2006-06-04</th>\n",
              "      <td>04/06/2006</td>\n",
              "      <td>2006-06-04</td>\n",
              "      <td>-21.88</td>\n",
              "      <td>-21.48</td>\n",
              "      <td>4</td>\n",
              "      <td>Sunday</td>\n",
              "    </tr>\n",
              "    <tr>\n",
              "      <th>2006-06-05</th>\n",
              "      <td>05/06/2006</td>\n",
              "      <td>2006-06-05</td>\n",
              "      <td>-22.12</td>\n",
              "      <td>-21.54</td>\n",
              "      <td>5</td>\n",
              "      <td>Monday</td>\n",
              "    </tr>\n",
              "    <tr>\n",
              "      <th>2006-06-06</th>\n",
              "      <td>06/06/2006</td>\n",
              "      <td>2006-06-06</td>\n",
              "      <td>-22.05</td>\n",
              "      <td>-21.56</td>\n",
              "      <td>6</td>\n",
              "      <td>Tuesday</td>\n",
              "    </tr>\n",
              "    <tr>\n",
              "      <th>2006-06-07</th>\n",
              "      <td>07/06/2006</td>\n",
              "      <td>2006-06-07</td>\n",
              "      <td>-22.22</td>\n",
              "      <td>-21.61</td>\n",
              "      <td>7</td>\n",
              "      <td>Wednesday</td>\n",
              "    </tr>\n",
              "    <tr>\n",
              "      <th>2006-06-08</th>\n",
              "      <td>08/06/2006</td>\n",
              "      <td>2006-06-08</td>\n",
              "      <td>-22.32</td>\n",
              "      <td>-21.70</td>\n",
              "      <td>8</td>\n",
              "      <td>Thursday</td>\n",
              "    </tr>\n",
              "    <tr>\n",
              "      <th>2006-06-09</th>\n",
              "      <td>09/06/2006</td>\n",
              "      <td>2006-06-09</td>\n",
              "      <td>NaN</td>\n",
              "      <td>-21.77</td>\n",
              "      <td>9</td>\n",
              "      <td>Friday</td>\n",
              "    </tr>\n",
              "    <tr>\n",
              "      <th>2006-06-10</th>\n",
              "      <td>10/06/2006</td>\n",
              "      <td>2006-06-10</td>\n",
              "      <td>-22.53</td>\n",
              "      <td>-21.83</td>\n",
              "      <td>10</td>\n",
              "      <td>Saturday</td>\n",
              "    </tr>\n",
              "    <tr>\n",
              "      <th>2006-06-11</th>\n",
              "      <td>11/06/2006</td>\n",
              "      <td>2006-06-11</td>\n",
              "      <td>-22.38</td>\n",
              "      <td>-21.87</td>\n",
              "      <td>11</td>\n",
              "      <td>Sunday</td>\n",
              "    </tr>\n",
              "    <tr>\n",
              "      <th>2006-06-12</th>\n",
              "      <td>12/06/2006</td>\n",
              "      <td>2006-06-12</td>\n",
              "      <td>-22.53</td>\n",
              "      <td>-21.84</td>\n",
              "      <td>12</td>\n",
              "      <td>Monday</td>\n",
              "    </tr>\n",
              "    <tr>\n",
              "      <th>2006-06-13</th>\n",
              "      <td>13/06/2006</td>\n",
              "      <td>2006-06-13</td>\n",
              "      <td>-22.59</td>\n",
              "      <td>-21.93</td>\n",
              "      <td>13</td>\n",
              "      <td>Tuesday</td>\n",
              "    </tr>\n",
              "    <tr>\n",
              "      <th>2006-06-14</th>\n",
              "      <td>14/06/2006</td>\n",
              "      <td>2006-06-14</td>\n",
              "      <td>-22.64</td>\n",
              "      <td>-21.99</td>\n",
              "      <td>14</td>\n",
              "      <td>Wednesday</td>\n",
              "    </tr>\n",
              "    <tr>\n",
              "      <th>2006-06-15</th>\n",
              "      <td>15/06/2006</td>\n",
              "      <td>2006-06-15</td>\n",
              "      <td>-22.72</td>\n",
              "      <td>-22.06</td>\n",
              "      <td>15</td>\n",
              "      <td>Thursday</td>\n",
              "    </tr>\n",
              "    <tr>\n",
              "      <th>2006-06-16</th>\n",
              "      <td>16/06/2006</td>\n",
              "      <td>2006-06-16</td>\n",
              "      <td>-22.78</td>\n",
              "      <td>-22.14</td>\n",
              "      <td>16</td>\n",
              "      <td>Friday</td>\n",
              "    </tr>\n",
              "    <tr>\n",
              "      <th>2006-06-17</th>\n",
              "      <td>17/06/2006</td>\n",
              "      <td>2006-06-17</td>\n",
              "      <td>-22.82</td>\n",
              "      <td>-22.14</td>\n",
              "      <td>17</td>\n",
              "      <td>Saturday</td>\n",
              "    </tr>\n",
              "    <tr>\n",
              "      <th>2006-06-18</th>\n",
              "      <td>18/06/2006</td>\n",
              "      <td>2006-06-18</td>\n",
              "      <td>-22.62</td>\n",
              "      <td>-22.10</td>\n",
              "      <td>18</td>\n",
              "      <td>Sunday</td>\n",
              "    </tr>\n",
              "  </tbody>\n",
              "</table>\n",
              "</div>"
            ],
            "text/plain": [
              "                  Date       time  Depth_to_Groundwater_P24  \\\n",
              "time                                                          \n",
              "2006-05-18  18/05/2006 2006-05-18                    -22.23   \n",
              "2006-05-19  19/05/2006 2006-05-19                    -22.15   \n",
              "2006-05-20  20/05/2006 2006-05-20                    -22.12   \n",
              "2006-05-21  21/05/2006 2006-05-21                    -22.07   \n",
              "2006-05-22  22/05/2006 2006-05-22                    -22.13   \n",
              "2006-05-23  23/05/2006 2006-05-23                    -22.19   \n",
              "2006-05-24  24/05/2006 2006-05-24                    -22.14   \n",
              "2006-05-25  25/05/2006 2006-05-25                    -22.15   \n",
              "2006-05-26  26/05/2006 2006-05-26                    -22.25   \n",
              "2006-05-27  27/05/2006 2006-05-27                    -22.26   \n",
              "2006-05-28  28/05/2006 2006-05-28                    -22.19   \n",
              "2006-05-29  29/05/2006 2006-05-29                    -22.17   \n",
              "2006-05-30  30/05/2006 2006-05-30                    -22.19   \n",
              "2006-05-31  31/05/2006 2006-05-31                    -22.20   \n",
              "2006-06-01  01/06/2006 2006-06-01                    -22.18   \n",
              "2006-06-02  02/06/2006 2006-06-02                    -22.00   \n",
              "2006-06-03  03/06/2006 2006-06-03                    -21.94   \n",
              "2006-06-04  04/06/2006 2006-06-04                    -21.88   \n",
              "2006-06-05  05/06/2006 2006-06-05                    -22.12   \n",
              "2006-06-06  06/06/2006 2006-06-06                    -22.05   \n",
              "2006-06-07  07/06/2006 2006-06-07                    -22.22   \n",
              "2006-06-08  08/06/2006 2006-06-08                    -22.32   \n",
              "2006-06-09  09/06/2006 2006-06-09                       NaN   \n",
              "2006-06-10  10/06/2006 2006-06-10                    -22.53   \n",
              "2006-06-11  11/06/2006 2006-06-11                    -22.38   \n",
              "2006-06-12  12/06/2006 2006-06-12                    -22.53   \n",
              "2006-06-13  13/06/2006 2006-06-13                    -22.59   \n",
              "2006-06-14  14/06/2006 2006-06-14                    -22.64   \n",
              "2006-06-15  15/06/2006 2006-06-15                    -22.72   \n",
              "2006-06-16  16/06/2006 2006-06-16                    -22.78   \n",
              "2006-06-17  17/06/2006 2006-06-17                    -22.82   \n",
              "2006-06-18  18/06/2006 2006-06-18                    -22.62   \n",
              "\n",
              "            Depth_to_Groundwater_P25  day   day_name  \n",
              "time                                                  \n",
              "2006-05-18                    -21.66   18   Thursday  \n",
              "2006-05-19                    -21.59   19     Friday  \n",
              "2006-05-20                    -21.56   20   Saturday  \n",
              "2006-05-21                    -21.55   21     Sunday  \n",
              "2006-05-22                    -21.55   22     Monday  \n",
              "2006-05-23                    -21.63   23    Tuesday  \n",
              "2006-05-24                    -21.61   24  Wednesday  \n",
              "2006-05-25                    -21.61   25   Thursday  \n",
              "2006-05-26                    -21.64   26     Friday  \n",
              "2006-05-27                    -21.70   27   Saturday  \n",
              "2006-05-28                    -21.65   28     Sunday  \n",
              "2006-05-29                    -21.59   29     Monday  \n",
              "2006-05-30                    -21.61   30    Tuesday  \n",
              "2006-05-31                    -21.61   31  Wednesday  \n",
              "2006-06-01                    -21.65    1   Thursday  \n",
              "2006-06-02                    -21.53    2     Friday  \n",
              "2006-06-03                    -21.48    3   Saturday  \n",
              "2006-06-04                    -21.48    4     Sunday  \n",
              "2006-06-05                    -21.54    5     Monday  \n",
              "2006-06-06                    -21.56    6    Tuesday  \n",
              "2006-06-07                    -21.61    7  Wednesday  \n",
              "2006-06-08                    -21.70    8   Thursday  \n",
              "2006-06-09                    -21.77    9     Friday  \n",
              "2006-06-10                    -21.83   10   Saturday  \n",
              "2006-06-11                    -21.87   11     Sunday  \n",
              "2006-06-12                    -21.84   12     Monday  \n",
              "2006-06-13                    -21.93   13    Tuesday  \n",
              "2006-06-14                    -21.99   14  Wednesday  \n",
              "2006-06-15                    -22.06   15   Thursday  \n",
              "2006-06-16                    -22.14   16     Friday  \n",
              "2006-06-17                    -22.14   17   Saturday  \n",
              "2006-06-18                    -22.10   18     Sunday  "
            ]
          },
          "execution_count": 44,
          "metadata": {},
          "output_type": "execute_result"
        }
      ],
      "source": [
        "# determinando el índice podemos usar el slicing...\n",
        "df2['2006-05-18':'2006-06-18']"
      ]
    },
    {
      "cell_type": "code",
      "execution_count": 48,
      "metadata": {
        "colab": {
          "base_uri": "https://localhost:8080/",
          "height": 500
        },
        "id": "wINrrnLZjLSO",
        "outputId": "765dc377-33b0-4d34-f4ab-734bd9aeecb6"
      },
      "outputs": [
        {
          "data": {
            "text/plain": [
              "<Axes: xlabel='time'>"
            ]
          },
          "execution_count": 48,
          "metadata": {},
          "output_type": "execute_result"
        },
        {
          "data": {
            "image/png": "[encoded data removed]",
            "text/plain": [
              "<Figure size 640x480 with 1 Axes>"
            ]
          },
          "metadata": {},
          "output_type": "display_data"
        }
      ],
      "source": [
        "df2['2006-05-18':'2006-06-18'][['Depth_to_Groundwater_P24', 'Depth_to_Groundwater_P25']].plot()"
      ]
    },
    {
      "cell_type": "code",
      "execution_count": 49,
      "metadata": {},
      "outputs": [
        {
          "name": "stdout",
          "output_type": "stream",
          "text": [
            "Defaulting to user installation because normal site-packages is not writeable\n",
            "Requirement already satisfied: statsmodels in c:\\users\\angel resendiz plata\\appdata\\roaming\\python\\python313\\site-packages (0.14.5)\n",
            "Requirement already satisfied: numpy<3,>=1.22.3 in c:\\users\\angel resendiz plata\\appdata\\roaming\\python\\python313\\site-packages (from statsmodels) (2.3.0)\n",
            "Requirement already satisfied: scipy!=1.9.2,>=1.8 in c:\\users\\angel resendiz plata\\appdata\\roaming\\python\\python313\\site-packages (from statsmodels) (1.15.3)\n",
            "Requirement already satisfied: pandas!=2.1.0,>=1.4 in c:\\users\\angel resendiz plata\\appdata\\roaming\\python\\python313\\site-packages (from statsmodels) (2.3.0)\n",
            "Requirement already satisfied: patsy>=0.5.6 in c:\\users\\angel resendiz plata\\appdata\\roaming\\python\\python313\\site-packages (from statsmodels) (1.0.1)\n",
            "Requirement already satisfied: packaging>=21.3 in c:\\users\\angel resendiz plata\\appdata\\roaming\\python\\python313\\site-packages (from statsmodels) (25.0)\n",
            "Requirement already satisfied: python-dateutil>=2.8.2 in c:\\users\\angel resendiz plata\\appdata\\roaming\\python\\python313\\site-packages (from pandas!=2.1.0,>=1.4->statsmodels) (2.9.0.post0)\n",
            "Requirement already satisfied: pytz>=2020.1 in c:\\users\\angel resendiz plata\\appdata\\roaming\\python\\python313\\site-packages (from pandas!=2.1.0,>=1.4->statsmodels) (2025.2)\n",
            "Requirement already satisfied: tzdata>=2022.7 in c:\\users\\angel resendiz plata\\appdata\\roaming\\python\\python313\\site-packages (from pandas!=2.1.0,>=1.4->statsmodels) (2025.2)\n",
            "Requirement already satisfied: six>=1.5 in c:\\users\\angel resendiz plata\\appdata\\roaming\\python\\python313\\site-packages (from python-dateutil>=2.8.2->pandas!=2.1.0,>=1.4->statsmodels) (1.17.0)\n",
            "Note: you may need to restart the kernel to use updated packages.\n"
          ]
        }
      ],
      "source": [
        "pip install statsmodels"
      ]
    },
    {
      "cell_type": "code",
      "execution_count": 51,
      "metadata": {},
      "outputs": [
        {
          "ename": "ValueError",
          "evalue": "could not convert string to float: '14/03/2006'",
          "output_type": "error",
          "traceback": [
            "\u001b[31m---------------------------------------------------------------------------\u001b[39m",
            "\u001b[31mValueError\u001b[39m                                Traceback (most recent call last)",
            "\u001b[32m~\\AppData\\Local\\Temp\\ipykernel_19664\\2313767656.py\u001b[39m in \u001b[36m?\u001b[39m\u001b[34m()\u001b[39m\n\u001b[32m      1\u001b[39m \u001b[38;5;28;01mfrom\u001b[39;00m statsmodels.tsa.seasonal \u001b[38;5;28;01mimport\u001b[39;00m seasonal_decompose\n\u001b[32m      2\u001b[39m \n\u001b[32m----> \u001b[39m\u001b[32m3\u001b[39m decomposition = seasonal_decompose(df2, period = \u001b[32m12\u001b[39m)\n\u001b[32m      4\u001b[39m decomposition\n",
            "\u001b[32m~\\AppData\\Roaming\\Python\\Python313\\site-packages\\statsmodels\\tsa\\seasonal.py\u001b[39m in \u001b[36m?\u001b[39m\u001b[34m(x, model, filt, period, two_sided, extrapolate_trend)\u001b[39m\n\u001b[32m    146\u001b[39m     pw = PandasWrapper(x)\n\u001b[32m    147\u001b[39m     \u001b[38;5;28;01mif\u001b[39;00m period \u001b[38;5;28;01mis\u001b[39;00m \u001b[38;5;28;01mNone\u001b[39;00m:\n\u001b[32m    148\u001b[39m         pfreq = getattr(getattr(x, \u001b[33m\"index\"\u001b[39m, \u001b[38;5;28;01mNone\u001b[39;00m), \u001b[33m\"inferred_freq\"\u001b[39m, \u001b[38;5;28;01mNone\u001b[39;00m)\n\u001b[32m    149\u001b[39m \n\u001b[32m--> \u001b[39m\u001b[32m150\u001b[39m     x = array_like(x, \u001b[33m\"x\"\u001b[39m, maxdim=\u001b[32m2\u001b[39m)\n\u001b[32m    151\u001b[39m     nobs = len(x)\n\u001b[32m    152\u001b[39m \n\u001b[32m    153\u001b[39m     \u001b[38;5;28;01mif\u001b[39;00m \u001b[38;5;28;01mnot\u001b[39;00m np.all(np.isfinite(x)):\n",
            "\u001b[32m~\\AppData\\Roaming\\Python\\Python313\\site-packages\\statsmodels\\tools\\validation\\validation.py\u001b[39m in \u001b[36m?\u001b[39m\u001b[34m(obj, name, dtype, ndim, maxdim, shape, order, contiguous, optional, writeable)\u001b[39m\n\u001b[32m    139\u001b[39m     \u001b[38;5;28;01mif\u001b[39;00m order == \u001b[33m\"C\"\u001b[39m \u001b[38;5;28;01mor\u001b[39;00m contiguous:\n\u001b[32m    140\u001b[39m         reqs += [\u001b[33m\"C\"\u001b[39m]\n\u001b[32m    141\u001b[39m     \u001b[38;5;28;01melif\u001b[39;00m order == \u001b[33m\"F\"\u001b[39m:\n\u001b[32m    142\u001b[39m         reqs += [\u001b[33m\"F\"\u001b[39m]\n\u001b[32m--> \u001b[39m\u001b[32m143\u001b[39m     arr = np.require(obj, dtype=dtype, requirements=reqs)\n\u001b[32m    144\u001b[39m     \u001b[38;5;28;01mif\u001b[39;00m maxdim \u001b[38;5;28;01mis\u001b[39;00m \u001b[38;5;28;01mnot\u001b[39;00m \u001b[38;5;28;01mNone\u001b[39;00m:\n\u001b[32m    145\u001b[39m         \u001b[38;5;28;01mif\u001b[39;00m arr.ndim > maxdim:\n\u001b[32m    146\u001b[39m             msg = f\"{name} must have ndim <= {maxdim}\"\n",
            "\u001b[32m~\\AppData\\Roaming\\Python\\Python313\\site-packages\\numpy\\_core\\_asarray.py\u001b[39m in \u001b[36m?\u001b[39m\u001b[34m(a, dtype, requirements, like)\u001b[39m\n\u001b[32m    122\u001b[39m     \u001b[38;5;28;01melif\u001b[39;00m \u001b[33m'C'\u001b[39m \u001b[38;5;28;01min\u001b[39;00m requirements:\n\u001b[32m    123\u001b[39m         order = \u001b[33m'C'\u001b[39m\n\u001b[32m    124\u001b[39m         requirements.remove(\u001b[33m'C'\u001b[39m)\n\u001b[32m    125\u001b[39m \n\u001b[32m--> \u001b[39m\u001b[32m126\u001b[39m     arr = array(a, dtype=dtype, order=order, copy=\u001b[38;5;28;01mNone\u001b[39;00m, subok=subok)\n\u001b[32m    127\u001b[39m \n\u001b[32m    128\u001b[39m     \u001b[38;5;28;01mfor\u001b[39;00m prop \u001b[38;5;28;01min\u001b[39;00m requirements:\n\u001b[32m    129\u001b[39m         \u001b[38;5;28;01mif\u001b[39;00m \u001b[38;5;28;01mnot\u001b[39;00m arr.flags[prop]:\n",
            "\u001b[32m~\\AppData\\Roaming\\Python\\Python313\\site-packages\\pandas\\core\\generic.py\u001b[39m in \u001b[36m?\u001b[39m\u001b[34m(self, dtype, copy)\u001b[39m\n\u001b[32m   2164\u001b[39m             )\n\u001b[32m   2165\u001b[39m         values = self._values\n\u001b[32m   2166\u001b[39m         \u001b[38;5;28;01mif\u001b[39;00m copy \u001b[38;5;28;01mis\u001b[39;00m \u001b[38;5;28;01mNone\u001b[39;00m:\n\u001b[32m   2167\u001b[39m             \u001b[38;5;66;03m# Note: branch avoids `copy=None` for NumPy 1.x support\u001b[39;00m\n\u001b[32m-> \u001b[39m\u001b[32m2168\u001b[39m             arr = np.asarray(values, dtype=dtype)\n\u001b[32m   2169\u001b[39m         \u001b[38;5;28;01melse\u001b[39;00m:\n\u001b[32m   2170\u001b[39m             arr = np.array(values, dtype=dtype, copy=copy)\n\u001b[32m   2171\u001b[39m \n",
            "\u001b[31mValueError\u001b[39m: could not convert string to float: '14/03/2006'"
          ]
        }
      ],
      "source": [
        "from statsmodels.tsa.seasonal import seasonal_decompose\n",
        "\n",
        "decomposition = seasonal_decompose(df2, period = 12)\n",
        "decomposition"
      ]
    }
  ],
  "metadata": {
    "colab": {
      "provenance": []
    },
    "kernelspec": {
      "display_name": "Python 3",
      "name": "python3"
    },
    "language_info": {
      "codemirror_mode": {
        "name": "ipython",
        "version": 3
      },
      "file_extension": ".py",
      "mimetype": "text/x-python",
      "name": "python",
      "nbconvert_exporter": "python",
      "pygments_lexer": "ipython3",
      "version": "3.13.4"
    }
  },
  "nbformat": 4,
  "nbformat_minor": 0
}
